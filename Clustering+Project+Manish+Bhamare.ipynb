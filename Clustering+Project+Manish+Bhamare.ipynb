{
 "cells": [
  {
   "cell_type": "code",
   "execution_count": 1,
   "id": "00347073",
   "metadata": {
    "ExecuteTime": {
     "end_time": "2022-10-09T14:30:47.121792Z",
     "start_time": "2022-10-09T14:30:42.285187Z"
    }
   },
   "outputs": [],
   "source": [
    "#Import the basic libraries to get started with EDA\n",
    "import numpy as np\n",
    "import pandas as pd\n",
    "import matplotlib.pyplot as plt\n",
    "import seaborn as sns"
   ]
  },
  {
   "cell_type": "markdown",
   "id": "fda18ec5",
   "metadata": {},
   "source": [
    "#### Part 1 - Clustering: Read the data and perform basic analysis such as printing a few rows (head and tail), info, data summary, null values duplicate values, etc."
   ]
  },
  {
   "cell_type": "code",
   "execution_count": 2,
   "id": "8b709dd9",
   "metadata": {
    "ExecuteTime": {
     "end_time": "2022-10-09T14:31:02.945267Z",
     "start_time": "2022-10-09T14:30:47.122898Z"
    }
   },
   "outputs": [],
   "source": [
    "#Read the data\n",
    "df=pd.read_excel(r\"C:\\Users\\dell\\Downloads\\Clustering+Clean+Ads_Data.xlsx\")"
   ]
  },
  {
   "cell_type": "code",
   "execution_count": 3,
   "id": "73b2d784",
   "metadata": {
    "ExecuteTime": {
     "end_time": "2022-10-09T14:31:03.009806Z",
     "start_time": "2022-10-09T14:31:02.945719Z"
    },
    "scrolled": true
   },
   "outputs": [
    {
     "data": {
      "text/html": [
       "<div>\n",
       "<style scoped>\n",
       "    .dataframe tbody tr th:only-of-type {\n",
       "        vertical-align: middle;\n",
       "    }\n",
       "\n",
       "    .dataframe tbody tr th {\n",
       "        vertical-align: top;\n",
       "    }\n",
       "\n",
       "    .dataframe thead th {\n",
       "        text-align: right;\n",
       "    }\n",
       "</style>\n",
       "<table border=\"1\" class=\"dataframe\">\n",
       "  <thead>\n",
       "    <tr style=\"text-align: right;\">\n",
       "      <th></th>\n",
       "      <th>0</th>\n",
       "      <th>1</th>\n",
       "      <th>2</th>\n",
       "      <th>3</th>\n",
       "      <th>4</th>\n",
       "    </tr>\n",
       "  </thead>\n",
       "  <tbody>\n",
       "    <tr>\n",
       "      <th>Timestamp</th>\n",
       "      <td>2020-9-2-17</td>\n",
       "      <td>2020-9-2-18</td>\n",
       "      <td>2020-9-3-16</td>\n",
       "      <td>2020-9-3-2</td>\n",
       "      <td>2020-9-3-13</td>\n",
       "    </tr>\n",
       "    <tr>\n",
       "      <th>InventoryType</th>\n",
       "      <td>Format1</td>\n",
       "      <td>Format1</td>\n",
       "      <td>Format6</td>\n",
       "      <td>Format1</td>\n",
       "      <td>Format1</td>\n",
       "    </tr>\n",
       "    <tr>\n",
       "      <th>Ad - Length</th>\n",
       "      <td>300</td>\n",
       "      <td>300</td>\n",
       "      <td>336</td>\n",
       "      <td>300</td>\n",
       "      <td>300</td>\n",
       "    </tr>\n",
       "    <tr>\n",
       "      <th>Ad- Width</th>\n",
       "      <td>250</td>\n",
       "      <td>250</td>\n",
       "      <td>250</td>\n",
       "      <td>250</td>\n",
       "      <td>250</td>\n",
       "    </tr>\n",
       "    <tr>\n",
       "      <th>Ad Size</th>\n",
       "      <td>75000</td>\n",
       "      <td>75000</td>\n",
       "      <td>84000</td>\n",
       "      <td>75000</td>\n",
       "      <td>75000</td>\n",
       "    </tr>\n",
       "    <tr>\n",
       "      <th>Ad Type</th>\n",
       "      <td>Inter222</td>\n",
       "      <td>Inter223</td>\n",
       "      <td>Inter217</td>\n",
       "      <td>Inter224</td>\n",
       "      <td>Inter225</td>\n",
       "    </tr>\n",
       "    <tr>\n",
       "      <th>Platform</th>\n",
       "      <td>Video</td>\n",
       "      <td>Web</td>\n",
       "      <td>Web</td>\n",
       "      <td>Web</td>\n",
       "      <td>Video</td>\n",
       "    </tr>\n",
       "    <tr>\n",
       "      <th>Device Type</th>\n",
       "      <td>Desktop</td>\n",
       "      <td>Mobile</td>\n",
       "      <td>Desktop</td>\n",
       "      <td>Desktop</td>\n",
       "      <td>Mobile</td>\n",
       "    </tr>\n",
       "    <tr>\n",
       "      <th>Format</th>\n",
       "      <td>Display</td>\n",
       "      <td>Display</td>\n",
       "      <td>Video</td>\n",
       "      <td>Display</td>\n",
       "      <td>Display</td>\n",
       "    </tr>\n",
       "    <tr>\n",
       "      <th>Available_Impressions</th>\n",
       "      <td>1806</td>\n",
       "      <td>1979</td>\n",
       "      <td>1566</td>\n",
       "      <td>643</td>\n",
       "      <td>1550</td>\n",
       "    </tr>\n",
       "    <tr>\n",
       "      <th>Matched_Queries</th>\n",
       "      <td>325</td>\n",
       "      <td>384</td>\n",
       "      <td>298</td>\n",
       "      <td>103</td>\n",
       "      <td>347</td>\n",
       "    </tr>\n",
       "    <tr>\n",
       "      <th>Impressions</th>\n",
       "      <td>323</td>\n",
       "      <td>380</td>\n",
       "      <td>297</td>\n",
       "      <td>102</td>\n",
       "      <td>345</td>\n",
       "    </tr>\n",
       "    <tr>\n",
       "      <th>Clicks</th>\n",
       "      <td>1</td>\n",
       "      <td>0</td>\n",
       "      <td>0</td>\n",
       "      <td>0</td>\n",
       "      <td>0</td>\n",
       "    </tr>\n",
       "    <tr>\n",
       "      <th>Spend</th>\n",
       "      <td>0.0</td>\n",
       "      <td>0.0</td>\n",
       "      <td>0.0</td>\n",
       "      <td>0.0</td>\n",
       "      <td>0.0</td>\n",
       "    </tr>\n",
       "    <tr>\n",
       "      <th>Fee</th>\n",
       "      <td>0.35</td>\n",
       "      <td>0.35</td>\n",
       "      <td>0.35</td>\n",
       "      <td>0.35</td>\n",
       "      <td>0.35</td>\n",
       "    </tr>\n",
       "    <tr>\n",
       "      <th>Revenue</th>\n",
       "      <td>0.0</td>\n",
       "      <td>0.0</td>\n",
       "      <td>0.0</td>\n",
       "      <td>0.0</td>\n",
       "      <td>0.0</td>\n",
       "    </tr>\n",
       "    <tr>\n",
       "      <th>CTR</th>\n",
       "      <td>0.0031</td>\n",
       "      <td>0.0</td>\n",
       "      <td>0.0</td>\n",
       "      <td>0.0</td>\n",
       "      <td>0.0</td>\n",
       "    </tr>\n",
       "    <tr>\n",
       "      <th>CPM</th>\n",
       "      <td>0.0</td>\n",
       "      <td>0.0</td>\n",
       "      <td>0.0</td>\n",
       "      <td>0.0</td>\n",
       "      <td>0.0</td>\n",
       "    </tr>\n",
       "    <tr>\n",
       "      <th>CPC</th>\n",
       "      <td>0.0</td>\n",
       "      <td>NaN</td>\n",
       "      <td>NaN</td>\n",
       "      <td>NaN</td>\n",
       "      <td>NaN</td>\n",
       "    </tr>\n",
       "  </tbody>\n",
       "</table>\n",
       "</div>"
      ],
      "text/plain": [
       "                                 0            1            2           3  \\\n",
       "Timestamp              2020-9-2-17  2020-9-2-18  2020-9-3-16  2020-9-3-2   \n",
       "InventoryType              Format1      Format1      Format6     Format1   \n",
       "Ad - Length                    300          300          336         300   \n",
       "Ad- Width                      250          250          250         250   \n",
       "Ad Size                      75000        75000        84000       75000   \n",
       "Ad Type                   Inter222     Inter223     Inter217    Inter224   \n",
       "Platform                     Video          Web          Web         Web   \n",
       "Device Type                Desktop       Mobile      Desktop     Desktop   \n",
       "Format                     Display      Display        Video     Display   \n",
       "Available_Impressions         1806         1979         1566         643   \n",
       "Matched_Queries                325          384          298         103   \n",
       "Impressions                    323          380          297         102   \n",
       "Clicks                           1            0            0           0   \n",
       "Spend                          0.0          0.0          0.0         0.0   \n",
       "Fee                           0.35         0.35         0.35        0.35   \n",
       "Revenue                        0.0          0.0          0.0         0.0   \n",
       "CTR                         0.0031          0.0          0.0         0.0   \n",
       "CPM                            0.0          0.0          0.0         0.0   \n",
       "CPC                            0.0          NaN          NaN         NaN   \n",
       "\n",
       "                                 4  \n",
       "Timestamp              2020-9-3-13  \n",
       "InventoryType              Format1  \n",
       "Ad - Length                    300  \n",
       "Ad- Width                      250  \n",
       "Ad Size                      75000  \n",
       "Ad Type                   Inter225  \n",
       "Platform                     Video  \n",
       "Device Type                 Mobile  \n",
       "Format                     Display  \n",
       "Available_Impressions         1550  \n",
       "Matched_Queries                347  \n",
       "Impressions                    345  \n",
       "Clicks                           0  \n",
       "Spend                          0.0  \n",
       "Fee                           0.35  \n",
       "Revenue                        0.0  \n",
       "CTR                            0.0  \n",
       "CPM                            0.0  \n",
       "CPC                            NaN  "
      ]
     },
     "execution_count": 3,
     "metadata": {},
     "output_type": "execute_result"
    }
   ],
   "source": [
    "#Check the first few observations\n",
    "df.head().T"
   ]
  },
  {
   "cell_type": "code",
   "execution_count": 4,
   "id": "fd8ce323",
   "metadata": {
    "ExecuteTime": {
     "end_time": "2022-10-09T14:31:03.044234Z",
     "start_time": "2022-10-09T14:31:03.011990Z"
    }
   },
   "outputs": [
    {
     "data": {
      "text/html": [
       "<div>\n",
       "<style scoped>\n",
       "    .dataframe tbody tr th:only-of-type {\n",
       "        vertical-align: middle;\n",
       "    }\n",
       "\n",
       "    .dataframe tbody tr th {\n",
       "        vertical-align: top;\n",
       "    }\n",
       "\n",
       "    .dataframe thead th {\n",
       "        text-align: right;\n",
       "    }\n",
       "</style>\n",
       "<table border=\"1\" class=\"dataframe\">\n",
       "  <thead>\n",
       "    <tr style=\"text-align: right;\">\n",
       "      <th></th>\n",
       "      <th>25852</th>\n",
       "      <th>25853</th>\n",
       "      <th>25854</th>\n",
       "      <th>25855</th>\n",
       "      <th>25856</th>\n",
       "    </tr>\n",
       "  </thead>\n",
       "  <tbody>\n",
       "    <tr>\n",
       "      <th>Timestamp</th>\n",
       "      <td>2020-10-1-5</td>\n",
       "      <td>2020-11-18-2</td>\n",
       "      <td>2020-9-14-0</td>\n",
       "      <td>2020-9-30-4</td>\n",
       "      <td>2020-10-17-3</td>\n",
       "    </tr>\n",
       "    <tr>\n",
       "      <th>InventoryType</th>\n",
       "      <td>Format5</td>\n",
       "      <td>Format4</td>\n",
       "      <td>Format5</td>\n",
       "      <td>Format7</td>\n",
       "      <td>Format5</td>\n",
       "    </tr>\n",
       "    <tr>\n",
       "      <th>Ad - Length</th>\n",
       "      <td>720</td>\n",
       "      <td>120</td>\n",
       "      <td>720</td>\n",
       "      <td>300</td>\n",
       "      <td>720</td>\n",
       "    </tr>\n",
       "    <tr>\n",
       "      <th>Ad- Width</th>\n",
       "      <td>300</td>\n",
       "      <td>600</td>\n",
       "      <td>300</td>\n",
       "      <td>600</td>\n",
       "      <td>300</td>\n",
       "    </tr>\n",
       "    <tr>\n",
       "      <th>Ad Size</th>\n",
       "      <td>216000</td>\n",
       "      <td>72000</td>\n",
       "      <td>216000</td>\n",
       "      <td>180000</td>\n",
       "      <td>216000</td>\n",
       "    </tr>\n",
       "    <tr>\n",
       "      <th>Ad Type</th>\n",
       "      <td>Inter222</td>\n",
       "      <td>inter230</td>\n",
       "      <td>Inter221</td>\n",
       "      <td>Inter228</td>\n",
       "      <td>Inter225</td>\n",
       "    </tr>\n",
       "    <tr>\n",
       "      <th>Platform</th>\n",
       "      <td>Video</td>\n",
       "      <td>Video</td>\n",
       "      <td>App</td>\n",
       "      <td>Video</td>\n",
       "      <td>Video</td>\n",
       "    </tr>\n",
       "    <tr>\n",
       "      <th>Device Type</th>\n",
       "      <td>Desktop</td>\n",
       "      <td>Mobile</td>\n",
       "      <td>Mobile</td>\n",
       "      <td>Mobile</td>\n",
       "      <td>Mobile</td>\n",
       "    </tr>\n",
       "    <tr>\n",
       "      <th>Format</th>\n",
       "      <td>Video</td>\n",
       "      <td>Video</td>\n",
       "      <td>Video</td>\n",
       "      <td>Display</td>\n",
       "      <td>Display</td>\n",
       "    </tr>\n",
       "    <tr>\n",
       "      <th>Available_Impressions</th>\n",
       "      <td>1</td>\n",
       "      <td>7</td>\n",
       "      <td>2</td>\n",
       "      <td>1</td>\n",
       "      <td>1</td>\n",
       "    </tr>\n",
       "    <tr>\n",
       "      <th>Matched_Queries</th>\n",
       "      <td>1</td>\n",
       "      <td>1</td>\n",
       "      <td>2</td>\n",
       "      <td>1</td>\n",
       "      <td>1</td>\n",
       "    </tr>\n",
       "    <tr>\n",
       "      <th>Impressions</th>\n",
       "      <td>1</td>\n",
       "      <td>1</td>\n",
       "      <td>2</td>\n",
       "      <td>1</td>\n",
       "      <td>1</td>\n",
       "    </tr>\n",
       "    <tr>\n",
       "      <th>Clicks</th>\n",
       "      <td>0</td>\n",
       "      <td>1</td>\n",
       "      <td>1</td>\n",
       "      <td>0</td>\n",
       "      <td>0</td>\n",
       "    </tr>\n",
       "    <tr>\n",
       "      <th>Spend</th>\n",
       "      <td>0.01</td>\n",
       "      <td>0.07</td>\n",
       "      <td>0.09</td>\n",
       "      <td>0.01</td>\n",
       "      <td>0.01</td>\n",
       "    </tr>\n",
       "    <tr>\n",
       "      <th>Fee</th>\n",
       "      <td>0.35</td>\n",
       "      <td>0.35</td>\n",
       "      <td>0.35</td>\n",
       "      <td>0.35</td>\n",
       "      <td>0.35</td>\n",
       "    </tr>\n",
       "    <tr>\n",
       "      <th>Revenue</th>\n",
       "      <td>0.0065</td>\n",
       "      <td>0.0455</td>\n",
       "      <td>0.0585</td>\n",
       "      <td>0.0065</td>\n",
       "      <td>0.0065</td>\n",
       "    </tr>\n",
       "    <tr>\n",
       "      <th>CTR</th>\n",
       "      <td>NaN</td>\n",
       "      <td>NaN</td>\n",
       "      <td>NaN</td>\n",
       "      <td>NaN</td>\n",
       "      <td>NaN</td>\n",
       "    </tr>\n",
       "    <tr>\n",
       "      <th>CPM</th>\n",
       "      <td>NaN</td>\n",
       "      <td>NaN</td>\n",
       "      <td>NaN</td>\n",
       "      <td>NaN</td>\n",
       "      <td>NaN</td>\n",
       "    </tr>\n",
       "    <tr>\n",
       "      <th>CPC</th>\n",
       "      <td>NaN</td>\n",
       "      <td>NaN</td>\n",
       "      <td>NaN</td>\n",
       "      <td>NaN</td>\n",
       "      <td>NaN</td>\n",
       "    </tr>\n",
       "  </tbody>\n",
       "</table>\n",
       "</div>"
      ],
      "text/plain": [
       "                             25852         25853        25854        25855  \\\n",
       "Timestamp              2020-10-1-5  2020-11-18-2  2020-9-14-0  2020-9-30-4   \n",
       "InventoryType              Format5       Format4      Format5      Format7   \n",
       "Ad - Length                    720           120          720          300   \n",
       "Ad- Width                      300           600          300          600   \n",
       "Ad Size                     216000         72000       216000       180000   \n",
       "Ad Type                   Inter222      inter230     Inter221     Inter228   \n",
       "Platform                     Video         Video          App        Video   \n",
       "Device Type                Desktop        Mobile       Mobile       Mobile   \n",
       "Format                       Video         Video        Video      Display   \n",
       "Available_Impressions            1             7            2            1   \n",
       "Matched_Queries                  1             1            2            1   \n",
       "Impressions                      1             1            2            1   \n",
       "Clicks                           0             1            1            0   \n",
       "Spend                         0.01          0.07         0.09         0.01   \n",
       "Fee                           0.35          0.35         0.35         0.35   \n",
       "Revenue                     0.0065        0.0455       0.0585       0.0065   \n",
       "CTR                            NaN           NaN          NaN          NaN   \n",
       "CPM                            NaN           NaN          NaN          NaN   \n",
       "CPC                            NaN           NaN          NaN          NaN   \n",
       "\n",
       "                              25856  \n",
       "Timestamp              2020-10-17-3  \n",
       "InventoryType               Format5  \n",
       "Ad - Length                     720  \n",
       "Ad- Width                       300  \n",
       "Ad Size                      216000  \n",
       "Ad Type                    Inter225  \n",
       "Platform                      Video  \n",
       "Device Type                  Mobile  \n",
       "Format                      Display  \n",
       "Available_Impressions             1  \n",
       "Matched_Queries                   1  \n",
       "Impressions                       1  \n",
       "Clicks                            0  \n",
       "Spend                          0.01  \n",
       "Fee                            0.35  \n",
       "Revenue                      0.0065  \n",
       "CTR                             NaN  \n",
       "CPM                             NaN  \n",
       "CPC                             NaN  "
      ]
     },
     "execution_count": 4,
     "metadata": {},
     "output_type": "execute_result"
    }
   ],
   "source": [
    "#Check the last few observations\n",
    "df.tail().T"
   ]
  },
  {
   "cell_type": "markdown",
   "id": "937eb7f3",
   "metadata": {},
   "source": [
    "Checking the shape and information of the dataframe"
   ]
  },
  {
   "cell_type": "code",
   "execution_count": 5,
   "id": "173583f7",
   "metadata": {
    "ExecuteTime": {
     "end_time": "2022-10-09T14:31:03.061694Z",
     "start_time": "2022-10-09T14:31:03.046105Z"
    }
   },
   "outputs": [
    {
     "name": "stdout",
     "output_type": "stream",
     "text": [
      "no. of Rows= 25857\n",
      "no. of Column= 19\n"
     ]
    }
   ],
   "source": [
    "df.shape\n",
    "print('no. of Rows=',df.shape[0])\n",
    "print('no. of Column=',df.shape[1])"
   ]
  },
  {
   "cell_type": "code",
   "execution_count": 6,
   "id": "7a3a5530",
   "metadata": {
    "ExecuteTime": {
     "end_time": "2022-10-09T14:31:03.193835Z",
     "start_time": "2022-10-09T14:31:03.062323Z"
    }
   },
   "outputs": [
    {
     "data": {
      "text/html": [
       "<div>\n",
       "<style scoped>\n",
       "    .dataframe tbody tr th:only-of-type {\n",
       "        vertical-align: middle;\n",
       "    }\n",
       "\n",
       "    .dataframe tbody tr th {\n",
       "        vertical-align: top;\n",
       "    }\n",
       "\n",
       "    .dataframe thead th {\n",
       "        text-align: right;\n",
       "    }\n",
       "</style>\n",
       "<table border=\"1\" class=\"dataframe\">\n",
       "  <thead>\n",
       "    <tr style=\"text-align: right;\">\n",
       "      <th></th>\n",
       "      <th>count</th>\n",
       "      <th>unique</th>\n",
       "      <th>top</th>\n",
       "      <th>freq</th>\n",
       "      <th>mean</th>\n",
       "      <th>std</th>\n",
       "      <th>min</th>\n",
       "      <th>25%</th>\n",
       "      <th>50%</th>\n",
       "      <th>75%</th>\n",
       "      <th>max</th>\n",
       "    </tr>\n",
       "  </thead>\n",
       "  <tbody>\n",
       "    <tr>\n",
       "      <th>Timestamp</th>\n",
       "      <td>25857</td>\n",
       "      <td>2018</td>\n",
       "      <td>2020-10-25-7</td>\n",
       "      <td>13</td>\n",
       "      <td>NaN</td>\n",
       "      <td>NaN</td>\n",
       "      <td>NaN</td>\n",
       "      <td>NaN</td>\n",
       "      <td>NaN</td>\n",
       "      <td>NaN</td>\n",
       "      <td>NaN</td>\n",
       "    </tr>\n",
       "    <tr>\n",
       "      <th>InventoryType</th>\n",
       "      <td>25857</td>\n",
       "      <td>7</td>\n",
       "      <td>Format4</td>\n",
       "      <td>7218</td>\n",
       "      <td>NaN</td>\n",
       "      <td>NaN</td>\n",
       "      <td>NaN</td>\n",
       "      <td>NaN</td>\n",
       "      <td>NaN</td>\n",
       "      <td>NaN</td>\n",
       "      <td>NaN</td>\n",
       "    </tr>\n",
       "    <tr>\n",
       "      <th>Ad - Length</th>\n",
       "      <td>25857.0</td>\n",
       "      <td>NaN</td>\n",
       "      <td>NaN</td>\n",
       "      <td>NaN</td>\n",
       "      <td>390.431218</td>\n",
       "      <td>230.696051</td>\n",
       "      <td>120.0</td>\n",
       "      <td>120.0</td>\n",
       "      <td>300.0</td>\n",
       "      <td>720.0</td>\n",
       "      <td>728.0</td>\n",
       "    </tr>\n",
       "    <tr>\n",
       "      <th>Ad- Width</th>\n",
       "      <td>25857.0</td>\n",
       "      <td>NaN</td>\n",
       "      <td>NaN</td>\n",
       "      <td>NaN</td>\n",
       "      <td>332.182774</td>\n",
       "      <td>194.260924</td>\n",
       "      <td>70.0</td>\n",
       "      <td>250.0</td>\n",
       "      <td>300.0</td>\n",
       "      <td>600.0</td>\n",
       "      <td>600.0</td>\n",
       "    </tr>\n",
       "    <tr>\n",
       "      <th>Ad Size</th>\n",
       "      <td>25857.0</td>\n",
       "      <td>NaN</td>\n",
       "      <td>NaN</td>\n",
       "      <td>NaN</td>\n",
       "      <td>99683.276482</td>\n",
       "      <td>62640.685612</td>\n",
       "      <td>33600.0</td>\n",
       "      <td>72000.0</td>\n",
       "      <td>75000.0</td>\n",
       "      <td>84000.0</td>\n",
       "      <td>216000.0</td>\n",
       "    </tr>\n",
       "    <tr>\n",
       "      <th>Ad Type</th>\n",
       "      <td>25857</td>\n",
       "      <td>14</td>\n",
       "      <td>Inter217</td>\n",
       "      <td>1849</td>\n",
       "      <td>NaN</td>\n",
       "      <td>NaN</td>\n",
       "      <td>NaN</td>\n",
       "      <td>NaN</td>\n",
       "      <td>NaN</td>\n",
       "      <td>NaN</td>\n",
       "      <td>NaN</td>\n",
       "    </tr>\n",
       "    <tr>\n",
       "      <th>Platform</th>\n",
       "      <td>25857</td>\n",
       "      <td>3</td>\n",
       "      <td>Video</td>\n",
       "      <td>11077</td>\n",
       "      <td>NaN</td>\n",
       "      <td>NaN</td>\n",
       "      <td>NaN</td>\n",
       "      <td>NaN</td>\n",
       "      <td>NaN</td>\n",
       "      <td>NaN</td>\n",
       "      <td>NaN</td>\n",
       "    </tr>\n",
       "    <tr>\n",
       "      <th>Device Type</th>\n",
       "      <td>25857</td>\n",
       "      <td>2</td>\n",
       "      <td>Mobile</td>\n",
       "      <td>16621</td>\n",
       "      <td>NaN</td>\n",
       "      <td>NaN</td>\n",
       "      <td>NaN</td>\n",
       "      <td>NaN</td>\n",
       "      <td>NaN</td>\n",
       "      <td>NaN</td>\n",
       "      <td>NaN</td>\n",
       "    </tr>\n",
       "    <tr>\n",
       "      <th>Format</th>\n",
       "      <td>25857</td>\n",
       "      <td>2</td>\n",
       "      <td>Display</td>\n",
       "      <td>12929</td>\n",
       "      <td>NaN</td>\n",
       "      <td>NaN</td>\n",
       "      <td>NaN</td>\n",
       "      <td>NaN</td>\n",
       "      <td>NaN</td>\n",
       "      <td>NaN</td>\n",
       "      <td>NaN</td>\n",
       "    </tr>\n",
       "    <tr>\n",
       "      <th>Available_Impressions</th>\n",
       "      <td>25857.0</td>\n",
       "      <td>NaN</td>\n",
       "      <td>NaN</td>\n",
       "      <td>NaN</td>\n",
       "      <td>2169620.827977</td>\n",
       "      <td>4542680.20339</td>\n",
       "      <td>0.0</td>\n",
       "      <td>9133.0</td>\n",
       "      <td>330968.0</td>\n",
       "      <td>2208484.0</td>\n",
       "      <td>27592861.0</td>\n",
       "    </tr>\n",
       "    <tr>\n",
       "      <th>Matched_Queries</th>\n",
       "      <td>25857.0</td>\n",
       "      <td>NaN</td>\n",
       "      <td>NaN</td>\n",
       "      <td>NaN</td>\n",
       "      <td>1155321.804115</td>\n",
       "      <td>2407243.933858</td>\n",
       "      <td>0.0</td>\n",
       "      <td>5451.0</td>\n",
       "      <td>189449.0</td>\n",
       "      <td>1008171.0</td>\n",
       "      <td>14702025.0</td>\n",
       "    </tr>\n",
       "    <tr>\n",
       "      <th>Impressions</th>\n",
       "      <td>25857.0</td>\n",
       "      <td>NaN</td>\n",
       "      <td>NaN</td>\n",
       "      <td>NaN</td>\n",
       "      <td>1107525.299609</td>\n",
       "      <td>2326647.651344</td>\n",
       "      <td>0.0</td>\n",
       "      <td>2558.0</td>\n",
       "      <td>162162.0</td>\n",
       "      <td>949693.0</td>\n",
       "      <td>14194774.0</td>\n",
       "    </tr>\n",
       "    <tr>\n",
       "      <th>Clicks</th>\n",
       "      <td>25857.0</td>\n",
       "      <td>NaN</td>\n",
       "      <td>NaN</td>\n",
       "      <td>NaN</td>\n",
       "      <td>9525.881386</td>\n",
       "      <td>16721.686071</td>\n",
       "      <td>0.0</td>\n",
       "      <td>305.0</td>\n",
       "      <td>3457.0</td>\n",
       "      <td>10681.0</td>\n",
       "      <td>143049.0</td>\n",
       "    </tr>\n",
       "    <tr>\n",
       "      <th>Spend</th>\n",
       "      <td>25857.0</td>\n",
       "      <td>NaN</td>\n",
       "      <td>NaN</td>\n",
       "      <td>NaN</td>\n",
       "      <td>2414.473115</td>\n",
       "      <td>3932.83524</td>\n",
       "      <td>0.0</td>\n",
       "      <td>36.03</td>\n",
       "      <td>1173.66</td>\n",
       "      <td>2692.28</td>\n",
       "      <td>26931.87</td>\n",
       "    </tr>\n",
       "    <tr>\n",
       "      <th>Fee</th>\n",
       "      <td>25857.0</td>\n",
       "      <td>NaN</td>\n",
       "      <td>NaN</td>\n",
       "      <td>NaN</td>\n",
       "      <td>0.336729</td>\n",
       "      <td>0.03054</td>\n",
       "      <td>0.21</td>\n",
       "      <td>0.35</td>\n",
       "      <td>0.35</td>\n",
       "      <td>0.35</td>\n",
       "      <td>0.35</td>\n",
       "    </tr>\n",
       "    <tr>\n",
       "      <th>Revenue</th>\n",
       "      <td>25857.0</td>\n",
       "      <td>NaN</td>\n",
       "      <td>NaN</td>\n",
       "      <td>NaN</td>\n",
       "      <td>1716.548955</td>\n",
       "      <td>2993.025498</td>\n",
       "      <td>0.0</td>\n",
       "      <td>23.42</td>\n",
       "      <td>762.88</td>\n",
       "      <td>1749.982</td>\n",
       "      <td>21276.18</td>\n",
       "    </tr>\n",
       "    <tr>\n",
       "      <th>CTR</th>\n",
       "      <td>19392.0</td>\n",
       "      <td>NaN</td>\n",
       "      <td>NaN</td>\n",
       "      <td>NaN</td>\n",
       "      <td>0.069627</td>\n",
       "      <td>0.07497</td>\n",
       "      <td>0.0</td>\n",
       "      <td>0.0024</td>\n",
       "      <td>0.0077</td>\n",
       "      <td>0.1283</td>\n",
       "      <td>1.0</td>\n",
       "    </tr>\n",
       "    <tr>\n",
       "      <th>CPM</th>\n",
       "      <td>19392.0</td>\n",
       "      <td>NaN</td>\n",
       "      <td>NaN</td>\n",
       "      <td>NaN</td>\n",
       "      <td>7.2529</td>\n",
       "      <td>6.538314</td>\n",
       "      <td>0.0</td>\n",
       "      <td>1.63</td>\n",
       "      <td>3.035</td>\n",
       "      <td>12.22</td>\n",
       "      <td>81.56</td>\n",
       "    </tr>\n",
       "    <tr>\n",
       "      <th>CPC</th>\n",
       "      <td>18330.0</td>\n",
       "      <td>NaN</td>\n",
       "      <td>NaN</td>\n",
       "      <td>NaN</td>\n",
       "      <td>0.351061</td>\n",
       "      <td>0.343334</td>\n",
       "      <td>0.0</td>\n",
       "      <td>0.09</td>\n",
       "      <td>0.16</td>\n",
       "      <td>0.57</td>\n",
       "      <td>7.26</td>\n",
       "    </tr>\n",
       "  </tbody>\n",
       "</table>\n",
       "</div>"
      ],
      "text/plain": [
       "                         count unique           top   freq            mean  \\\n",
       "Timestamp                25857   2018  2020-10-25-7     13             NaN   \n",
       "InventoryType            25857      7       Format4   7218             NaN   \n",
       "Ad - Length            25857.0    NaN           NaN    NaN      390.431218   \n",
       "Ad- Width              25857.0    NaN           NaN    NaN      332.182774   \n",
       "Ad Size                25857.0    NaN           NaN    NaN    99683.276482   \n",
       "Ad Type                  25857     14      Inter217   1849             NaN   \n",
       "Platform                 25857      3         Video  11077             NaN   \n",
       "Device Type              25857      2        Mobile  16621             NaN   \n",
       "Format                   25857      2       Display  12929             NaN   \n",
       "Available_Impressions  25857.0    NaN           NaN    NaN  2169620.827977   \n",
       "Matched_Queries        25857.0    NaN           NaN    NaN  1155321.804115   \n",
       "Impressions            25857.0    NaN           NaN    NaN  1107525.299609   \n",
       "Clicks                 25857.0    NaN           NaN    NaN     9525.881386   \n",
       "Spend                  25857.0    NaN           NaN    NaN     2414.473115   \n",
       "Fee                    25857.0    NaN           NaN    NaN        0.336729   \n",
       "Revenue                25857.0    NaN           NaN    NaN     1716.548955   \n",
       "CTR                    19392.0    NaN           NaN    NaN        0.069627   \n",
       "CPM                    19392.0    NaN           NaN    NaN          7.2529   \n",
       "CPC                    18330.0    NaN           NaN    NaN        0.351061   \n",
       "\n",
       "                                  std      min      25%       50%        75%  \\\n",
       "Timestamp                         NaN      NaN      NaN       NaN        NaN   \n",
       "InventoryType                     NaN      NaN      NaN       NaN        NaN   \n",
       "Ad - Length                230.696051    120.0    120.0     300.0      720.0   \n",
       "Ad- Width                  194.260924     70.0    250.0     300.0      600.0   \n",
       "Ad Size                  62640.685612  33600.0  72000.0   75000.0    84000.0   \n",
       "Ad Type                           NaN      NaN      NaN       NaN        NaN   \n",
       "Platform                          NaN      NaN      NaN       NaN        NaN   \n",
       "Device Type                       NaN      NaN      NaN       NaN        NaN   \n",
       "Format                            NaN      NaN      NaN       NaN        NaN   \n",
       "Available_Impressions   4542680.20339      0.0   9133.0  330968.0  2208484.0   \n",
       "Matched_Queries        2407243.933858      0.0   5451.0  189449.0  1008171.0   \n",
       "Impressions            2326647.651344      0.0   2558.0  162162.0   949693.0   \n",
       "Clicks                   16721.686071      0.0    305.0    3457.0    10681.0   \n",
       "Spend                      3932.83524      0.0    36.03   1173.66    2692.28   \n",
       "Fee                           0.03054     0.21     0.35      0.35       0.35   \n",
       "Revenue                   2993.025498      0.0    23.42    762.88   1749.982   \n",
       "CTR                           0.07497      0.0   0.0024    0.0077     0.1283   \n",
       "CPM                          6.538314      0.0     1.63     3.035      12.22   \n",
       "CPC                          0.343334      0.0     0.09      0.16       0.57   \n",
       "\n",
       "                              max  \n",
       "Timestamp                     NaN  \n",
       "InventoryType                 NaN  \n",
       "Ad - Length                 728.0  \n",
       "Ad- Width                   600.0  \n",
       "Ad Size                  216000.0  \n",
       "Ad Type                       NaN  \n",
       "Platform                      NaN  \n",
       "Device Type                   NaN  \n",
       "Format                        NaN  \n",
       "Available_Impressions  27592861.0  \n",
       "Matched_Queries        14702025.0  \n",
       "Impressions            14194774.0  \n",
       "Clicks                   143049.0  \n",
       "Spend                    26931.87  \n",
       "Fee                          0.35  \n",
       "Revenue                  21276.18  \n",
       "CTR                           1.0  \n",
       "CPM                         81.56  \n",
       "CPC                          7.26  "
      ]
     },
     "execution_count": 6,
     "metadata": {},
     "output_type": "execute_result"
    }
   ],
   "source": [
    "df.describe(include='all').T"
   ]
  },
  {
   "cell_type": "code",
   "execution_count": 7,
   "id": "f80176eb",
   "metadata": {
    "ExecuteTime": {
     "end_time": "2022-10-09T14:31:03.277080Z",
     "start_time": "2022-10-09T14:31:03.195411Z"
    }
   },
   "outputs": [
    {
     "name": "stdout",
     "output_type": "stream",
     "text": [
      "<class 'pandas.core.frame.DataFrame'>\n",
      "RangeIndex: 25857 entries, 0 to 25856\n",
      "Data columns (total 19 columns):\n",
      " #   Column                 Non-Null Count  Dtype  \n",
      "---  ------                 --------------  -----  \n",
      " 0   Timestamp              25857 non-null  object \n",
      " 1   InventoryType          25857 non-null  object \n",
      " 2   Ad - Length            25857 non-null  int64  \n",
      " 3   Ad- Width              25857 non-null  int64  \n",
      " 4   Ad Size                25857 non-null  int64  \n",
      " 5   Ad Type                25857 non-null  object \n",
      " 6   Platform               25857 non-null  object \n",
      " 7   Device Type            25857 non-null  object \n",
      " 8   Format                 25857 non-null  object \n",
      " 9   Available_Impressions  25857 non-null  int64  \n",
      " 10  Matched_Queries        25857 non-null  int64  \n",
      " 11  Impressions            25857 non-null  int64  \n",
      " 12  Clicks                 25857 non-null  int64  \n",
      " 13  Spend                  25857 non-null  float64\n",
      " 14  Fee                    25857 non-null  float64\n",
      " 15  Revenue                25857 non-null  float64\n",
      " 16  CTR                    19392 non-null  float64\n",
      " 17  CPM                    19392 non-null  float64\n",
      " 18  CPC                    18330 non-null  float64\n",
      "dtypes: float64(6), int64(7), object(6)\n",
      "memory usage: 3.7+ MB\n"
     ]
    }
   ],
   "source": [
    "#Check the appropriateness of datatypes\n",
    "df.info()"
   ]
  },
  {
   "cell_type": "code",
   "execution_count": 8,
   "id": "50e7b5c9",
   "metadata": {
    "ExecuteTime": {
     "end_time": "2022-10-09T14:31:03.361319Z",
     "start_time": "2022-10-09T14:31:03.278918Z"
    }
   },
   "outputs": [
    {
     "data": {
      "text/plain": [
       "0"
      ]
     },
     "execution_count": 8,
     "metadata": {},
     "output_type": "execute_result"
    }
   ],
   "source": [
    "#Check for presence of duplicate rows\n",
    "df.duplicated().sum()"
   ]
  },
  {
   "cell_type": "code",
   "execution_count": 9,
   "id": "68d8b02a",
   "metadata": {
    "ExecuteTime": {
     "end_time": "2022-10-09T14:31:03.428551Z",
     "start_time": "2022-10-09T14:31:03.366327Z"
    }
   },
   "outputs": [
    {
     "data": {
      "text/plain": [
       "Timestamp                   0\n",
       "InventoryType               0\n",
       "Ad - Length                 0\n",
       "Ad- Width                   0\n",
       "Ad Size                     0\n",
       "Ad Type                     0\n",
       "Platform                    0\n",
       "Device Type                 0\n",
       "Format                      0\n",
       "Available_Impressions       0\n",
       "Matched_Queries             0\n",
       "Impressions                 0\n",
       "Clicks                      0\n",
       "Spend                       0\n",
       "Fee                         0\n",
       "Revenue                     0\n",
       "CTR                      6465\n",
       "CPM                      6465\n",
       "CPC                      7527\n",
       "dtype: int64"
      ]
     },
     "execution_count": 9,
     "metadata": {},
     "output_type": "execute_result"
    }
   ],
   "source": [
    "#Check for presence of missing values in each feature\n",
    "df.isnull().sum()"
   ]
  },
  {
   "cell_type": "markdown",
   "id": "1c2eec63",
   "metadata": {},
   "source": [
    "### Clustering: Treat missing values in CPC, CTR and CPM using the formula given."
   ]
  },
  {
   "cell_type": "code",
   "execution_count": 10,
   "id": "f322854a",
   "metadata": {
    "ExecuteTime": {
     "end_time": "2022-10-09T14:31:03.444870Z",
     "start_time": "2022-10-09T14:31:03.428551Z"
    }
   },
   "outputs": [],
   "source": [
    "def cal_CPM(x):\n",
    "    Spend=df.Spend\n",
    "    Impressions=df.Impressions\n",
    "    CPM=(Spend/Impressions)*1000\n",
    "    return CPM"
   ]
  },
  {
   "cell_type": "code",
   "execution_count": 11,
   "id": "1c80ac9d",
   "metadata": {
    "ExecuteTime": {
     "end_time": "2022-10-09T14:31:03.479913Z",
     "start_time": "2022-10-09T14:31:03.444870Z"
    }
   },
   "outputs": [],
   "source": [
    "df['CPM']=df[['CPM']].apply(lambda x: cal_CPM(x)).round(2)"
   ]
  },
  {
   "cell_type": "code",
   "execution_count": 12,
   "id": "a123120e",
   "metadata": {
    "ExecuteTime": {
     "end_time": "2022-10-09T14:31:03.510464Z",
     "start_time": "2022-10-09T14:31:03.493272Z"
    }
   },
   "outputs": [],
   "source": [
    "def cal_CPC(x1):\n",
    "    Spend=df.Spend\n",
    "    Clicks=df.Clicks\n",
    "    CPC=(Spend/Clicks)\n",
    "    return CPC"
   ]
  },
  {
   "cell_type": "code",
   "execution_count": 13,
   "id": "6652a01f",
   "metadata": {
    "ExecuteTime": {
     "end_time": "2022-10-09T14:31:03.544188Z",
     "start_time": "2022-10-09T14:31:03.512035Z"
    }
   },
   "outputs": [],
   "source": [
    "df['CPC']=df[['CPC']].apply(lambda x1: cal_CPC(x1)).round(2)"
   ]
  },
  {
   "cell_type": "code",
   "execution_count": 14,
   "id": "be325fee",
   "metadata": {
    "ExecuteTime": {
     "end_time": "2022-10-09T14:31:03.559829Z",
     "start_time": "2022-10-09T14:31:03.544588Z"
    }
   },
   "outputs": [],
   "source": [
    "def cal_CTR(x2):\n",
    "    Clicks=df.Clicks\n",
    "    Impressions=df.Impressions\n",
    "    CTR=(Clicks/Impressions)*100\n",
    "    return CTR"
   ]
  },
  {
   "cell_type": "code",
   "execution_count": 15,
   "id": "95f7b402",
   "metadata": {
    "ExecuteTime": {
     "end_time": "2022-10-09T14:31:03.594519Z",
     "start_time": "2022-10-09T14:31:03.561465Z"
    }
   },
   "outputs": [],
   "source": [
    "df['CTR']=df[['CTR']].apply(lambda x2: cal_CTR(x2)).round(2)"
   ]
  },
  {
   "cell_type": "code",
   "execution_count": 16,
   "id": "d439916c",
   "metadata": {
    "ExecuteTime": {
     "end_time": "2022-10-09T14:31:03.660677Z",
     "start_time": "2022-10-09T14:31:03.595358Z"
    }
   },
   "outputs": [
    {
     "data": {
      "text/plain": [
       "Timestamp                   0\n",
       "InventoryType               0\n",
       "Ad - Length                 0\n",
       "Ad- Width                   0\n",
       "Ad Size                     0\n",
       "Ad Type                     0\n",
       "Platform                    0\n",
       "Device Type                 0\n",
       "Format                      0\n",
       "Available_Impressions       0\n",
       "Matched_Queries             0\n",
       "Impressions                 0\n",
       "Clicks                      0\n",
       "Spend                       0\n",
       "Fee                         0\n",
       "Revenue                     0\n",
       "CTR                       219\n",
       "CPM                       219\n",
       "CPC                      2586\n",
       "dtype: int64"
      ]
     },
     "execution_count": 16,
     "metadata": {},
     "output_type": "execute_result"
    }
   ],
   "source": [
    "df.isnull().sum()"
   ]
  },
  {
   "cell_type": "code",
   "execution_count": 17,
   "id": "b0494f3a",
   "metadata": {
    "ExecuteTime": {
     "end_time": "2022-10-09T14:31:03.676279Z",
     "start_time": "2022-10-09T14:31:03.661005Z"
    }
   },
   "outputs": [],
   "source": [
    "df['CTR'] = df['CTR'].fillna (0)\n",
    "df['CPM'] = df['CPM'].fillna (0)\n",
    "df['CPC'] = df['CPC'].fillna (0)"
   ]
  },
  {
   "cell_type": "code",
   "execution_count": 18,
   "id": "473a301b",
   "metadata": {
    "ExecuteTime": {
     "end_time": "2022-10-09T14:31:03.743854Z",
     "start_time": "2022-10-09T14:31:03.677582Z"
    }
   },
   "outputs": [
    {
     "data": {
      "text/plain": [
       "Timestamp                0\n",
       "InventoryType            0\n",
       "Ad - Length              0\n",
       "Ad- Width                0\n",
       "Ad Size                  0\n",
       "Ad Type                  0\n",
       "Platform                 0\n",
       "Device Type              0\n",
       "Format                   0\n",
       "Available_Impressions    0\n",
       "Matched_Queries          0\n",
       "Impressions              0\n",
       "Clicks                   0\n",
       "Spend                    0\n",
       "Fee                      0\n",
       "Revenue                  0\n",
       "CTR                      0\n",
       "CPM                      0\n",
       "CPC                      0\n",
       "dtype: int64"
      ]
     },
     "execution_count": 18,
     "metadata": {},
     "output_type": "execute_result"
    }
   ],
   "source": [
    "df.isna().sum()"
   ]
  },
  {
   "cell_type": "code",
   "execution_count": 19,
   "id": "e621bd39",
   "metadata": {
    "ExecuteTime": {
     "end_time": "2022-10-09T14:31:03.825000Z",
     "start_time": "2022-10-09T14:31:03.744183Z"
    }
   },
   "outputs": [],
   "source": [
    "df.replace([np.inf, -np.inf], np.nan, inplace=True)"
   ]
  },
  {
   "cell_type": "code",
   "execution_count": 20,
   "id": "07cd7a7d",
   "metadata": {
    "ExecuteTime": {
     "end_time": "2022-10-09T14:31:03.893908Z",
     "start_time": "2022-10-09T14:31:03.827798Z"
    }
   },
   "outputs": [
    {
     "data": {
      "text/plain": [
       "Timestamp                  0\n",
       "InventoryType              0\n",
       "Ad - Length                0\n",
       "Ad- Width                  0\n",
       "Ad Size                    0\n",
       "Ad Type                    0\n",
       "Platform                   0\n",
       "Device Type                0\n",
       "Format                     0\n",
       "Available_Impressions      0\n",
       "Matched_Queries            0\n",
       "Impressions                0\n",
       "Clicks                     0\n",
       "Spend                      0\n",
       "Fee                        0\n",
       "Revenue                    0\n",
       "CTR                        0\n",
       "CPM                        0\n",
       "CPC                      205\n",
       "dtype: int64"
      ]
     },
     "execution_count": 20,
     "metadata": {},
     "output_type": "execute_result"
    }
   ],
   "source": [
    "df.isna().sum()"
   ]
  },
  {
   "cell_type": "code",
   "execution_count": 21,
   "id": "74806d63",
   "metadata": {
    "ExecuteTime": {
     "end_time": "2022-10-09T14:31:03.909603Z",
     "start_time": "2022-10-09T14:31:03.893908Z"
    }
   },
   "outputs": [],
   "source": [
    "df['CPC']= df['CPC'].fillna (0)"
   ]
  },
  {
   "cell_type": "code",
   "execution_count": 22,
   "id": "32e4f5cd",
   "metadata": {
    "ExecuteTime": {
     "end_time": "2022-10-09T14:31:04.029043Z",
     "start_time": "2022-10-09T14:31:03.911580Z"
    }
   },
   "outputs": [
    {
     "data": {
      "text/html": [
       "<div>\n",
       "<style scoped>\n",
       "    .dataframe tbody tr th:only-of-type {\n",
       "        vertical-align: middle;\n",
       "    }\n",
       "\n",
       "    .dataframe tbody tr th {\n",
       "        vertical-align: top;\n",
       "    }\n",
       "\n",
       "    .dataframe thead th {\n",
       "        text-align: right;\n",
       "    }\n",
       "</style>\n",
       "<table border=\"1\" class=\"dataframe\">\n",
       "  <thead>\n",
       "    <tr style=\"text-align: right;\">\n",
       "      <th></th>\n",
       "      <th>Ad - Length</th>\n",
       "      <th>Ad- Width</th>\n",
       "      <th>Ad Size</th>\n",
       "      <th>Available_Impressions</th>\n",
       "      <th>Matched_Queries</th>\n",
       "      <th>Impressions</th>\n",
       "      <th>Clicks</th>\n",
       "      <th>Spend</th>\n",
       "      <th>Fee</th>\n",
       "      <th>Revenue</th>\n",
       "      <th>CTR</th>\n",
       "      <th>CPM</th>\n",
       "      <th>CPC</th>\n",
       "    </tr>\n",
       "  </thead>\n",
       "  <tbody>\n",
       "    <tr>\n",
       "      <th>count</th>\n",
       "      <td>25857.00</td>\n",
       "      <td>25857.00</td>\n",
       "      <td>25857.00</td>\n",
       "      <td>25857.00</td>\n",
       "      <td>25857.00</td>\n",
       "      <td>25857.00</td>\n",
       "      <td>25857.00</td>\n",
       "      <td>25857.00</td>\n",
       "      <td>25857.00</td>\n",
       "      <td>25857.00</td>\n",
       "      <td>25857.00</td>\n",
       "      <td>25857.00</td>\n",
       "      <td>25857.00</td>\n",
       "    </tr>\n",
       "    <tr>\n",
       "      <th>mean</th>\n",
       "      <td>390.43</td>\n",
       "      <td>332.18</td>\n",
       "      <td>99683.28</td>\n",
       "      <td>2169620.83</td>\n",
       "      <td>1155321.80</td>\n",
       "      <td>1107525.30</td>\n",
       "      <td>9525.88</td>\n",
       "      <td>2414.47</td>\n",
       "      <td>0.34</td>\n",
       "      <td>1716.55</td>\n",
       "      <td>7.50</td>\n",
       "      <td>7.52</td>\n",
       "      <td>0.30</td>\n",
       "    </tr>\n",
       "    <tr>\n",
       "      <th>std</th>\n",
       "      <td>230.70</td>\n",
       "      <td>194.26</td>\n",
       "      <td>62640.69</td>\n",
       "      <td>4542680.20</td>\n",
       "      <td>2407243.93</td>\n",
       "      <td>2326647.65</td>\n",
       "      <td>16721.69</td>\n",
       "      <td>3932.84</td>\n",
       "      <td>0.03</td>\n",
       "      <td>2993.03</td>\n",
       "      <td>9.13</td>\n",
       "      <td>8.93</td>\n",
       "      <td>0.34</td>\n",
       "    </tr>\n",
       "    <tr>\n",
       "      <th>min</th>\n",
       "      <td>120.00</td>\n",
       "      <td>70.00</td>\n",
       "      <td>33600.00</td>\n",
       "      <td>0.00</td>\n",
       "      <td>0.00</td>\n",
       "      <td>0.00</td>\n",
       "      <td>0.00</td>\n",
       "      <td>0.00</td>\n",
       "      <td>0.21</td>\n",
       "      <td>0.00</td>\n",
       "      <td>0.00</td>\n",
       "      <td>0.00</td>\n",
       "      <td>0.00</td>\n",
       "    </tr>\n",
       "    <tr>\n",
       "      <th>25%</th>\n",
       "      <td>120.00</td>\n",
       "      <td>250.00</td>\n",
       "      <td>72000.00</td>\n",
       "      <td>9133.00</td>\n",
       "      <td>5451.00</td>\n",
       "      <td>2558.00</td>\n",
       "      <td>305.00</td>\n",
       "      <td>36.03</td>\n",
       "      <td>0.35</td>\n",
       "      <td>23.42</td>\n",
       "      <td>0.23</td>\n",
       "      <td>1.57</td>\n",
       "      <td>0.08</td>\n",
       "    </tr>\n",
       "    <tr>\n",
       "      <th>50%</th>\n",
       "      <td>300.00</td>\n",
       "      <td>300.00</td>\n",
       "      <td>75000.00</td>\n",
       "      <td>330968.00</td>\n",
       "      <td>189449.00</td>\n",
       "      <td>162162.00</td>\n",
       "      <td>3457.00</td>\n",
       "      <td>1173.66</td>\n",
       "      <td>0.35</td>\n",
       "      <td>762.88</td>\n",
       "      <td>0.72</td>\n",
       "      <td>2.96</td>\n",
       "      <td>0.12</td>\n",
       "    </tr>\n",
       "    <tr>\n",
       "      <th>75%</th>\n",
       "      <td>720.00</td>\n",
       "      <td>600.00</td>\n",
       "      <td>84000.00</td>\n",
       "      <td>2208484.00</td>\n",
       "      <td>1008171.00</td>\n",
       "      <td>949693.00</td>\n",
       "      <td>10681.00</td>\n",
       "      <td>2692.28</td>\n",
       "      <td>0.35</td>\n",
       "      <td>1749.98</td>\n",
       "      <td>13.06</td>\n",
       "      <td>12.45</td>\n",
       "      <td>0.50</td>\n",
       "    </tr>\n",
       "    <tr>\n",
       "      <th>max</th>\n",
       "      <td>728.00</td>\n",
       "      <td>600.00</td>\n",
       "      <td>216000.00</td>\n",
       "      <td>27592861.00</td>\n",
       "      <td>14702025.00</td>\n",
       "      <td>14194774.00</td>\n",
       "      <td>143049.00</td>\n",
       "      <td>26931.87</td>\n",
       "      <td>0.35</td>\n",
       "      <td>21276.18</td>\n",
       "      <td>200.00</td>\n",
       "      <td>715.00</td>\n",
       "      <td>7.26</td>\n",
       "    </tr>\n",
       "  </tbody>\n",
       "</table>\n",
       "</div>"
      ],
      "text/plain": [
       "       Ad - Length  Ad- Width    Ad Size  Available_Impressions  \\\n",
       "count     25857.00   25857.00   25857.00               25857.00   \n",
       "mean        390.43     332.18   99683.28             2169620.83   \n",
       "std         230.70     194.26   62640.69             4542680.20   \n",
       "min         120.00      70.00   33600.00                   0.00   \n",
       "25%         120.00     250.00   72000.00                9133.00   \n",
       "50%         300.00     300.00   75000.00              330968.00   \n",
       "75%         720.00     600.00   84000.00             2208484.00   \n",
       "max         728.00     600.00  216000.00            27592861.00   \n",
       "\n",
       "       Matched_Queries  Impressions     Clicks     Spend       Fee   Revenue  \\\n",
       "count         25857.00     25857.00   25857.00  25857.00  25857.00  25857.00   \n",
       "mean        1155321.80   1107525.30    9525.88   2414.47      0.34   1716.55   \n",
       "std         2407243.93   2326647.65   16721.69   3932.84      0.03   2993.03   \n",
       "min               0.00         0.00       0.00      0.00      0.21      0.00   \n",
       "25%            5451.00      2558.00     305.00     36.03      0.35     23.42   \n",
       "50%          189449.00    162162.00    3457.00   1173.66      0.35    762.88   \n",
       "75%         1008171.00    949693.00   10681.00   2692.28      0.35   1749.98   \n",
       "max        14702025.00  14194774.00  143049.00  26931.87      0.35  21276.18   \n",
       "\n",
       "            CTR       CPM       CPC  \n",
       "count  25857.00  25857.00  25857.00  \n",
       "mean       7.50      7.52      0.30  \n",
       "std        9.13      8.93      0.34  \n",
       "min        0.00      0.00      0.00  \n",
       "25%        0.23      1.57      0.08  \n",
       "50%        0.72      2.96      0.12  \n",
       "75%       13.06     12.45      0.50  \n",
       "max      200.00    715.00      7.26  "
      ]
     },
     "execution_count": 22,
     "metadata": {},
     "output_type": "execute_result"
    }
   ],
   "source": [
    "df.describe().round(2)"
   ]
  },
  {
   "cell_type": "markdown",
   "id": "956c4281",
   "metadata": {
    "ExecuteTime": {
     "end_time": "2022-10-04T14:30:31.085287Z",
     "start_time": "2022-10-04T14:30:31.065284Z"
    }
   },
   "source": [
    "# Removing the Timestamp column and storing the result in new object df1"
   ]
  },
  {
   "cell_type": "code",
   "execution_count": 23,
   "id": "ae8b055d",
   "metadata": {
    "ExecuteTime": {
     "end_time": "2022-10-09T14:31:04.060529Z",
     "start_time": "2022-10-09T14:31:04.029043Z"
    }
   },
   "outputs": [],
   "source": [
    "df1 =df.drop(['Timestamp','InventoryType','Ad Type','Platform','Device Type','Format'], axis=1) "
   ]
  },
  {
   "cell_type": "code",
   "execution_count": 24,
   "id": "600e8071",
   "metadata": {
    "ExecuteTime": {
     "end_time": "2022-10-09T14:31:04.075920Z",
     "start_time": "2022-10-09T14:31:04.060529Z"
    }
   },
   "outputs": [
    {
     "name": "stdout",
     "output_type": "stream",
     "text": [
      "no. of Rows= 25857\n",
      "no. of Column= 13\n"
     ]
    }
   ],
   "source": [
    "df1.shape\n",
    "print('no. of Rows=',df1.shape[0])\n",
    "print('no. of Column=',df1.shape[1])"
   ]
  },
  {
   "cell_type": "code",
   "execution_count": 25,
   "id": "fb7f3228",
   "metadata": {
    "ExecuteTime": {
     "end_time": "2022-10-09T14:31:04.127100Z",
     "start_time": "2022-10-09T14:31:04.078202Z"
    }
   },
   "outputs": [
    {
     "data": {
      "text/html": [
       "<div>\n",
       "<style scoped>\n",
       "    .dataframe tbody tr th:only-of-type {\n",
       "        vertical-align: middle;\n",
       "    }\n",
       "\n",
       "    .dataframe tbody tr th {\n",
       "        vertical-align: top;\n",
       "    }\n",
       "\n",
       "    .dataframe thead th {\n",
       "        text-align: right;\n",
       "    }\n",
       "</style>\n",
       "<table border=\"1\" class=\"dataframe\">\n",
       "  <thead>\n",
       "    <tr style=\"text-align: right;\">\n",
       "      <th></th>\n",
       "      <th>Ad - Length</th>\n",
       "      <th>Ad- Width</th>\n",
       "      <th>Ad Size</th>\n",
       "      <th>Available_Impressions</th>\n",
       "      <th>Matched_Queries</th>\n",
       "      <th>Impressions</th>\n",
       "      <th>Clicks</th>\n",
       "      <th>Spend</th>\n",
       "      <th>Fee</th>\n",
       "      <th>Revenue</th>\n",
       "      <th>CTR</th>\n",
       "      <th>CPM</th>\n",
       "      <th>CPC</th>\n",
       "    </tr>\n",
       "  </thead>\n",
       "  <tbody>\n",
       "    <tr>\n",
       "      <th>0</th>\n",
       "      <td>300</td>\n",
       "      <td>250</td>\n",
       "      <td>75000</td>\n",
       "      <td>1806</td>\n",
       "      <td>325</td>\n",
       "      <td>323</td>\n",
       "      <td>1</td>\n",
       "      <td>0.0</td>\n",
       "      <td>0.35</td>\n",
       "      <td>0.0</td>\n",
       "      <td>0.31</td>\n",
       "      <td>0.0</td>\n",
       "      <td>0.0</td>\n",
       "    </tr>\n",
       "    <tr>\n",
       "      <th>1</th>\n",
       "      <td>300</td>\n",
       "      <td>250</td>\n",
       "      <td>75000</td>\n",
       "      <td>1979</td>\n",
       "      <td>384</td>\n",
       "      <td>380</td>\n",
       "      <td>0</td>\n",
       "      <td>0.0</td>\n",
       "      <td>0.35</td>\n",
       "      <td>0.0</td>\n",
       "      <td>0.00</td>\n",
       "      <td>0.0</td>\n",
       "      <td>0.0</td>\n",
       "    </tr>\n",
       "    <tr>\n",
       "      <th>2</th>\n",
       "      <td>336</td>\n",
       "      <td>250</td>\n",
       "      <td>84000</td>\n",
       "      <td>1566</td>\n",
       "      <td>298</td>\n",
       "      <td>297</td>\n",
       "      <td>0</td>\n",
       "      <td>0.0</td>\n",
       "      <td>0.35</td>\n",
       "      <td>0.0</td>\n",
       "      <td>0.00</td>\n",
       "      <td>0.0</td>\n",
       "      <td>0.0</td>\n",
       "    </tr>\n",
       "    <tr>\n",
       "      <th>3</th>\n",
       "      <td>300</td>\n",
       "      <td>250</td>\n",
       "      <td>75000</td>\n",
       "      <td>643</td>\n",
       "      <td>103</td>\n",
       "      <td>102</td>\n",
       "      <td>0</td>\n",
       "      <td>0.0</td>\n",
       "      <td>0.35</td>\n",
       "      <td>0.0</td>\n",
       "      <td>0.00</td>\n",
       "      <td>0.0</td>\n",
       "      <td>0.0</td>\n",
       "    </tr>\n",
       "    <tr>\n",
       "      <th>4</th>\n",
       "      <td>300</td>\n",
       "      <td>250</td>\n",
       "      <td>75000</td>\n",
       "      <td>1550</td>\n",
       "      <td>347</td>\n",
       "      <td>345</td>\n",
       "      <td>0</td>\n",
       "      <td>0.0</td>\n",
       "      <td>0.35</td>\n",
       "      <td>0.0</td>\n",
       "      <td>0.00</td>\n",
       "      <td>0.0</td>\n",
       "      <td>0.0</td>\n",
       "    </tr>\n",
       "  </tbody>\n",
       "</table>\n",
       "</div>"
      ],
      "text/plain": [
       "   Ad - Length  Ad- Width  Ad Size  Available_Impressions  Matched_Queries  \\\n",
       "0          300        250    75000                   1806              325   \n",
       "1          300        250    75000                   1979              384   \n",
       "2          336        250    84000                   1566              298   \n",
       "3          300        250    75000                    643              103   \n",
       "4          300        250    75000                   1550              347   \n",
       "\n",
       "   Impressions  Clicks  Spend   Fee  Revenue   CTR  CPM  CPC  \n",
       "0          323       1    0.0  0.35      0.0  0.31  0.0  0.0  \n",
       "1          380       0    0.0  0.35      0.0  0.00  0.0  0.0  \n",
       "2          297       0    0.0  0.35      0.0  0.00  0.0  0.0  \n",
       "3          102       0    0.0  0.35      0.0  0.00  0.0  0.0  \n",
       "4          345       0    0.0  0.35      0.0  0.00  0.0  0.0  "
      ]
     },
     "execution_count": 25,
     "metadata": {},
     "output_type": "execute_result"
    }
   ],
   "source": [
    "# checking of removal of column\n",
    "df1.head()"
   ]
  },
  {
   "cell_type": "code",
   "execution_count": 26,
   "id": "88a05701",
   "metadata": {
    "ExecuteTime": {
     "end_time": "2022-10-09T14:31:04.258946Z",
     "start_time": "2022-10-09T14:31:04.127100Z"
    }
   },
   "outputs": [
    {
     "data": {
      "text/html": [
       "<div>\n",
       "<style scoped>\n",
       "    .dataframe tbody tr th:only-of-type {\n",
       "        vertical-align: middle;\n",
       "    }\n",
       "\n",
       "    .dataframe tbody tr th {\n",
       "        vertical-align: top;\n",
       "    }\n",
       "\n",
       "    .dataframe thead th {\n",
       "        text-align: right;\n",
       "    }\n",
       "</style>\n",
       "<table border=\"1\" class=\"dataframe\">\n",
       "  <thead>\n",
       "    <tr style=\"text-align: right;\">\n",
       "      <th></th>\n",
       "      <th>Ad - Length</th>\n",
       "      <th>Ad- Width</th>\n",
       "      <th>Ad Size</th>\n",
       "      <th>Available_Impressions</th>\n",
       "      <th>Matched_Queries</th>\n",
       "      <th>Impressions</th>\n",
       "      <th>Clicks</th>\n",
       "      <th>Spend</th>\n",
       "      <th>Fee</th>\n",
       "      <th>Revenue</th>\n",
       "      <th>CTR</th>\n",
       "      <th>CPM</th>\n",
       "      <th>CPC</th>\n",
       "    </tr>\n",
       "  </thead>\n",
       "  <tbody>\n",
       "    <tr>\n",
       "      <th>count</th>\n",
       "      <td>25857.00</td>\n",
       "      <td>25857.00</td>\n",
       "      <td>25857.00</td>\n",
       "      <td>25857.00</td>\n",
       "      <td>25857.00</td>\n",
       "      <td>25857.00</td>\n",
       "      <td>25857.00</td>\n",
       "      <td>25857.00</td>\n",
       "      <td>25857.00</td>\n",
       "      <td>25857.00</td>\n",
       "      <td>25857.00</td>\n",
       "      <td>25857.00</td>\n",
       "      <td>25857.00</td>\n",
       "    </tr>\n",
       "    <tr>\n",
       "      <th>mean</th>\n",
       "      <td>390.43</td>\n",
       "      <td>332.18</td>\n",
       "      <td>99683.28</td>\n",
       "      <td>2169620.83</td>\n",
       "      <td>1155321.80</td>\n",
       "      <td>1107525.30</td>\n",
       "      <td>9525.88</td>\n",
       "      <td>2414.47</td>\n",
       "      <td>0.34</td>\n",
       "      <td>1716.55</td>\n",
       "      <td>7.50</td>\n",
       "      <td>7.52</td>\n",
       "      <td>0.30</td>\n",
       "    </tr>\n",
       "    <tr>\n",
       "      <th>std</th>\n",
       "      <td>230.70</td>\n",
       "      <td>194.26</td>\n",
       "      <td>62640.69</td>\n",
       "      <td>4542680.20</td>\n",
       "      <td>2407243.93</td>\n",
       "      <td>2326647.65</td>\n",
       "      <td>16721.69</td>\n",
       "      <td>3932.84</td>\n",
       "      <td>0.03</td>\n",
       "      <td>2993.03</td>\n",
       "      <td>9.13</td>\n",
       "      <td>8.93</td>\n",
       "      <td>0.34</td>\n",
       "    </tr>\n",
       "    <tr>\n",
       "      <th>min</th>\n",
       "      <td>120.00</td>\n",
       "      <td>70.00</td>\n",
       "      <td>33600.00</td>\n",
       "      <td>0.00</td>\n",
       "      <td>0.00</td>\n",
       "      <td>0.00</td>\n",
       "      <td>0.00</td>\n",
       "      <td>0.00</td>\n",
       "      <td>0.21</td>\n",
       "      <td>0.00</td>\n",
       "      <td>0.00</td>\n",
       "      <td>0.00</td>\n",
       "      <td>0.00</td>\n",
       "    </tr>\n",
       "    <tr>\n",
       "      <th>25%</th>\n",
       "      <td>120.00</td>\n",
       "      <td>250.00</td>\n",
       "      <td>72000.00</td>\n",
       "      <td>9133.00</td>\n",
       "      <td>5451.00</td>\n",
       "      <td>2558.00</td>\n",
       "      <td>305.00</td>\n",
       "      <td>36.03</td>\n",
       "      <td>0.35</td>\n",
       "      <td>23.42</td>\n",
       "      <td>0.23</td>\n",
       "      <td>1.57</td>\n",
       "      <td>0.08</td>\n",
       "    </tr>\n",
       "    <tr>\n",
       "      <th>50%</th>\n",
       "      <td>300.00</td>\n",
       "      <td>300.00</td>\n",
       "      <td>75000.00</td>\n",
       "      <td>330968.00</td>\n",
       "      <td>189449.00</td>\n",
       "      <td>162162.00</td>\n",
       "      <td>3457.00</td>\n",
       "      <td>1173.66</td>\n",
       "      <td>0.35</td>\n",
       "      <td>762.88</td>\n",
       "      <td>0.72</td>\n",
       "      <td>2.96</td>\n",
       "      <td>0.12</td>\n",
       "    </tr>\n",
       "    <tr>\n",
       "      <th>75%</th>\n",
       "      <td>720.00</td>\n",
       "      <td>600.00</td>\n",
       "      <td>84000.00</td>\n",
       "      <td>2208484.00</td>\n",
       "      <td>1008171.00</td>\n",
       "      <td>949693.00</td>\n",
       "      <td>10681.00</td>\n",
       "      <td>2692.28</td>\n",
       "      <td>0.35</td>\n",
       "      <td>1749.98</td>\n",
       "      <td>13.06</td>\n",
       "      <td>12.45</td>\n",
       "      <td>0.50</td>\n",
       "    </tr>\n",
       "    <tr>\n",
       "      <th>max</th>\n",
       "      <td>728.00</td>\n",
       "      <td>600.00</td>\n",
       "      <td>216000.00</td>\n",
       "      <td>27592861.00</td>\n",
       "      <td>14702025.00</td>\n",
       "      <td>14194774.00</td>\n",
       "      <td>143049.00</td>\n",
       "      <td>26931.87</td>\n",
       "      <td>0.35</td>\n",
       "      <td>21276.18</td>\n",
       "      <td>200.00</td>\n",
       "      <td>715.00</td>\n",
       "      <td>7.26</td>\n",
       "    </tr>\n",
       "  </tbody>\n",
       "</table>\n",
       "</div>"
      ],
      "text/plain": [
       "       Ad - Length  Ad- Width    Ad Size  Available_Impressions  \\\n",
       "count     25857.00   25857.00   25857.00               25857.00   \n",
       "mean        390.43     332.18   99683.28             2169620.83   \n",
       "std         230.70     194.26   62640.69             4542680.20   \n",
       "min         120.00      70.00   33600.00                   0.00   \n",
       "25%         120.00     250.00   72000.00                9133.00   \n",
       "50%         300.00     300.00   75000.00              330968.00   \n",
       "75%         720.00     600.00   84000.00             2208484.00   \n",
       "max         728.00     600.00  216000.00            27592861.00   \n",
       "\n",
       "       Matched_Queries  Impressions     Clicks     Spend       Fee   Revenue  \\\n",
       "count         25857.00     25857.00   25857.00  25857.00  25857.00  25857.00   \n",
       "mean        1155321.80   1107525.30    9525.88   2414.47      0.34   1716.55   \n",
       "std         2407243.93   2326647.65   16721.69   3932.84      0.03   2993.03   \n",
       "min               0.00         0.00       0.00      0.00      0.21      0.00   \n",
       "25%            5451.00      2558.00     305.00     36.03      0.35     23.42   \n",
       "50%          189449.00    162162.00    3457.00   1173.66      0.35    762.88   \n",
       "75%         1008171.00    949693.00   10681.00   2692.28      0.35   1749.98   \n",
       "max        14702025.00  14194774.00  143049.00  26931.87      0.35  21276.18   \n",
       "\n",
       "            CTR       CPM       CPC  \n",
       "count  25857.00  25857.00  25857.00  \n",
       "mean       7.50      7.52      0.30  \n",
       "std        9.13      8.93      0.34  \n",
       "min        0.00      0.00      0.00  \n",
       "25%        0.23      1.57      0.08  \n",
       "50%        0.72      2.96      0.12  \n",
       "75%       13.06     12.45      0.50  \n",
       "max      200.00    715.00      7.26  "
      ]
     },
     "execution_count": 26,
     "metadata": {},
     "output_type": "execute_result"
    }
   ],
   "source": [
    "df1.describe().round(2)"
   ]
  },
  {
   "cell_type": "markdown",
   "id": "37e2d645",
   "metadata": {},
   "source": [
    "## Clustering: Check if there are any outliers. Do you think treating outliers is necessary for K-Means clustering? Based on your judgement decide whether to treat outliers and if yes, which method to employ. (As an analyst your judgement may be different from another analyst)"
   ]
  },
  {
   "cell_type": "code",
   "execution_count": 27,
   "id": "acb34650",
   "metadata": {
    "ExecuteTime": {
     "end_time": "2022-10-09T14:31:04.275636Z",
     "start_time": "2022-10-09T14:31:04.260486Z"
    }
   },
   "outputs": [],
   "source": [
    "df2 =df.drop(['Timestamp','InventoryType','Ad Type','Platform','Device Type','Format','Fee'], axis=1) "
   ]
  },
  {
   "cell_type": "code",
   "execution_count": 28,
   "id": "d1ea81d6",
   "metadata": {
    "ExecuteTime": {
     "end_time": "2022-10-09T14:31:04.343871Z",
     "start_time": "2022-10-09T14:31:04.277163Z"
    }
   },
   "outputs": [
    {
     "data": {
      "text/html": [
       "<div>\n",
       "<style scoped>\n",
       "    .dataframe tbody tr th:only-of-type {\n",
       "        vertical-align: middle;\n",
       "    }\n",
       "\n",
       "    .dataframe tbody tr th {\n",
       "        vertical-align: top;\n",
       "    }\n",
       "\n",
       "    .dataframe thead th {\n",
       "        text-align: right;\n",
       "    }\n",
       "</style>\n",
       "<table border=\"1\" class=\"dataframe\">\n",
       "  <thead>\n",
       "    <tr style=\"text-align: right;\">\n",
       "      <th></th>\n",
       "      <th>Ad - Length</th>\n",
       "      <th>Ad- Width</th>\n",
       "      <th>Ad Size</th>\n",
       "      <th>Available_Impressions</th>\n",
       "      <th>Matched_Queries</th>\n",
       "      <th>Impressions</th>\n",
       "      <th>Clicks</th>\n",
       "      <th>Spend</th>\n",
       "      <th>Revenue</th>\n",
       "      <th>CTR</th>\n",
       "      <th>CPM</th>\n",
       "      <th>CPC</th>\n",
       "    </tr>\n",
       "  </thead>\n",
       "  <tbody>\n",
       "    <tr>\n",
       "      <th>0</th>\n",
       "      <td>300</td>\n",
       "      <td>250</td>\n",
       "      <td>75000</td>\n",
       "      <td>1806</td>\n",
       "      <td>325</td>\n",
       "      <td>323</td>\n",
       "      <td>1</td>\n",
       "      <td>0.0</td>\n",
       "      <td>0.0</td>\n",
       "      <td>0.31</td>\n",
       "      <td>0.0</td>\n",
       "      <td>0.0</td>\n",
       "    </tr>\n",
       "    <tr>\n",
       "      <th>1</th>\n",
       "      <td>300</td>\n",
       "      <td>250</td>\n",
       "      <td>75000</td>\n",
       "      <td>1979</td>\n",
       "      <td>384</td>\n",
       "      <td>380</td>\n",
       "      <td>0</td>\n",
       "      <td>0.0</td>\n",
       "      <td>0.0</td>\n",
       "      <td>0.00</td>\n",
       "      <td>0.0</td>\n",
       "      <td>0.0</td>\n",
       "    </tr>\n",
       "    <tr>\n",
       "      <th>2</th>\n",
       "      <td>336</td>\n",
       "      <td>250</td>\n",
       "      <td>84000</td>\n",
       "      <td>1566</td>\n",
       "      <td>298</td>\n",
       "      <td>297</td>\n",
       "      <td>0</td>\n",
       "      <td>0.0</td>\n",
       "      <td>0.0</td>\n",
       "      <td>0.00</td>\n",
       "      <td>0.0</td>\n",
       "      <td>0.0</td>\n",
       "    </tr>\n",
       "    <tr>\n",
       "      <th>3</th>\n",
       "      <td>300</td>\n",
       "      <td>250</td>\n",
       "      <td>75000</td>\n",
       "      <td>643</td>\n",
       "      <td>103</td>\n",
       "      <td>102</td>\n",
       "      <td>0</td>\n",
       "      <td>0.0</td>\n",
       "      <td>0.0</td>\n",
       "      <td>0.00</td>\n",
       "      <td>0.0</td>\n",
       "      <td>0.0</td>\n",
       "    </tr>\n",
       "    <tr>\n",
       "      <th>4</th>\n",
       "      <td>300</td>\n",
       "      <td>250</td>\n",
       "      <td>75000</td>\n",
       "      <td>1550</td>\n",
       "      <td>347</td>\n",
       "      <td>345</td>\n",
       "      <td>0</td>\n",
       "      <td>0.0</td>\n",
       "      <td>0.0</td>\n",
       "      <td>0.00</td>\n",
       "      <td>0.0</td>\n",
       "      <td>0.0</td>\n",
       "    </tr>\n",
       "  </tbody>\n",
       "</table>\n",
       "</div>"
      ],
      "text/plain": [
       "   Ad - Length  Ad- Width  Ad Size  Available_Impressions  Matched_Queries  \\\n",
       "0          300        250    75000                   1806              325   \n",
       "1          300        250    75000                   1979              384   \n",
       "2          336        250    84000                   1566              298   \n",
       "3          300        250    75000                    643              103   \n",
       "4          300        250    75000                   1550              347   \n",
       "\n",
       "   Impressions  Clicks  Spend  Revenue   CTR  CPM  CPC  \n",
       "0          323       1    0.0      0.0  0.31  0.0  0.0  \n",
       "1          380       0    0.0      0.0  0.00  0.0  0.0  \n",
       "2          297       0    0.0      0.0  0.00  0.0  0.0  \n",
       "3          102       0    0.0      0.0  0.00  0.0  0.0  \n",
       "4          345       0    0.0      0.0  0.00  0.0  0.0  "
      ]
     },
     "execution_count": 28,
     "metadata": {},
     "output_type": "execute_result"
    }
   ],
   "source": [
    "df2.head()"
   ]
  },
  {
   "cell_type": "code",
   "execution_count": 29,
   "id": "064df135",
   "metadata": {
    "ExecuteTime": {
     "end_time": "2022-10-09T14:31:09.132424Z",
     "start_time": "2022-10-09T14:31:04.343871Z"
    }
   },
   "outputs": [
    {
     "data": {
      "image/png": "[encoded data removed]",
      "text/plain": [
       "<Figure size 1080x1440 with 12 Axes>"
      ]
     },
     "metadata": {
      "needs_background": "light"
     },
     "output_type": "display_data"
    }
   ],
   "source": [
    "#Check for presence of outliers in each feature\n",
    "plt.figure(figsize = (15,20))\n",
    "feature_list = df2.columns\n",
    "for i in range(len(feature_list)):\n",
    "    plt.subplot(7,2, i + 1)\n",
    "    sns.boxplot(x= df1[feature_list[i]], data = df2)\n",
    "    plt.title('Boxplot of {}'.format(feature_list[i]))\n",
    "    plt.tight_layout()"
   ]
  },
  {
   "cell_type": "markdown",
   "id": "fbaa7a20",
   "metadata": {},
   "source": [
    "- As we see in above graph their are outlier present in most of the column.\n",
    "- It is necessary for K-Means clustering to treat outliers.\n",
    "- Here we need to treat outliers to make the clustering more reliable.\n",
    "- To treat outlier I am going to used Interquartile Range(IQR) Method."
   ]
  },
  {
   "cell_type": "code",
   "execution_count": 30,
   "id": "03ab85f5",
   "metadata": {
    "ExecuteTime": {
     "end_time": "2022-10-09T14:31:09.150114Z",
     "start_time": "2022-10-09T14:31:09.134773Z"
    }
   },
   "outputs": [],
   "source": [
    "#Define a function which returns the Upper and Lower limit to detect outliers for each feature\n",
    "def remove_outlier(col):\n",
    "    Q1,Q3=col.quantile([0.25,0.75])\n",
    "    IQR=Q3-Q1\n",
    "    lower_range= Q1-(1.5 * IQR)\n",
    "    upper_range= Q3+(1.5 * IQR)\n",
    "    return lower_range, upper_range "
   ]
  },
  {
   "cell_type": "code",
   "execution_count": 31,
   "id": "7daf78f7",
   "metadata": {
    "ExecuteTime": {
     "end_time": "2022-10-09T14:31:09.219793Z",
     "start_time": "2022-10-09T14:31:09.151677Z"
    }
   },
   "outputs": [],
   "source": [
    "#Cap & floor the values beyond the outlier boundaries\n",
    "for i in feature_list:\n",
    "    LL, UL = remove_outlier(df2[i])\n",
    "    df2[i] = np.where(df2[i] > UL, UL, df2[i])\n",
    "    df2[i] = np.where(df2[i] < LL, LL, df2[i])"
   ]
  },
  {
   "cell_type": "code",
   "execution_count": 32,
   "id": "640b645f",
   "metadata": {
    "ExecuteTime": {
     "end_time": "2022-10-09T14:31:12.646023Z",
     "start_time": "2022-10-09T14:31:09.220906Z"
    }
   },
   "outputs": [
    {
     "data": {
      "image/png": "[encoded data removed]",
      "text/plain": [
       "<Figure size 1080x1440 with 12 Axes>"
      ]
     },
     "metadata": {
      "needs_background": "light"
     },
     "output_type": "display_data"
    }
   ],
   "source": [
    "plt.figure(figsize = (15,20))\n",
    "feature_list = df2.columns\n",
    "for i in range(len(feature_list)):\n",
    "    plt.subplot(7,2, i + 1)\n",
    "    sns.boxplot(x= df2[feature_list[i]], data = df2)\n",
    "    plt.title('Boxplot of {}'.format(feature_list[i]))\n",
    "    plt.tight_layout()"
   ]
  },
  {
   "cell_type": "markdown",
   "id": "4d0fb1f3",
   "metadata": {},
   "source": [
    "- As shown in above graphs we treat the outliers from the data with Interquartile Range(IQR) Method, to make the clustering more reliable "
   ]
  },
  {
   "cell_type": "code",
   "execution_count": 33,
   "id": "a6d03dc1",
   "metadata": {
    "ExecuteTime": {
     "end_time": "2022-10-09T14:31:12.727289Z",
     "start_time": "2022-10-09T14:31:12.646023Z"
    },
    "code_folding": [],
    "run_control": {
     "marked": true
    }
   },
   "outputs": [
    {
     "data": {
      "text/html": [
       "<div>\n",
       "<style scoped>\n",
       "    .dataframe tbody tr th:only-of-type {\n",
       "        vertical-align: middle;\n",
       "    }\n",
       "\n",
       "    .dataframe tbody tr th {\n",
       "        vertical-align: top;\n",
       "    }\n",
       "\n",
       "    .dataframe thead th {\n",
       "        text-align: right;\n",
       "    }\n",
       "</style>\n",
       "<table border=\"1\" class=\"dataframe\">\n",
       "  <thead>\n",
       "    <tr style=\"text-align: right;\">\n",
       "      <th></th>\n",
       "      <th>count</th>\n",
       "      <th>mean</th>\n",
       "      <th>std</th>\n",
       "      <th>min</th>\n",
       "      <th>25%</th>\n",
       "      <th>50%</th>\n",
       "      <th>75%</th>\n",
       "      <th>max</th>\n",
       "    </tr>\n",
       "  </thead>\n",
       "  <tbody>\n",
       "    <tr>\n",
       "      <th>Ad - Length</th>\n",
       "      <td>25857.0</td>\n",
       "      <td>390.43</td>\n",
       "      <td>230.70</td>\n",
       "      <td>120.0</td>\n",
       "      <td>120.00</td>\n",
       "      <td>300.00</td>\n",
       "      <td>720.00</td>\n",
       "      <td>728.00</td>\n",
       "    </tr>\n",
       "    <tr>\n",
       "      <th>Ad- Width</th>\n",
       "      <td>25857.0</td>\n",
       "      <td>332.18</td>\n",
       "      <td>194.26</td>\n",
       "      <td>70.0</td>\n",
       "      <td>250.00</td>\n",
       "      <td>300.00</td>\n",
       "      <td>600.00</td>\n",
       "      <td>600.00</td>\n",
       "    </tr>\n",
       "    <tr>\n",
       "      <th>Ad Size</th>\n",
       "      <td>25857.0</td>\n",
       "      <td>77484.14</td>\n",
       "      <td>15352.88</td>\n",
       "      <td>54000.0</td>\n",
       "      <td>72000.00</td>\n",
       "      <td>75000.00</td>\n",
       "      <td>84000.00</td>\n",
       "      <td>102000.00</td>\n",
       "    </tr>\n",
       "    <tr>\n",
       "      <th>Available_Impressions</th>\n",
       "      <td>25857.0</td>\n",
       "      <td>1357917.55</td>\n",
       "      <td>1896821.01</td>\n",
       "      <td>0.0</td>\n",
       "      <td>9133.00</td>\n",
       "      <td>330968.00</td>\n",
       "      <td>2208484.00</td>\n",
       "      <td>5507510.50</td>\n",
       "    </tr>\n",
       "    <tr>\n",
       "      <th>Matched_Queries</th>\n",
       "      <td>25857.0</td>\n",
       "      <td>659959.32</td>\n",
       "      <td>885651.39</td>\n",
       "      <td>0.0</td>\n",
       "      <td>5451.00</td>\n",
       "      <td>189449.00</td>\n",
       "      <td>1008171.00</td>\n",
       "      <td>2512251.00</td>\n",
       "    </tr>\n",
       "    <tr>\n",
       "      <th>Impressions</th>\n",
       "      <td>25857.0</td>\n",
       "      <td>619864.63</td>\n",
       "      <td>842872.33</td>\n",
       "      <td>0.0</td>\n",
       "      <td>2558.00</td>\n",
       "      <td>162162.00</td>\n",
       "      <td>949693.00</td>\n",
       "      <td>2370395.50</td>\n",
       "    </tr>\n",
       "    <tr>\n",
       "      <th>Clicks</th>\n",
       "      <td>25857.0</td>\n",
       "      <td>7070.83</td>\n",
       "      <td>8602.09</td>\n",
       "      <td>0.0</td>\n",
       "      <td>305.00</td>\n",
       "      <td>3457.00</td>\n",
       "      <td>10681.00</td>\n",
       "      <td>26245.00</td>\n",
       "    </tr>\n",
       "    <tr>\n",
       "      <th>Spend</th>\n",
       "      <td>25857.0</td>\n",
       "      <td>1844.35</td>\n",
       "      <td>2184.31</td>\n",
       "      <td>0.0</td>\n",
       "      <td>36.03</td>\n",
       "      <td>1173.66</td>\n",
       "      <td>2692.28</td>\n",
       "      <td>6676.66</td>\n",
       "    </tr>\n",
       "    <tr>\n",
       "      <th>Revenue</th>\n",
       "      <td>25857.0</td>\n",
       "      <td>1216.79</td>\n",
       "      <td>1446.34</td>\n",
       "      <td>0.0</td>\n",
       "      <td>23.42</td>\n",
       "      <td>762.88</td>\n",
       "      <td>1749.98</td>\n",
       "      <td>4339.83</td>\n",
       "    </tr>\n",
       "    <tr>\n",
       "      <th>CTR</th>\n",
       "      <td>25857.0</td>\n",
       "      <td>7.32</td>\n",
       "      <td>8.17</td>\n",
       "      <td>0.0</td>\n",
       "      <td>0.23</td>\n",
       "      <td>0.72</td>\n",
       "      <td>13.06</td>\n",
       "      <td>32.30</td>\n",
       "    </tr>\n",
       "    <tr>\n",
       "      <th>CPM</th>\n",
       "      <td>25857.0</td>\n",
       "      <td>7.36</td>\n",
       "      <td>6.93</td>\n",
       "      <td>0.0</td>\n",
       "      <td>1.57</td>\n",
       "      <td>2.96</td>\n",
       "      <td>12.45</td>\n",
       "      <td>28.77</td>\n",
       "    </tr>\n",
       "    <tr>\n",
       "      <th>CPC</th>\n",
       "      <td>25857.0</td>\n",
       "      <td>0.29</td>\n",
       "      <td>0.31</td>\n",
       "      <td>0.0</td>\n",
       "      <td>0.08</td>\n",
       "      <td>0.12</td>\n",
       "      <td>0.50</td>\n",
       "      <td>1.13</td>\n",
       "    </tr>\n",
       "  </tbody>\n",
       "</table>\n",
       "</div>"
      ],
      "text/plain": [
       "                         count        mean         std      min       25%  \\\n",
       "Ad - Length            25857.0      390.43      230.70    120.0    120.00   \n",
       "Ad- Width              25857.0      332.18      194.26     70.0    250.00   \n",
       "Ad Size                25857.0    77484.14    15352.88  54000.0  72000.00   \n",
       "Available_Impressions  25857.0  1357917.55  1896821.01      0.0   9133.00   \n",
       "Matched_Queries        25857.0   659959.32   885651.39      0.0   5451.00   \n",
       "Impressions            25857.0   619864.63   842872.33      0.0   2558.00   \n",
       "Clicks                 25857.0     7070.83     8602.09      0.0    305.00   \n",
       "Spend                  25857.0     1844.35     2184.31      0.0     36.03   \n",
       "Revenue                25857.0     1216.79     1446.34      0.0     23.42   \n",
       "CTR                    25857.0        7.32        8.17      0.0      0.23   \n",
       "CPM                    25857.0        7.36        6.93      0.0      1.57   \n",
       "CPC                    25857.0        0.29        0.31      0.0      0.08   \n",
       "\n",
       "                             50%         75%         max  \n",
       "Ad - Length               300.00      720.00      728.00  \n",
       "Ad- Width                 300.00      600.00      600.00  \n",
       "Ad Size                 75000.00    84000.00   102000.00  \n",
       "Available_Impressions  330968.00  2208484.00  5507510.50  \n",
       "Matched_Queries        189449.00  1008171.00  2512251.00  \n",
       "Impressions            162162.00   949693.00  2370395.50  \n",
       "Clicks                   3457.00    10681.00    26245.00  \n",
       "Spend                    1173.66     2692.28     6676.66  \n",
       "Revenue                   762.88     1749.98     4339.83  \n",
       "CTR                         0.72       13.06       32.30  \n",
       "CPM                         2.96       12.45       28.77  \n",
       "CPC                         0.12        0.50        1.13  "
      ]
     },
     "execution_count": 33,
     "metadata": {},
     "output_type": "execute_result"
    }
   ],
   "source": [
    "#Check the descriptive stats to observe scale issues between the variables\n",
    "df2.describe().round(2).T"
   ]
  },
  {
   "cell_type": "markdown",
   "id": "da2bc997",
   "metadata": {},
   "source": [
    "## Clustering: Perform z-score scaling and discuss how it affects the speed of the algorithm"
   ]
  },
  {
   "cell_type": "markdown",
   "id": "34ef2119",
   "metadata": {},
   "source": [
    "# Scaling the data"
   ]
  },
  {
   "cell_type": "code",
   "execution_count": 34,
   "id": "7ef408b3",
   "metadata": {
    "ExecuteTime": {
     "end_time": "2022-10-09T14:31:12.790757Z",
     "start_time": "2022-10-09T14:31:12.733291Z"
    }
   },
   "outputs": [],
   "source": [
    "#Scale the data\n",
    "from scipy.stats import zscore\n",
    "df_scaled = df2.apply(zscore)"
   ]
  },
  {
   "cell_type": "code",
   "execution_count": 35,
   "id": "8328588a",
   "metadata": {
    "ExecuteTime": {
     "end_time": "2022-10-09T14:31:12.822784Z",
     "start_time": "2022-10-09T14:31:12.795793Z"
    }
   },
   "outputs": [
    {
     "data": {
      "text/html": [
       "<div>\n",
       "<style scoped>\n",
       "    .dataframe tbody tr th:only-of-type {\n",
       "        vertical-align: middle;\n",
       "    }\n",
       "\n",
       "    .dataframe tbody tr th {\n",
       "        vertical-align: top;\n",
       "    }\n",
       "\n",
       "    .dataframe thead th {\n",
       "        text-align: right;\n",
       "    }\n",
       "</style>\n",
       "<table border=\"1\" class=\"dataframe\">\n",
       "  <thead>\n",
       "    <tr style=\"text-align: right;\">\n",
       "      <th></th>\n",
       "      <th>0</th>\n",
       "      <th>1</th>\n",
       "      <th>2</th>\n",
       "      <th>3</th>\n",
       "      <th>4</th>\n",
       "    </tr>\n",
       "  </thead>\n",
       "  <tbody>\n",
       "    <tr>\n",
       "      <th>Ad - Length</th>\n",
       "      <td>-0.392000</td>\n",
       "      <td>-0.392000</td>\n",
       "      <td>-0.235948</td>\n",
       "      <td>-0.392000</td>\n",
       "      <td>-0.392000</td>\n",
       "    </tr>\n",
       "    <tr>\n",
       "      <th>Ad- Width</th>\n",
       "      <td>-0.423062</td>\n",
       "      <td>-0.423062</td>\n",
       "      <td>-0.423062</td>\n",
       "      <td>-0.423062</td>\n",
       "      <td>-0.423062</td>\n",
       "    </tr>\n",
       "    <tr>\n",
       "      <th>Ad Size</th>\n",
       "      <td>-0.161806</td>\n",
       "      <td>-0.161806</td>\n",
       "      <td>0.424415</td>\n",
       "      <td>-0.161806</td>\n",
       "      <td>-0.161806</td>\n",
       "    </tr>\n",
       "    <tr>\n",
       "      <th>Available_Impressions</th>\n",
       "      <td>-0.714953</td>\n",
       "      <td>-0.714862</td>\n",
       "      <td>-0.715079</td>\n",
       "      <td>-0.715566</td>\n",
       "      <td>-0.715088</td>\n",
       "    </tr>\n",
       "    <tr>\n",
       "      <th>Matched_Queries</th>\n",
       "      <td>-0.744816</td>\n",
       "      <td>-0.744749</td>\n",
       "      <td>-0.744846</td>\n",
       "      <td>-0.745066</td>\n",
       "      <td>-0.744791</td>\n",
       "    </tr>\n",
       "    <tr>\n",
       "      <th>Impressions</th>\n",
       "      <td>-0.735050</td>\n",
       "      <td>-0.734983</td>\n",
       "      <td>-0.735081</td>\n",
       "      <td>-0.735313</td>\n",
       "      <td>-0.735024</td>\n",
       "    </tr>\n",
       "    <tr>\n",
       "      <th>Clicks</th>\n",
       "      <td>-0.821889</td>\n",
       "      <td>-0.822006</td>\n",
       "      <td>-0.822006</td>\n",
       "      <td>-0.822006</td>\n",
       "      <td>-0.822006</td>\n",
       "    </tr>\n",
       "    <tr>\n",
       "      <th>Spend</th>\n",
       "      <td>-0.844382</td>\n",
       "      <td>-0.844382</td>\n",
       "      <td>-0.844382</td>\n",
       "      <td>-0.844382</td>\n",
       "      <td>-0.844382</td>\n",
       "    </tr>\n",
       "    <tr>\n",
       "      <th>Revenue</th>\n",
       "      <td>-0.841307</td>\n",
       "      <td>-0.841307</td>\n",
       "      <td>-0.841307</td>\n",
       "      <td>-0.841307</td>\n",
       "      <td>-0.841307</td>\n",
       "    </tr>\n",
       "    <tr>\n",
       "      <th>CTR</th>\n",
       "      <td>-0.858744</td>\n",
       "      <td>-0.896694</td>\n",
       "      <td>-0.896694</td>\n",
       "      <td>-0.896694</td>\n",
       "      <td>-0.896694</td>\n",
       "    </tr>\n",
       "    <tr>\n",
       "      <th>CPM</th>\n",
       "      <td>-1.061321</td>\n",
       "      <td>-1.061321</td>\n",
       "      <td>-1.061321</td>\n",
       "      <td>-1.061321</td>\n",
       "      <td>-1.061321</td>\n",
       "    </tr>\n",
       "    <tr>\n",
       "      <th>CPC</th>\n",
       "      <td>-0.945051</td>\n",
       "      <td>-0.945051</td>\n",
       "      <td>-0.945051</td>\n",
       "      <td>-0.945051</td>\n",
       "      <td>-0.945051</td>\n",
       "    </tr>\n",
       "  </tbody>\n",
       "</table>\n",
       "</div>"
      ],
      "text/plain": [
       "                              0         1         2         3         4\n",
       "Ad - Length           -0.392000 -0.392000 -0.235948 -0.392000 -0.392000\n",
       "Ad- Width             -0.423062 -0.423062 -0.423062 -0.423062 -0.423062\n",
       "Ad Size               -0.161806 -0.161806  0.424415 -0.161806 -0.161806\n",
       "Available_Impressions -0.714953 -0.714862 -0.715079 -0.715566 -0.715088\n",
       "Matched_Queries       -0.744816 -0.744749 -0.744846 -0.745066 -0.744791\n",
       "Impressions           -0.735050 -0.734983 -0.735081 -0.735313 -0.735024\n",
       "Clicks                -0.821889 -0.822006 -0.822006 -0.822006 -0.822006\n",
       "Spend                 -0.844382 -0.844382 -0.844382 -0.844382 -0.844382\n",
       "Revenue               -0.841307 -0.841307 -0.841307 -0.841307 -0.841307\n",
       "CTR                   -0.858744 -0.896694 -0.896694 -0.896694 -0.896694\n",
       "CPM                   -1.061321 -1.061321 -1.061321 -1.061321 -1.061321\n",
       "CPC                   -0.945051 -0.945051 -0.945051 -0.945051 -0.945051"
      ]
     },
     "execution_count": 35,
     "metadata": {},
     "output_type": "execute_result"
    }
   ],
   "source": [
    "df_scaled.head().T"
   ]
  },
  {
   "cell_type": "code",
   "execution_count": 36,
   "id": "333f69e6",
   "metadata": {
    "ExecuteTime": {
     "end_time": "2022-10-09T14:31:12.854788Z",
     "start_time": "2022-10-09T14:31:12.840786Z"
    }
   },
   "outputs": [],
   "source": [
    "from scipy.cluster.hierarchy import dendrogram, linkage"
   ]
  },
  {
   "cell_type": "code",
   "execution_count": 37,
   "id": "bd5163aa",
   "metadata": {
    "ExecuteTime": {
     "end_time": "2022-10-09T14:33:58.868651Z",
     "start_time": "2022-10-09T14:31:12.858798Z"
    }
   },
   "outputs": [],
   "source": [
    "wardlink = linkage(df_scaled, method = 'ward')"
   ]
  },
  {
   "cell_type": "code",
   "execution_count": 38,
   "id": "3dacc43a",
   "metadata": {
    "ExecuteTime": {
     "end_time": "2022-10-09T14:33:59.655547Z",
     "start_time": "2022-10-09T14:33:58.917868Z"
    }
   },
   "outputs": [
    {
     "data": {
      "image/png": "[encoded data removed]",
      "text/plain": [
       "<Figure size 1080x504 with 1 Axes>"
      ]
     },
     "metadata": {
      "needs_background": "light"
     },
     "output_type": "display_data"
    }
   ],
   "source": [
    "plt.figure(figsize = (15,7))\n",
    "dend = dendrogram(wardlink,\n",
    "                 truncate_mode='lastp',\n",
    "                 p = 20\n",
    "                 )\n"
   ]
  },
  {
   "cell_type": "markdown",
   "id": "8e657ff4",
   "metadata": {},
   "source": [
    "### K-means Clustering"
   ]
  },
  {
   "cell_type": "code",
   "execution_count": 39,
   "id": "62195bba",
   "metadata": {
    "ExecuteTime": {
     "end_time": "2022-10-09T14:34:00.563798Z",
     "start_time": "2022-10-09T14:33:59.661555Z"
    }
   },
   "outputs": [],
   "source": [
    "#Scale the data\n",
    "from sklearn.preprocessing import StandardScaler"
   ]
  },
  {
   "cell_type": "code",
   "execution_count": 40,
   "id": "3d69c41b",
   "metadata": {
    "ExecuteTime": {
     "end_time": "2022-10-09T14:34:00.579816Z",
     "start_time": "2022-10-09T14:34:00.566822Z"
    }
   },
   "outputs": [],
   "source": [
    "X = StandardScaler()"
   ]
  },
  {
   "cell_type": "code",
   "execution_count": 41,
   "id": "1d8241cf",
   "metadata": {
    "ExecuteTime": {
     "end_time": "2022-10-09T14:34:00.642117Z",
     "start_time": "2022-10-09T14:34:00.583826Z"
    }
   },
   "outputs": [],
   "source": [
    "scaled_df = pd.DataFrame(X.fit_transform(df2.iloc[:,0:11]),columns=df2.columns[1:])"
   ]
  },
  {
   "cell_type": "code",
   "execution_count": 42,
   "id": "2d910615",
   "metadata": {
    "ExecuteTime": {
     "end_time": "2022-10-09T14:34:00.688116Z",
     "start_time": "2022-10-09T14:34:00.648123Z"
    }
   },
   "outputs": [
    {
     "data": {
      "text/html": [
       "<div>\n",
       "<style scoped>\n",
       "    .dataframe tbody tr th:only-of-type {\n",
       "        vertical-align: middle;\n",
       "    }\n",
       "\n",
       "    .dataframe tbody tr th {\n",
       "        vertical-align: top;\n",
       "    }\n",
       "\n",
       "    .dataframe thead th {\n",
       "        text-align: right;\n",
       "    }\n",
       "</style>\n",
       "<table border=\"1\" class=\"dataframe\">\n",
       "  <thead>\n",
       "    <tr style=\"text-align: right;\">\n",
       "      <th></th>\n",
       "      <th>0</th>\n",
       "      <th>1</th>\n",
       "      <th>2</th>\n",
       "      <th>3</th>\n",
       "      <th>4</th>\n",
       "    </tr>\n",
       "  </thead>\n",
       "  <tbody>\n",
       "    <tr>\n",
       "      <th>Ad- Width</th>\n",
       "      <td>-0.392000</td>\n",
       "      <td>-0.392000</td>\n",
       "      <td>-0.235948</td>\n",
       "      <td>-0.392000</td>\n",
       "      <td>-0.392000</td>\n",
       "    </tr>\n",
       "    <tr>\n",
       "      <th>Ad Size</th>\n",
       "      <td>-0.423062</td>\n",
       "      <td>-0.423062</td>\n",
       "      <td>-0.423062</td>\n",
       "      <td>-0.423062</td>\n",
       "      <td>-0.423062</td>\n",
       "    </tr>\n",
       "    <tr>\n",
       "      <th>Available_Impressions</th>\n",
       "      <td>-0.161806</td>\n",
       "      <td>-0.161806</td>\n",
       "      <td>0.424415</td>\n",
       "      <td>-0.161806</td>\n",
       "      <td>-0.161806</td>\n",
       "    </tr>\n",
       "    <tr>\n",
       "      <th>Matched_Queries</th>\n",
       "      <td>-0.714953</td>\n",
       "      <td>-0.714862</td>\n",
       "      <td>-0.715079</td>\n",
       "      <td>-0.715566</td>\n",
       "      <td>-0.715088</td>\n",
       "    </tr>\n",
       "    <tr>\n",
       "      <th>Impressions</th>\n",
       "      <td>-0.744816</td>\n",
       "      <td>-0.744749</td>\n",
       "      <td>-0.744846</td>\n",
       "      <td>-0.745066</td>\n",
       "      <td>-0.744791</td>\n",
       "    </tr>\n",
       "    <tr>\n",
       "      <th>Clicks</th>\n",
       "      <td>-0.735050</td>\n",
       "      <td>-0.734983</td>\n",
       "      <td>-0.735081</td>\n",
       "      <td>-0.735313</td>\n",
       "      <td>-0.735024</td>\n",
       "    </tr>\n",
       "    <tr>\n",
       "      <th>Spend</th>\n",
       "      <td>-0.821889</td>\n",
       "      <td>-0.822006</td>\n",
       "      <td>-0.822006</td>\n",
       "      <td>-0.822006</td>\n",
       "      <td>-0.822006</td>\n",
       "    </tr>\n",
       "    <tr>\n",
       "      <th>Revenue</th>\n",
       "      <td>-0.844382</td>\n",
       "      <td>-0.844382</td>\n",
       "      <td>-0.844382</td>\n",
       "      <td>-0.844382</td>\n",
       "      <td>-0.844382</td>\n",
       "    </tr>\n",
       "    <tr>\n",
       "      <th>CTR</th>\n",
       "      <td>-0.841307</td>\n",
       "      <td>-0.841307</td>\n",
       "      <td>-0.841307</td>\n",
       "      <td>-0.841307</td>\n",
       "      <td>-0.841307</td>\n",
       "    </tr>\n",
       "    <tr>\n",
       "      <th>CPM</th>\n",
       "      <td>-0.858744</td>\n",
       "      <td>-0.896694</td>\n",
       "      <td>-0.896694</td>\n",
       "      <td>-0.896694</td>\n",
       "      <td>-0.896694</td>\n",
       "    </tr>\n",
       "    <tr>\n",
       "      <th>CPC</th>\n",
       "      <td>-1.061321</td>\n",
       "      <td>-1.061321</td>\n",
       "      <td>-1.061321</td>\n",
       "      <td>-1.061321</td>\n",
       "      <td>-1.061321</td>\n",
       "    </tr>\n",
       "  </tbody>\n",
       "</table>\n",
       "</div>"
      ],
      "text/plain": [
       "                              0         1         2         3         4\n",
       "Ad- Width             -0.392000 -0.392000 -0.235948 -0.392000 -0.392000\n",
       "Ad Size               -0.423062 -0.423062 -0.423062 -0.423062 -0.423062\n",
       "Available_Impressions -0.161806 -0.161806  0.424415 -0.161806 -0.161806\n",
       "Matched_Queries       -0.714953 -0.714862 -0.715079 -0.715566 -0.715088\n",
       "Impressions           -0.744816 -0.744749 -0.744846 -0.745066 -0.744791\n",
       "Clicks                -0.735050 -0.734983 -0.735081 -0.735313 -0.735024\n",
       "Spend                 -0.821889 -0.822006 -0.822006 -0.822006 -0.822006\n",
       "Revenue               -0.844382 -0.844382 -0.844382 -0.844382 -0.844382\n",
       "CTR                   -0.841307 -0.841307 -0.841307 -0.841307 -0.841307\n",
       "CPM                   -0.858744 -0.896694 -0.896694 -0.896694 -0.896694\n",
       "CPC                   -1.061321 -1.061321 -1.061321 -1.061321 -1.061321"
      ]
     },
     "execution_count": 42,
     "metadata": {},
     "output_type": "execute_result"
    }
   ],
   "source": [
    "scaled_df.head().T"
   ]
  },
  {
   "cell_type": "markdown",
   "id": "653ec429",
   "metadata": {},
   "source": [
    "### Creating Clusters using KMeans"
   ]
  },
  {
   "cell_type": "code",
   "execution_count": 43,
   "id": "509ff1cf",
   "metadata": {
    "ExecuteTime": {
     "end_time": "2022-10-09T14:34:01.201915Z",
     "start_time": "2022-10-09T14:34:00.694131Z"
    }
   },
   "outputs": [],
   "source": [
    "from sklearn.cluster import KMeans "
   ]
  },
  {
   "cell_type": "code",
   "execution_count": 44,
   "id": "1a1056cc",
   "metadata": {
    "ExecuteTime": {
     "end_time": "2022-10-09T14:34:01.217943Z",
     "start_time": "2022-10-09T14:34:01.206959Z"
    }
   },
   "outputs": [],
   "source": [
    "# Create K Means cluster and store the result in the object k_means\n",
    "k_means = KMeans(n_clusters = 2,random_state=1)"
   ]
  },
  {
   "cell_type": "code",
   "execution_count": 45,
   "id": "9d71b973",
   "metadata": {
    "ExecuteTime": {
     "end_time": "2022-10-09T14:34:01.671794Z",
     "start_time": "2022-10-09T14:34:01.223950Z"
    }
   },
   "outputs": [
    {
     "data": {
      "text/plain": [
       "KMeans(n_clusters=2, random_state=1)"
      ]
     },
     "execution_count": 45,
     "metadata": {},
     "output_type": "execute_result"
    }
   ],
   "source": [
    "# Fit K means on the scaled_df\n",
    "k_means.fit(scaled_df)"
   ]
  },
  {
   "cell_type": "markdown",
   "id": "5b29e3c4",
   "metadata": {},
   "source": [
    "### Cluster Output for all the observations"
   ]
  },
  {
   "cell_type": "code",
   "execution_count": 46,
   "id": "9b8b7f1d",
   "metadata": {
    "ExecuteTime": {
     "end_time": "2022-10-09T14:34:01.687794Z",
     "start_time": "2022-10-09T14:34:01.675794Z"
    }
   },
   "outputs": [
    {
     "data": {
      "text/plain": [
       "array([1, 1, 1, ..., 1, 1, 1])"
      ]
     },
     "execution_count": 46,
     "metadata": {},
     "output_type": "execute_result"
    }
   ],
   "source": [
    "# Get the labels\n",
    "k_means.labels_"
   ]
  },
  {
   "cell_type": "markdown",
   "id": "fb8b3dfe",
   "metadata": {},
   "source": [
    "### Within Cluster Sum of Squares"
   ]
  },
  {
   "cell_type": "code",
   "execution_count": 47,
   "id": "fe7f72c5",
   "metadata": {
    "ExecuteTime": {
     "end_time": "2022-10-09T14:34:01.703790Z",
     "start_time": "2022-10-09T14:34:01.691794Z"
    }
   },
   "outputs": [
    {
     "data": {
      "text/plain": [
       "177942.87372603893"
      ]
     },
     "execution_count": 47,
     "metadata": {},
     "output_type": "execute_result"
    }
   ],
   "source": [
    "k_means.inertia_"
   ]
  },
  {
   "cell_type": "code",
   "execution_count": 48,
   "id": "62f8a68c",
   "metadata": {
    "ExecuteTime": {
     "end_time": "2022-10-09T14:34:02.349796Z",
     "start_time": "2022-10-09T14:34:01.708801Z"
    }
   },
   "outputs": [
    {
     "data": {
      "text/plain": [
       "284427.0"
      ]
     },
     "execution_count": 48,
     "metadata": {},
     "output_type": "execute_result"
    }
   ],
   "source": [
    "k_means = KMeans(n_clusters = 1,random_state=1)\n",
    "k_means.fit(scaled_df)\n",
    "k_means.inertia_"
   ]
  },
  {
   "cell_type": "code",
   "execution_count": 49,
   "id": "4925490b",
   "metadata": {
    "ExecuteTime": {
     "end_time": "2022-10-09T14:34:02.631789Z",
     "start_time": "2022-10-09T14:34:02.353797Z"
    }
   },
   "outputs": [
    {
     "data": {
      "text/plain": [
       "177942.87372603893"
      ]
     },
     "execution_count": 49,
     "metadata": {},
     "output_type": "execute_result"
    }
   ],
   "source": [
    "k_means = KMeans(n_clusters = 2,random_state=1)\n",
    "k_means.fit(scaled_df)\n",
    "k_means.inertia_"
   ]
  },
  {
   "cell_type": "code",
   "execution_count": 50,
   "id": "652e0f7b",
   "metadata": {
    "ExecuteTime": {
     "end_time": "2022-10-09T14:34:02.933794Z",
     "start_time": "2022-10-09T14:34:02.634794Z"
    }
   },
   "outputs": [
    {
     "data": {
      "text/plain": [
       "130595.00992447"
      ]
     },
     "execution_count": 50,
     "metadata": {},
     "output_type": "execute_result"
    }
   ],
   "source": [
    "k_means = KMeans(n_clusters = 3,random_state=1)\n",
    "k_means.fit(scaled_df)\n",
    "k_means.inertia_"
   ]
  },
  {
   "cell_type": "markdown",
   "id": "403da086",
   "metadata": {},
   "source": [
    "- WSS reduces as K keeps increasing"
   ]
  },
  {
   "cell_type": "markdown",
   "id": "6a0ba795",
   "metadata": {},
   "source": [
    "### Calculating WSS for other values of K - Elbow Method"
   ]
  },
  {
   "cell_type": "code",
   "execution_count": 51,
   "id": "62948d6e",
   "metadata": {
    "ExecuteTime": {
     "end_time": "2022-10-09T14:34:02.949793Z",
     "start_time": "2022-10-09T14:34:02.936798Z"
    }
   },
   "outputs": [],
   "source": [
    "wss =[] "
   ]
  },
  {
   "cell_type": "code",
   "execution_count": 52,
   "id": "ababfaab",
   "metadata": {
    "ExecuteTime": {
     "end_time": "2022-10-09T14:34:07.665793Z",
     "start_time": "2022-10-09T14:34:02.953794Z"
    }
   },
   "outputs": [],
   "source": [
    "for i in range(1,11):\n",
    "    KM = KMeans(n_clusters=i,random_state=1)\n",
    "    KM.fit(scaled_df)\n",
    "    wss.append(KM.inertia_)"
   ]
  },
  {
   "cell_type": "code",
   "execution_count": 53,
   "id": "249c3f5d",
   "metadata": {
    "ExecuteTime": {
     "end_time": "2022-10-09T14:34:07.681794Z",
     "start_time": "2022-10-09T14:34:07.669797Z"
    }
   },
   "outputs": [
    {
     "data": {
      "text/plain": [
       "[284427.0,\n",
       " 177942.8737260389,\n",
       " 130595.00992446998,\n",
       " 94657.25692265987,\n",
       " 66124.39822690206,\n",
       " 52631.78996313465,\n",
       " 45785.787620456314,\n",
       " 40403.175140260166,\n",
       " 35743.014858592636,\n",
       " 31499.54336573324]"
      ]
     },
     "execution_count": 53,
     "metadata": {},
     "output_type": "execute_result"
    }
   ],
   "source": [
    "wss"
   ]
  },
  {
   "cell_type": "code",
   "execution_count": 54,
   "id": "5a04fbf7",
   "metadata": {
    "ExecuteTime": {
     "end_time": "2022-10-09T14:34:07.917789Z",
     "start_time": "2022-10-09T14:34:07.684801Z"
    }
   },
   "outputs": [
    {
     "data": {
      "image/png": "[encoded data removed]",
      "text/plain": [
       "<Figure size 1080x504 with 1 Axes>"
      ]
     },
     "metadata": {
      "needs_background": "light"
     },
     "output_type": "display_data"
    }
   ],
   "source": [
    "plt.figure(figsize=(15,7))\n",
    "plt.plot(range(1,11), wss, 'o-');\n"
   ]
  },
  {
   "cell_type": "code",
   "execution_count": null,
   "id": "c2b35f82",
   "metadata": {},
   "outputs": [],
   "source": []
  },
  {
   "cell_type": "code",
   "execution_count": null,
   "id": "c821543f",
   "metadata": {},
   "outputs": [],
   "source": []
  },
  {
   "cell_type": "markdown",
   "id": "53e421f5",
   "metadata": {},
   "source": [
    "- optimum number of clusters for k-means algorithm is 3"
   ]
  },
  {
   "cell_type": "markdown",
   "id": "f4be58f3",
   "metadata": {},
   "source": [
    "# KMeans with K=3"
   ]
  },
  {
   "cell_type": "code",
   "execution_count": 55,
   "id": "70074f31",
   "metadata": {
    "ExecuteTime": {
     "end_time": "2022-10-09T14:34:08.233790Z",
     "start_time": "2022-10-09T14:34:07.921795Z"
    }
   },
   "outputs": [],
   "source": [
    "k_means = KMeans(n_clusters = 3,random_state=1)\n",
    "k_means.fit(scaled_df)\n",
    "labels = k_means.labels_"
   ]
  },
  {
   "cell_type": "markdown",
   "id": "72bfe770",
   "metadata": {},
   "source": [
    "### Cluster evaluation for 3 clusters: the silhouette score"
   ]
  },
  {
   "cell_type": "code",
   "execution_count": 56,
   "id": "ab81f621",
   "metadata": {
    "ExecuteTime": {
     "end_time": "2022-10-09T14:34:08.249794Z",
     "start_time": "2022-10-09T14:34:08.236795Z"
    }
   },
   "outputs": [],
   "source": [
    "from sklearn.metrics import silhouette_samples, silhouette_score"
   ]
  },
  {
   "cell_type": "code",
   "execution_count": 57,
   "id": "9022bb33",
   "metadata": {
    "ExecuteTime": {
     "end_time": "2022-10-09T14:34:26.167619Z",
     "start_time": "2022-10-09T14:34:08.252793Z"
    }
   },
   "outputs": [
    {
     "data": {
      "text/plain": [
       "0.35635057272776505"
      ]
     },
     "execution_count": 57,
     "metadata": {},
     "output_type": "execute_result"
    }
   ],
   "source": [
    "# Calculating silhouette_score\n",
    "silhouette_score(scaled_df,labels,random_state=1)"
   ]
  },
  {
   "cell_type": "markdown",
   "id": "b657d01e",
   "metadata": {},
   "source": [
    "### Optimum silhouette score"
   ]
  },
  {
   "cell_type": "code",
   "execution_count": 58,
   "id": "51019d49",
   "metadata": {
    "ExecuteTime": {
     "end_time": "2022-10-09T14:37:26.185328Z",
     "start_time": "2022-10-09T14:34:26.167619Z"
    }
   },
   "outputs": [
    {
     "name": "stdout",
     "output_type": "stream",
     "text": [
      "Silhouette Score for k =  2 is 0.3663313535893407\n",
      "Silhouette Score for k =  3 is 0.35635057272776505\n",
      "Silhouette Score for k =  4 is 0.43836623328963054\n",
      "Silhouette Score for k =  5 is 0.5001306625122012\n",
      "Silhouette Score for k =  6 is 0.4931418631847458\n",
      "Silhouette Score for k =  7 is 0.49724872606733383\n",
      "Silhouette Score for k =  8 is 0.4871612176191717\n",
      "Silhouette Score for k =  9 is 0.5042780944772906\n",
      "Silhouette Score for k =  10 is 0.5252856773541316\n",
      "Silhouette Score for k =  11 is 0.4935020710447608\n",
      "Silhouette Score for k =  12 is 0.49361572146315014\n"
     ]
    }
   ],
   "source": [
    "silhouette_scores = []\n",
    "\n",
    "for k in range(2, 13):\n",
    "    model_sil = KMeans(n_clusters=k, random_state=1)\n",
    "    model_sil.fit(scaled_df)\n",
    "    score = silhouette_score(scaled_df, model_sil.labels_)\n",
    "    print(\"Silhouette Score for k = \", k, \"is\", score)\n",
    "    silhouette_scores.append(score)"
   ]
  },
  {
   "cell_type": "markdown",
   "id": "41bae35b",
   "metadata": {},
   "source": [
    "- optimum number of clusters using silhouette_scores is 10"
   ]
  },
  {
   "cell_type": "code",
   "execution_count": 59,
   "id": "02cea5a0",
   "metadata": {
    "ExecuteTime": {
     "end_time": "2022-10-09T14:37:26.956597Z",
     "start_time": "2022-10-09T14:37:26.185328Z"
    }
   },
   "outputs": [],
   "source": [
    "k_means = KMeans(n_clusters =10,random_state=1)\n",
    "k_means.fit(scaled_df)\n",
    "labels = k_means.labels_"
   ]
  },
  {
   "cell_type": "code",
   "execution_count": 60,
   "id": "4dc135a2",
   "metadata": {
    "ExecuteTime": {
     "end_time": "2022-10-09T14:37:42.584446Z",
     "start_time": "2022-10-09T14:37:26.956597Z"
    }
   },
   "outputs": [
    {
     "data": {
      "text/plain": [
       "0.5252856773541316"
      ]
     },
     "execution_count": 60,
     "metadata": {},
     "output_type": "execute_result"
    }
   ],
   "source": [
    "# Calculating silhouette_score\n",
    "silhouette_score(scaled_df,labels,random_state=1)"
   ]
  },
  {
   "cell_type": "code",
   "execution_count": 61,
   "id": "64504c43",
   "metadata": {
    "ExecuteTime": {
     "end_time": "2022-10-09T14:37:50.425778Z",
     "start_time": "2022-10-09T14:37:42.587453Z"
    }
   },
   "outputs": [
    {
     "name": "stdout",
     "output_type": "stream",
     "text": [
      "Requirement already satisfied: yellowbrick in d:\\new\\lib\\site-packages (1.5)\n",
      "Requirement already satisfied: cycler>=0.10.0 in d:\\new\\lib\\site-packages (from yellowbrick) (0.11.0)\n",
      "Requirement already satisfied: scipy>=1.0.0 in d:\\new\\lib\\site-packages (from yellowbrick) (1.7.3)\n",
      "Requirement already satisfied: numpy>=1.16.0 in d:\\new\\lib\\site-packages (from yellowbrick) (1.21.5)\n",
      "Requirement already satisfied: scikit-learn>=1.0.0 in d:\\new\\lib\\site-packages (from yellowbrick) (1.0.2)\n",
      "Requirement already satisfied: matplotlib!=3.0.0,>=2.0.2 in d:\\new\\lib\\site-packages (from yellowbrick) (3.5.1)\n",
      "Requirement already satisfied: fonttools>=4.22.0 in d:\\new\\lib\\site-packages (from matplotlib!=3.0.0,>=2.0.2->yellowbrick) (4.25.0)\n",
      "Requirement already satisfied: pillow>=6.2.0 in d:\\new\\lib\\site-packages (from matplotlib!=3.0.0,>=2.0.2->yellowbrick) (9.0.1)\n",
      "Requirement already satisfied: packaging>=20.0 in d:\\new\\lib\\site-packages (from matplotlib!=3.0.0,>=2.0.2->yellowbrick) (21.3)\n",
      "Requirement already satisfied: python-dateutil>=2.7 in d:\\new\\lib\\site-packages (from matplotlib!=3.0.0,>=2.0.2->yellowbrick) (2.8.2)\n",
      "Requirement already satisfied: pyparsing>=2.2.1 in d:\\new\\lib\\site-packages (from matplotlib!=3.0.0,>=2.0.2->yellowbrick) (3.0.4)\n",
      "Requirement already satisfied: kiwisolver>=1.0.1 in d:\\new\\lib\\site-packages (from matplotlib!=3.0.0,>=2.0.2->yellowbrick) (1.3.2)\n",
      "Requirement already satisfied: six>=1.5 in d:\\new\\lib\\site-packages (from python-dateutil>=2.7->matplotlib!=3.0.0,>=2.0.2->yellowbrick) (1.16.0)\n",
      "Requirement already satisfied: joblib>=0.11 in d:\\new\\lib\\site-packages (from scikit-learn>=1.0.0->yellowbrick) (1.1.0)\n",
      "Requirement already satisfied: threadpoolctl>=2.0.0 in d:\\new\\lib\\site-packages (from scikit-learn>=1.0.0->yellowbrick) (2.2.0)\n",
      "Note: you may need to restart the kernel to use updated packages.\n"
     ]
    }
   ],
   "source": [
    "pip install yellowbrick"
   ]
  },
  {
   "cell_type": "code",
   "execution_count": 62,
   "id": "0823d31d",
   "metadata": {
    "ExecuteTime": {
     "end_time": "2022-10-09T14:38:28.254856Z",
     "start_time": "2022-10-09T14:37:50.427133Z"
    }
   },
   "outputs": [
    {
     "data": {
      "image/png": "[encoded data removed]",
      "text/plain": [
       "<Figure size 1080x504 with 1 Axes>"
      ]
     },
     "metadata": {},
     "output_type": "display_data"
    }
   ],
   "source": [
    "from sklearn.cluster import KMeans\n",
    "from yellowbrick.cluster import SilhouetteVisualizer\n",
    "plt.figure(figsize=(15,7))\n",
    "k_means = KMeans(n_clusters = 10,random_state=1)\n",
    "visualizer = SilhouetteVisualizer(k_means, colors='yellowbrick')\n",
    "\n",
    "visualizer.fit(scaled_df)        # Fit the data to the visualizer\n",
    "visualizer.show();     # Finalize and render the figure"
   ]
  },
  {
   "cell_type": "markdown",
   "id": "b4e899eb",
   "metadata": {},
   "source": [
    "### Appending Clusters to the original dataset"
   ]
  },
  {
   "cell_type": "code",
   "execution_count": 63,
   "id": "9e7aa8c7",
   "metadata": {
    "ExecuteTime": {
     "end_time": "2022-10-09T14:38:28.304309Z",
     "start_time": "2022-10-09T14:38:28.257658Z"
    }
   },
   "outputs": [
    {
     "data": {
      "text/html": [
       "<div>\n",
       "<style scoped>\n",
       "    .dataframe tbody tr th:only-of-type {\n",
       "        vertical-align: middle;\n",
       "    }\n",
       "\n",
       "    .dataframe tbody tr th {\n",
       "        vertical-align: top;\n",
       "    }\n",
       "\n",
       "    .dataframe thead th {\n",
       "        text-align: right;\n",
       "    }\n",
       "</style>\n",
       "<table border=\"1\" class=\"dataframe\">\n",
       "  <thead>\n",
       "    <tr style=\"text-align: right;\">\n",
       "      <th></th>\n",
       "      <th>0</th>\n",
       "      <th>1</th>\n",
       "      <th>2</th>\n",
       "      <th>3</th>\n",
       "      <th>4</th>\n",
       "    </tr>\n",
       "  </thead>\n",
       "  <tbody>\n",
       "    <tr>\n",
       "      <th>Timestamp</th>\n",
       "      <td>2020-9-2-17</td>\n",
       "      <td>2020-9-2-18</td>\n",
       "      <td>2020-9-3-16</td>\n",
       "      <td>2020-9-3-2</td>\n",
       "      <td>2020-9-3-13</td>\n",
       "    </tr>\n",
       "    <tr>\n",
       "      <th>InventoryType</th>\n",
       "      <td>Format1</td>\n",
       "      <td>Format1</td>\n",
       "      <td>Format6</td>\n",
       "      <td>Format1</td>\n",
       "      <td>Format1</td>\n",
       "    </tr>\n",
       "    <tr>\n",
       "      <th>Ad - Length</th>\n",
       "      <td>300</td>\n",
       "      <td>300</td>\n",
       "      <td>336</td>\n",
       "      <td>300</td>\n",
       "      <td>300</td>\n",
       "    </tr>\n",
       "    <tr>\n",
       "      <th>Ad- Width</th>\n",
       "      <td>250</td>\n",
       "      <td>250</td>\n",
       "      <td>250</td>\n",
       "      <td>250</td>\n",
       "      <td>250</td>\n",
       "    </tr>\n",
       "    <tr>\n",
       "      <th>Ad Size</th>\n",
       "      <td>75000</td>\n",
       "      <td>75000</td>\n",
       "      <td>84000</td>\n",
       "      <td>75000</td>\n",
       "      <td>75000</td>\n",
       "    </tr>\n",
       "    <tr>\n",
       "      <th>Ad Type</th>\n",
       "      <td>Inter222</td>\n",
       "      <td>Inter223</td>\n",
       "      <td>Inter217</td>\n",
       "      <td>Inter224</td>\n",
       "      <td>Inter225</td>\n",
       "    </tr>\n",
       "    <tr>\n",
       "      <th>Platform</th>\n",
       "      <td>Video</td>\n",
       "      <td>Web</td>\n",
       "      <td>Web</td>\n",
       "      <td>Web</td>\n",
       "      <td>Video</td>\n",
       "    </tr>\n",
       "    <tr>\n",
       "      <th>Device Type</th>\n",
       "      <td>Desktop</td>\n",
       "      <td>Mobile</td>\n",
       "      <td>Desktop</td>\n",
       "      <td>Desktop</td>\n",
       "      <td>Mobile</td>\n",
       "    </tr>\n",
       "    <tr>\n",
       "      <th>Format</th>\n",
       "      <td>Display</td>\n",
       "      <td>Display</td>\n",
       "      <td>Video</td>\n",
       "      <td>Display</td>\n",
       "      <td>Display</td>\n",
       "    </tr>\n",
       "    <tr>\n",
       "      <th>Available_Impressions</th>\n",
       "      <td>1806</td>\n",
       "      <td>1979</td>\n",
       "      <td>1566</td>\n",
       "      <td>643</td>\n",
       "      <td>1550</td>\n",
       "    </tr>\n",
       "    <tr>\n",
       "      <th>Matched_Queries</th>\n",
       "      <td>325</td>\n",
       "      <td>384</td>\n",
       "      <td>298</td>\n",
       "      <td>103</td>\n",
       "      <td>347</td>\n",
       "    </tr>\n",
       "    <tr>\n",
       "      <th>Impressions</th>\n",
       "      <td>323</td>\n",
       "      <td>380</td>\n",
       "      <td>297</td>\n",
       "      <td>102</td>\n",
       "      <td>345</td>\n",
       "    </tr>\n",
       "    <tr>\n",
       "      <th>Clicks</th>\n",
       "      <td>1</td>\n",
       "      <td>0</td>\n",
       "      <td>0</td>\n",
       "      <td>0</td>\n",
       "      <td>0</td>\n",
       "    </tr>\n",
       "    <tr>\n",
       "      <th>Spend</th>\n",
       "      <td>0.0</td>\n",
       "      <td>0.0</td>\n",
       "      <td>0.0</td>\n",
       "      <td>0.0</td>\n",
       "      <td>0.0</td>\n",
       "    </tr>\n",
       "    <tr>\n",
       "      <th>Fee</th>\n",
       "      <td>0.35</td>\n",
       "      <td>0.35</td>\n",
       "      <td>0.35</td>\n",
       "      <td>0.35</td>\n",
       "      <td>0.35</td>\n",
       "    </tr>\n",
       "    <tr>\n",
       "      <th>Revenue</th>\n",
       "      <td>0.0</td>\n",
       "      <td>0.0</td>\n",
       "      <td>0.0</td>\n",
       "      <td>0.0</td>\n",
       "      <td>0.0</td>\n",
       "    </tr>\n",
       "    <tr>\n",
       "      <th>CTR</th>\n",
       "      <td>0.31</td>\n",
       "      <td>0.0</td>\n",
       "      <td>0.0</td>\n",
       "      <td>0.0</td>\n",
       "      <td>0.0</td>\n",
       "    </tr>\n",
       "    <tr>\n",
       "      <th>CPM</th>\n",
       "      <td>0.0</td>\n",
       "      <td>0.0</td>\n",
       "      <td>0.0</td>\n",
       "      <td>0.0</td>\n",
       "      <td>0.0</td>\n",
       "    </tr>\n",
       "    <tr>\n",
       "      <th>CPC</th>\n",
       "      <td>0.0</td>\n",
       "      <td>0.0</td>\n",
       "      <td>0.0</td>\n",
       "      <td>0.0</td>\n",
       "      <td>0.0</td>\n",
       "    </tr>\n",
       "    <tr>\n",
       "      <th>Clus_kmeans</th>\n",
       "      <td>8</td>\n",
       "      <td>8</td>\n",
       "      <td>8</td>\n",
       "      <td>8</td>\n",
       "      <td>8</td>\n",
       "    </tr>\n",
       "  </tbody>\n",
       "</table>\n",
       "</div>"
      ],
      "text/plain": [
       "                                 0            1            2           3  \\\n",
       "Timestamp              2020-9-2-17  2020-9-2-18  2020-9-3-16  2020-9-3-2   \n",
       "InventoryType              Format1      Format1      Format6     Format1   \n",
       "Ad - Length                    300          300          336         300   \n",
       "Ad- Width                      250          250          250         250   \n",
       "Ad Size                      75000        75000        84000       75000   \n",
       "Ad Type                   Inter222     Inter223     Inter217    Inter224   \n",
       "Platform                     Video          Web          Web         Web   \n",
       "Device Type                Desktop       Mobile      Desktop     Desktop   \n",
       "Format                     Display      Display        Video     Display   \n",
       "Available_Impressions         1806         1979         1566         643   \n",
       "Matched_Queries                325          384          298         103   \n",
       "Impressions                    323          380          297         102   \n",
       "Clicks                           1            0            0           0   \n",
       "Spend                          0.0          0.0          0.0         0.0   \n",
       "Fee                           0.35         0.35         0.35        0.35   \n",
       "Revenue                        0.0          0.0          0.0         0.0   \n",
       "CTR                           0.31          0.0          0.0         0.0   \n",
       "CPM                            0.0          0.0          0.0         0.0   \n",
       "CPC                            0.0          0.0          0.0         0.0   \n",
       "Clus_kmeans                      8            8            8           8   \n",
       "\n",
       "                                 4  \n",
       "Timestamp              2020-9-3-13  \n",
       "InventoryType              Format1  \n",
       "Ad - Length                    300  \n",
       "Ad- Width                      250  \n",
       "Ad Size                      75000  \n",
       "Ad Type                   Inter225  \n",
       "Platform                     Video  \n",
       "Device Type                 Mobile  \n",
       "Format                     Display  \n",
       "Available_Impressions         1550  \n",
       "Matched_Queries                347  \n",
       "Impressions                    345  \n",
       "Clicks                           0  \n",
       "Spend                          0.0  \n",
       "Fee                           0.35  \n",
       "Revenue                        0.0  \n",
       "CTR                            0.0  \n",
       "CPM                            0.0  \n",
       "CPC                            0.0  \n",
       "Clus_kmeans                      8  "
      ]
     },
     "execution_count": 63,
     "metadata": {},
     "output_type": "execute_result"
    }
   ],
   "source": [
    "df[\"Clus_kmeans\"] = labels\n",
    "df.head().T"
   ]
  },
  {
   "cell_type": "code",
   "execution_count": 64,
   "id": "cb4d2e4c",
   "metadata": {
    "ExecuteTime": {
     "end_time": "2022-10-09T14:38:28.325194Z",
     "start_time": "2022-10-09T14:38:28.310066Z"
    }
   },
   "outputs": [],
   "source": [
    "from sklearn.metrics import silhouette_samples, silhouette_score\n"
   ]
  },
  {
   "cell_type": "code",
   "execution_count": 65,
   "id": "7b10ef67",
   "metadata": {
    "ExecuteTime": {
     "end_time": "2022-10-09T14:38:46.114568Z",
     "start_time": "2022-10-09T14:38:28.330195Z"
    }
   },
   "outputs": [
    {
     "data": {
      "text/plain": [
       "0.5252856773541316"
      ]
     },
     "execution_count": 65,
     "metadata": {},
     "output_type": "execute_result"
    }
   ],
   "source": [
    "silhouette_score(scaled_df,labels)"
   ]
  },
  {
   "cell_type": "code",
   "execution_count": 66,
   "id": "1a987cec",
   "metadata": {
    "ExecuteTime": {
     "end_time": "2022-10-09T14:39:04.043002Z",
     "start_time": "2022-10-09T14:38:46.114568Z"
    }
   },
   "outputs": [],
   "source": [
    "sil_width = silhouette_samples(scaled_df,labels)"
   ]
  },
  {
   "cell_type": "code",
   "execution_count": 67,
   "id": "49db278b",
   "metadata": {
    "ExecuteTime": {
     "end_time": "2022-10-09T14:39:04.074261Z",
     "start_time": "2022-10-09T14:39:04.043002Z"
    }
   },
   "outputs": [
    {
     "data": {
      "text/html": [
       "<div>\n",
       "<style scoped>\n",
       "    .dataframe tbody tr th:only-of-type {\n",
       "        vertical-align: middle;\n",
       "    }\n",
       "\n",
       "    .dataframe tbody tr th {\n",
       "        vertical-align: top;\n",
       "    }\n",
       "\n",
       "    .dataframe thead th {\n",
       "        text-align: right;\n",
       "    }\n",
       "</style>\n",
       "<table border=\"1\" class=\"dataframe\">\n",
       "  <thead>\n",
       "    <tr style=\"text-align: right;\">\n",
       "      <th></th>\n",
       "      <th>0</th>\n",
       "      <th>1</th>\n",
       "      <th>2</th>\n",
       "      <th>3</th>\n",
       "      <th>4</th>\n",
       "    </tr>\n",
       "  </thead>\n",
       "  <tbody>\n",
       "    <tr>\n",
       "      <th>Timestamp</th>\n",
       "      <td>2020-9-2-17</td>\n",
       "      <td>2020-9-2-18</td>\n",
       "      <td>2020-9-3-16</td>\n",
       "      <td>2020-9-3-2</td>\n",
       "      <td>2020-9-3-13</td>\n",
       "    </tr>\n",
       "    <tr>\n",
       "      <th>InventoryType</th>\n",
       "      <td>Format1</td>\n",
       "      <td>Format1</td>\n",
       "      <td>Format6</td>\n",
       "      <td>Format1</td>\n",
       "      <td>Format1</td>\n",
       "    </tr>\n",
       "    <tr>\n",
       "      <th>Ad - Length</th>\n",
       "      <td>300</td>\n",
       "      <td>300</td>\n",
       "      <td>336</td>\n",
       "      <td>300</td>\n",
       "      <td>300</td>\n",
       "    </tr>\n",
       "    <tr>\n",
       "      <th>Ad- Width</th>\n",
       "      <td>250</td>\n",
       "      <td>250</td>\n",
       "      <td>250</td>\n",
       "      <td>250</td>\n",
       "      <td>250</td>\n",
       "    </tr>\n",
       "    <tr>\n",
       "      <th>Ad Size</th>\n",
       "      <td>75000</td>\n",
       "      <td>75000</td>\n",
       "      <td>84000</td>\n",
       "      <td>75000</td>\n",
       "      <td>75000</td>\n",
       "    </tr>\n",
       "    <tr>\n",
       "      <th>Ad Type</th>\n",
       "      <td>Inter222</td>\n",
       "      <td>Inter223</td>\n",
       "      <td>Inter217</td>\n",
       "      <td>Inter224</td>\n",
       "      <td>Inter225</td>\n",
       "    </tr>\n",
       "    <tr>\n",
       "      <th>Platform</th>\n",
       "      <td>Video</td>\n",
       "      <td>Web</td>\n",
       "      <td>Web</td>\n",
       "      <td>Web</td>\n",
       "      <td>Video</td>\n",
       "    </tr>\n",
       "    <tr>\n",
       "      <th>Device Type</th>\n",
       "      <td>Desktop</td>\n",
       "      <td>Mobile</td>\n",
       "      <td>Desktop</td>\n",
       "      <td>Desktop</td>\n",
       "      <td>Mobile</td>\n",
       "    </tr>\n",
       "    <tr>\n",
       "      <th>Format</th>\n",
       "      <td>Display</td>\n",
       "      <td>Display</td>\n",
       "      <td>Video</td>\n",
       "      <td>Display</td>\n",
       "      <td>Display</td>\n",
       "    </tr>\n",
       "    <tr>\n",
       "      <th>Available_Impressions</th>\n",
       "      <td>1806</td>\n",
       "      <td>1979</td>\n",
       "      <td>1566</td>\n",
       "      <td>643</td>\n",
       "      <td>1550</td>\n",
       "    </tr>\n",
       "    <tr>\n",
       "      <th>Matched_Queries</th>\n",
       "      <td>325</td>\n",
       "      <td>384</td>\n",
       "      <td>298</td>\n",
       "      <td>103</td>\n",
       "      <td>347</td>\n",
       "    </tr>\n",
       "    <tr>\n",
       "      <th>Impressions</th>\n",
       "      <td>323</td>\n",
       "      <td>380</td>\n",
       "      <td>297</td>\n",
       "      <td>102</td>\n",
       "      <td>345</td>\n",
       "    </tr>\n",
       "    <tr>\n",
       "      <th>Clicks</th>\n",
       "      <td>1</td>\n",
       "      <td>0</td>\n",
       "      <td>0</td>\n",
       "      <td>0</td>\n",
       "      <td>0</td>\n",
       "    </tr>\n",
       "    <tr>\n",
       "      <th>Spend</th>\n",
       "      <td>0.0</td>\n",
       "      <td>0.0</td>\n",
       "      <td>0.0</td>\n",
       "      <td>0.0</td>\n",
       "      <td>0.0</td>\n",
       "    </tr>\n",
       "    <tr>\n",
       "      <th>Fee</th>\n",
       "      <td>0.35</td>\n",
       "      <td>0.35</td>\n",
       "      <td>0.35</td>\n",
       "      <td>0.35</td>\n",
       "      <td>0.35</td>\n",
       "    </tr>\n",
       "    <tr>\n",
       "      <th>Revenue</th>\n",
       "      <td>0.0</td>\n",
       "      <td>0.0</td>\n",
       "      <td>0.0</td>\n",
       "      <td>0.0</td>\n",
       "      <td>0.0</td>\n",
       "    </tr>\n",
       "    <tr>\n",
       "      <th>CTR</th>\n",
       "      <td>0.31</td>\n",
       "      <td>0.0</td>\n",
       "      <td>0.0</td>\n",
       "      <td>0.0</td>\n",
       "      <td>0.0</td>\n",
       "    </tr>\n",
       "    <tr>\n",
       "      <th>CPM</th>\n",
       "      <td>0.0</td>\n",
       "      <td>0.0</td>\n",
       "      <td>0.0</td>\n",
       "      <td>0.0</td>\n",
       "      <td>0.0</td>\n",
       "    </tr>\n",
       "    <tr>\n",
       "      <th>CPC</th>\n",
       "      <td>0.0</td>\n",
       "      <td>0.0</td>\n",
       "      <td>0.0</td>\n",
       "      <td>0.0</td>\n",
       "      <td>0.0</td>\n",
       "    </tr>\n",
       "    <tr>\n",
       "      <th>Clus_kmeans</th>\n",
       "      <td>8</td>\n",
       "      <td>8</td>\n",
       "      <td>8</td>\n",
       "      <td>8</td>\n",
       "      <td>8</td>\n",
       "    </tr>\n",
       "    <tr>\n",
       "      <th>sil_width</th>\n",
       "      <td>0.851195</td>\n",
       "      <td>0.858649</td>\n",
       "      <td>0.643474</td>\n",
       "      <td>0.8586</td>\n",
       "      <td>0.858666</td>\n",
       "    </tr>\n",
       "  </tbody>\n",
       "</table>\n",
       "</div>"
      ],
      "text/plain": [
       "                                 0            1            2           3  \\\n",
       "Timestamp              2020-9-2-17  2020-9-2-18  2020-9-3-16  2020-9-3-2   \n",
       "InventoryType              Format1      Format1      Format6     Format1   \n",
       "Ad - Length                    300          300          336         300   \n",
       "Ad- Width                      250          250          250         250   \n",
       "Ad Size                      75000        75000        84000       75000   \n",
       "Ad Type                   Inter222     Inter223     Inter217    Inter224   \n",
       "Platform                     Video          Web          Web         Web   \n",
       "Device Type                Desktop       Mobile      Desktop     Desktop   \n",
       "Format                     Display      Display        Video     Display   \n",
       "Available_Impressions         1806         1979         1566         643   \n",
       "Matched_Queries                325          384          298         103   \n",
       "Impressions                    323          380          297         102   \n",
       "Clicks                           1            0            0           0   \n",
       "Spend                          0.0          0.0          0.0         0.0   \n",
       "Fee                           0.35         0.35         0.35        0.35   \n",
       "Revenue                        0.0          0.0          0.0         0.0   \n",
       "CTR                           0.31          0.0          0.0         0.0   \n",
       "CPM                            0.0          0.0          0.0         0.0   \n",
       "CPC                            0.0          0.0          0.0         0.0   \n",
       "Clus_kmeans                      8            8            8           8   \n",
       "sil_width                 0.851195     0.858649     0.643474      0.8586   \n",
       "\n",
       "                                 4  \n",
       "Timestamp              2020-9-3-13  \n",
       "InventoryType              Format1  \n",
       "Ad - Length                    300  \n",
       "Ad- Width                      250  \n",
       "Ad Size                      75000  \n",
       "Ad Type                   Inter225  \n",
       "Platform                     Video  \n",
       "Device Type                 Mobile  \n",
       "Format                     Display  \n",
       "Available_Impressions         1550  \n",
       "Matched_Queries                347  \n",
       "Impressions                    345  \n",
       "Clicks                           0  \n",
       "Spend                          0.0  \n",
       "Fee                           0.35  \n",
       "Revenue                        0.0  \n",
       "CTR                            0.0  \n",
       "CPM                            0.0  \n",
       "CPC                            0.0  \n",
       "Clus_kmeans                      8  \n",
       "sil_width                 0.858666  "
      ]
     },
     "execution_count": 67,
     "metadata": {},
     "output_type": "execute_result"
    }
   ],
   "source": [
    "df[\"sil_width\"] = sil_width\n",
    "df.head(5).T"
   ]
  },
  {
   "cell_type": "code",
   "execution_count": 68,
   "id": "17416cc2",
   "metadata": {
    "ExecuteTime": {
     "end_time": "2022-10-09T14:39:20.146398Z",
     "start_time": "2022-10-09T14:39:04.074261Z"
    }
   },
   "outputs": [
    {
     "data": {
      "text/plain": [
       "-0.17952350399218917"
      ]
     },
     "execution_count": 68,
     "metadata": {},
     "output_type": "execute_result"
    }
   ],
   "source": [
    "silhouette_samples(scaled_df,labels).min()"
   ]
  },
  {
   "cell_type": "code",
   "execution_count": 69,
   "id": "6748798d",
   "metadata": {
    "ExecuteTime": {
     "end_time": "2022-10-09T14:39:20.554332Z",
     "start_time": "2022-10-09T14:39:20.146398Z"
    }
   },
   "outputs": [],
   "source": [
    "df.to_csv('Clean_ads_SG1.csv')"
   ]
  },
  {
   "cell_type": "markdown",
   "id": "f855e33b",
   "metadata": {},
   "source": [
    "# Cluster Profiling"
   ]
  },
  {
   "cell_type": "code",
   "execution_count": 70,
   "id": "ec5ddd34",
   "metadata": {
    "ExecuteTime": {
     "end_time": "2022-10-09T14:39:20.586019Z",
     "start_time": "2022-10-09T14:39:20.554332Z"
    }
   },
   "outputs": [
    {
     "data": {
      "text/plain": [
       "0    1157\n",
       "1    2545\n",
       "2    2201\n",
       "3    1640\n",
       "4    5700\n",
       "5    3037\n",
       "6    1547\n",
       "7    1507\n",
       "8    2738\n",
       "9    3785\n",
       "Name: Clus_kmeans, dtype: int64"
      ]
     },
     "execution_count": 70,
     "metadata": {},
     "output_type": "execute_result"
    }
   ],
   "source": [
    "df.Clus_kmeans.value_counts().sort_index()"
   ]
  },
  {
   "cell_type": "code",
   "execution_count": 71,
   "id": "736a4542",
   "metadata": {
    "ExecuteTime": {
     "end_time": "2022-10-09T14:39:20.632882Z",
     "start_time": "2022-10-09T14:39:20.586019Z"
    }
   },
   "outputs": [
    {
     "data": {
      "text/html": [
       "<div>\n",
       "<style scoped>\n",
       "    .dataframe tbody tr th:only-of-type {\n",
       "        vertical-align: middle;\n",
       "    }\n",
       "\n",
       "    .dataframe tbody tr th {\n",
       "        vertical-align: top;\n",
       "    }\n",
       "\n",
       "    .dataframe thead th {\n",
       "        text-align: right;\n",
       "    }\n",
       "</style>\n",
       "<table border=\"1\" class=\"dataframe\">\n",
       "  <thead>\n",
       "    <tr style=\"text-align: right;\">\n",
       "      <th>Clus_kmeans</th>\n",
       "      <th>0</th>\n",
       "      <th>1</th>\n",
       "      <th>2</th>\n",
       "      <th>3</th>\n",
       "      <th>4</th>\n",
       "      <th>5</th>\n",
       "      <th>6</th>\n",
       "      <th>7</th>\n",
       "      <th>8</th>\n",
       "      <th>9</th>\n",
       "    </tr>\n",
       "  </thead>\n",
       "  <tbody>\n",
       "    <tr>\n",
       "      <th>Ad - Length</th>\n",
       "      <td>650.302506</td>\n",
       "      <td>3.093674e+02</td>\n",
       "      <td>589.613812</td>\n",
       "      <td>139.075610</td>\n",
       "      <td>120.947368</td>\n",
       "      <td>678.231149</td>\n",
       "      <td>3.111648e+02</td>\n",
       "      <td>7.280000e+02</td>\n",
       "      <td>301.078159</td>\n",
       "      <td>4.961184e+02</td>\n",
       "    </tr>\n",
       "    <tr>\n",
       "      <th>Ad- Width</th>\n",
       "      <td>349.783924</td>\n",
       "      <td>2.634853e+02</td>\n",
       "      <td>312.835075</td>\n",
       "      <td>575.670732</td>\n",
       "      <td>599.938596</td>\n",
       "      <td>304.955548</td>\n",
       "      <td>2.748804e+02</td>\n",
       "      <td>9.000000e+01</td>\n",
       "      <td>257.410519</td>\n",
       "      <td>7.129987e+01</td>\n",
       "    </tr>\n",
       "    <tr>\n",
       "      <th>Ad Size</th>\n",
       "      <td>210025.929127</td>\n",
       "      <td>8.070200e+04</td>\n",
       "      <td>180288.959564</td>\n",
       "      <td>75270.731707</td>\n",
       "      <td>72550.000000</td>\n",
       "      <td>204817.912414</td>\n",
       "      <td>8.476840e+04</td>\n",
       "      <td>6.552000e+04</td>\n",
       "      <td>76111.468225</td>\n",
       "      <td>3.567459e+04</td>\n",
       "    </tr>\n",
       "    <tr>\n",
       "      <th>Available_Impressions</th>\n",
       "      <td>56582.399309</td>\n",
       "      <td>6.819652e+06</td>\n",
       "      <td>44232.905498</td>\n",
       "      <td>767466.134756</td>\n",
       "      <td>27895.779825</td>\n",
       "      <td>359657.777741</td>\n",
       "      <td>2.437957e+06</td>\n",
       "      <td>1.645498e+07</td>\n",
       "      <td>173144.857560</td>\n",
       "      <td>1.856768e+06</td>\n",
       "    </tr>\n",
       "    <tr>\n",
       "      <th>Matched_Queries</th>\n",
       "      <td>30143.363008</td>\n",
       "      <td>3.742399e+06</td>\n",
       "      <td>27247.751022</td>\n",
       "      <td>541234.695122</td>\n",
       "      <td>16642.670702</td>\n",
       "      <td>195037.536385</td>\n",
       "      <td>1.300753e+06</td>\n",
       "      <td>8.821051e+06</td>\n",
       "      <td>98770.383857</td>\n",
       "      <td>8.198316e+05</td>\n",
       "    </tr>\n",
       "    <tr>\n",
       "      <th>Impressions</th>\n",
       "      <td>28852.831461</td>\n",
       "      <td>3.654705e+06</td>\n",
       "      <td>22558.531577</td>\n",
       "      <td>456422.322561</td>\n",
       "      <td>10913.344561</td>\n",
       "      <td>165336.999341</td>\n",
       "      <td>1.265864e+06</td>\n",
       "      <td>8.489426e+06</td>\n",
       "      <td>95571.387874</td>\n",
       "      <td>7.732171e+05</td>\n",
       "    </tr>\n",
       "    <tr>\n",
       "      <th>Clicks</th>\n",
       "      <td>109.503889</td>\n",
       "      <td>8.508613e+03</td>\n",
       "      <td>2808.577919</td>\n",
       "      <td>62388.310976</td>\n",
       "      <td>1629.319474</td>\n",
       "      <td>20541.827791</td>\n",
       "      <td>3.673880e+03</td>\n",
       "      <td>1.590701e+04</td>\n",
       "      <td>266.619430</td>\n",
       "      <td>3.691699e+03</td>\n",
       "    </tr>\n",
       "    <tr>\n",
       "      <th>Spend</th>\n",
       "      <td>56.748341</td>\n",
       "      <td>5.304825e+03</td>\n",
       "      <td>283.741985</td>\n",
       "      <td>6713.612921</td>\n",
       "      <td>170.622512</td>\n",
       "      <td>1759.069029</td>\n",
       "      <td>2.325994e+03</td>\n",
       "      <td>1.427825e+04</td>\n",
       "      <td>177.677896</td>\n",
       "      <td>1.403646e+03</td>\n",
       "    </tr>\n",
       "    <tr>\n",
       "      <th>Fee</th>\n",
       "      <td>0.350000</td>\n",
       "      <td>3.161965e-01</td>\n",
       "      <td>0.350000</td>\n",
       "      <td>0.292226</td>\n",
       "      <td>0.350000</td>\n",
       "      <td>0.349236</td>\n",
       "      <td>3.465740e-01</td>\n",
       "      <td>2.474453e-01</td>\n",
       "      <td>0.350000</td>\n",
       "      <td>3.499472e-01</td>\n",
       "    </tr>\n",
       "    <tr>\n",
       "      <th>Revenue</th>\n",
       "      <td>36.886441</td>\n",
       "      <td>3.699550e+03</td>\n",
       "      <td>184.432364</td>\n",
       "      <td>4807.698994</td>\n",
       "      <td>110.904582</td>\n",
       "      <td>1145.977735</td>\n",
       "      <td>1.523012e+03</td>\n",
       "      <td>1.088083e+04</td>\n",
       "      <td>115.490614</td>\n",
       "      <td>9.125501e+02</td>\n",
       "    </tr>\n",
       "    <tr>\n",
       "      <th>CTR</th>\n",
       "      <td>0.447710</td>\n",
       "      <td>2.384676e-01</td>\n",
       "      <td>16.132649</td>\n",
       "      <td>13.782360</td>\n",
       "      <td>16.379344</td>\n",
       "      <td>12.519022</td>\n",
       "      <td>3.067809e-01</td>\n",
       "      <td>1.816656e-01</td>\n",
       "      <td>0.317009</td>\n",
       "      <td>4.620740e-01</td>\n",
       "    </tr>\n",
       "    <tr>\n",
       "      <th>CPM</th>\n",
       "      <td>1.115177</td>\n",
       "      <td>1.469949e+00</td>\n",
       "      <td>14.458637</td>\n",
       "      <td>15.595104</td>\n",
       "      <td>14.839149</td>\n",
       "      <td>10.944570</td>\n",
       "      <td>1.852586e+00</td>\n",
       "      <td>1.729920e+00</td>\n",
       "      <td>0.692370</td>\n",
       "      <td>1.834724e+00</td>\n",
       "    </tr>\n",
       "    <tr>\n",
       "      <th>CPC</th>\n",
       "      <td>0.060294</td>\n",
       "      <td>6.296110e-01</td>\n",
       "      <td>0.097342</td>\n",
       "      <td>0.113378</td>\n",
       "      <td>0.100714</td>\n",
       "      <td>0.087830</td>\n",
       "      <td>6.934324e-01</td>\n",
       "      <td>9.727206e-01</td>\n",
       "      <td>0.186560</td>\n",
       "      <td>4.762351e-01</td>\n",
       "    </tr>\n",
       "    <tr>\n",
       "      <th>sil_width</th>\n",
       "      <td>0.629052</td>\n",
       "      <td>5.361237e-01</td>\n",
       "      <td>0.201952</td>\n",
       "      <td>0.645311</td>\n",
       "      <td>0.530832</td>\n",
       "      <td>0.511673</td>\n",
       "      <td>4.179283e-01</td>\n",
       "      <td>6.599183e-01</td>\n",
       "      <td>0.735795</td>\n",
       "      <td>4.628610e-01</td>\n",
       "    </tr>\n",
       "    <tr>\n",
       "      <th>freq</th>\n",
       "      <td>1157.000000</td>\n",
       "      <td>2.545000e+03</td>\n",
       "      <td>2201.000000</td>\n",
       "      <td>1640.000000</td>\n",
       "      <td>5700.000000</td>\n",
       "      <td>3037.000000</td>\n",
       "      <td>1.547000e+03</td>\n",
       "      <td>1.507000e+03</td>\n",
       "      <td>2738.000000</td>\n",
       "      <td>3.785000e+03</td>\n",
       "    </tr>\n",
       "  </tbody>\n",
       "</table>\n",
       "</div>"
      ],
      "text/plain": [
       "Clus_kmeans                        0             1              2  \\\n",
       "Ad - Length               650.302506  3.093674e+02     589.613812   \n",
       "Ad- Width                 349.783924  2.634853e+02     312.835075   \n",
       "Ad Size                210025.929127  8.070200e+04  180288.959564   \n",
       "Available_Impressions   56582.399309  6.819652e+06   44232.905498   \n",
       "Matched_Queries         30143.363008  3.742399e+06   27247.751022   \n",
       "Impressions             28852.831461  3.654705e+06   22558.531577   \n",
       "Clicks                    109.503889  8.508613e+03    2808.577919   \n",
       "Spend                      56.748341  5.304825e+03     283.741985   \n",
       "Fee                         0.350000  3.161965e-01       0.350000   \n",
       "Revenue                    36.886441  3.699550e+03     184.432364   \n",
       "CTR                         0.447710  2.384676e-01      16.132649   \n",
       "CPM                         1.115177  1.469949e+00      14.458637   \n",
       "CPC                         0.060294  6.296110e-01       0.097342   \n",
       "sil_width                   0.629052  5.361237e-01       0.201952   \n",
       "freq                     1157.000000  2.545000e+03    2201.000000   \n",
       "\n",
       "Clus_kmeans                        3             4              5  \\\n",
       "Ad - Length               139.075610    120.947368     678.231149   \n",
       "Ad- Width                 575.670732    599.938596     304.955548   \n",
       "Ad Size                 75270.731707  72550.000000  204817.912414   \n",
       "Available_Impressions  767466.134756  27895.779825  359657.777741   \n",
       "Matched_Queries        541234.695122  16642.670702  195037.536385   \n",
       "Impressions            456422.322561  10913.344561  165336.999341   \n",
       "Clicks                  62388.310976   1629.319474   20541.827791   \n",
       "Spend                    6713.612921    170.622512    1759.069029   \n",
       "Fee                         0.292226      0.350000       0.349236   \n",
       "Revenue                  4807.698994    110.904582    1145.977735   \n",
       "CTR                        13.782360     16.379344      12.519022   \n",
       "CPM                        15.595104     14.839149      10.944570   \n",
       "CPC                         0.113378      0.100714       0.087830   \n",
       "sil_width                   0.645311      0.530832       0.511673   \n",
       "freq                     1640.000000   5700.000000    3037.000000   \n",
       "\n",
       "Clus_kmeans                       6             7              8             9  \n",
       "Ad - Length            3.111648e+02  7.280000e+02     301.078159  4.961184e+02  \n",
       "Ad- Width              2.748804e+02  9.000000e+01     257.410519  7.129987e+01  \n",
       "Ad Size                8.476840e+04  6.552000e+04   76111.468225  3.567459e+04  \n",
       "Available_Impressions  2.437957e+06  1.645498e+07  173144.857560  1.856768e+06  \n",
       "Matched_Queries        1.300753e+06  8.821051e+06   98770.383857  8.198316e+05  \n",
       "Impressions            1.265864e+06  8.489426e+06   95571.387874  7.732171e+05  \n",
       "Clicks                 3.673880e+03  1.590701e+04     266.619430  3.691699e+03  \n",
       "Spend                  2.325994e+03  1.427825e+04     177.677896  1.403646e+03  \n",
       "Fee                    3.465740e-01  2.474453e-01       0.350000  3.499472e-01  \n",
       "Revenue                1.523012e+03  1.088083e+04     115.490614  9.125501e+02  \n",
       "CTR                    3.067809e-01  1.816656e-01       0.317009  4.620740e-01  \n",
       "CPM                    1.852586e+00  1.729920e+00       0.692370  1.834724e+00  \n",
       "CPC                    6.934324e-01  9.727206e-01       0.186560  4.762351e-01  \n",
       "sil_width              4.179283e-01  6.599183e-01       0.735795  4.628610e-01  \n",
       "freq                   1.547000e+03  1.507000e+03    2738.000000  3.785000e+03  "
      ]
     },
     "execution_count": 71,
     "metadata": {},
     "output_type": "execute_result"
    }
   ],
   "source": [
    "clust_profile=df.drop(['Timestamp'],axis=1)\n",
    "clust_profile=clust_profile.groupby('Clus_kmeans').mean()\n",
    "clust_profile['freq']=df.Clus_kmeans.value_counts().sort_index()\n",
    "clust_profile.T"
   ]
  },
  {
   "cell_type": "code",
   "execution_count": 72,
   "id": "b43b2a59",
   "metadata": {
    "ExecuteTime": {
     "end_time": "2022-10-09T14:39:20.789972Z",
     "start_time": "2022-10-09T14:39:20.632882Z"
    }
   },
   "outputs": [
    {
     "data": {
      "text/html": [
       "<style type=\"text/css\">\n",
       "#T_cf346_row0_col2, #T_cf346_row0_col8, #T_cf346_row2_col8, #T_cf346_row3_col6, #T_cf346_row3_col11, #T_cf346_row4_col1, #T_cf346_row4_col8, #T_cf346_row4_col10, #T_cf346_row4_col14, #T_cf346_row5_col8, #T_cf346_row6_col8, #T_cf346_row7_col0, #T_cf346_row7_col3, #T_cf346_row7_col4, #T_cf346_row7_col5, #T_cf346_row7_col7, #T_cf346_row7_col9, #T_cf346_row7_col12, #T_cf346_row8_col8, #T_cf346_row8_col13, #T_cf346_row9_col8 {\n",
       "  background-color: lightblue;\n",
       "}\n",
       "</style>\n",
       "<table id=\"T_cf346\">\n",
       "  <thead>\n",
       "    <tr>\n",
       "      <th class=\"blank level0\" >&nbsp;</th>\n",
       "      <th id=\"T_cf346_level0_col0\" class=\"col_heading level0 col0\" >Ad - Length</th>\n",
       "      <th id=\"T_cf346_level0_col1\" class=\"col_heading level0 col1\" >Ad- Width</th>\n",
       "      <th id=\"T_cf346_level0_col2\" class=\"col_heading level0 col2\" >Ad Size</th>\n",
       "      <th id=\"T_cf346_level0_col3\" class=\"col_heading level0 col3\" >Available_Impressions</th>\n",
       "      <th id=\"T_cf346_level0_col4\" class=\"col_heading level0 col4\" >Matched_Queries</th>\n",
       "      <th id=\"T_cf346_level0_col5\" class=\"col_heading level0 col5\" >Impressions</th>\n",
       "      <th id=\"T_cf346_level0_col6\" class=\"col_heading level0 col6\" >Clicks</th>\n",
       "      <th id=\"T_cf346_level0_col7\" class=\"col_heading level0 col7\" >Spend</th>\n",
       "      <th id=\"T_cf346_level0_col8\" class=\"col_heading level0 col8\" >Fee</th>\n",
       "      <th id=\"T_cf346_level0_col9\" class=\"col_heading level0 col9\" >Revenue</th>\n",
       "      <th id=\"T_cf346_level0_col10\" class=\"col_heading level0 col10\" >CTR</th>\n",
       "      <th id=\"T_cf346_level0_col11\" class=\"col_heading level0 col11\" >CPM</th>\n",
       "      <th id=\"T_cf346_level0_col12\" class=\"col_heading level0 col12\" >CPC</th>\n",
       "      <th id=\"T_cf346_level0_col13\" class=\"col_heading level0 col13\" >sil_width</th>\n",
       "      <th id=\"T_cf346_level0_col14\" class=\"col_heading level0 col14\" >freq</th>\n",
       "    </tr>\n",
       "    <tr>\n",
       "      <th class=\"index_name level0\" >Clus_kmeans</th>\n",
       "      <th class=\"blank col0\" >&nbsp;</th>\n",
       "      <th class=\"blank col1\" >&nbsp;</th>\n",
       "      <th class=\"blank col2\" >&nbsp;</th>\n",
       "      <th class=\"blank col3\" >&nbsp;</th>\n",
       "      <th class=\"blank col4\" >&nbsp;</th>\n",
       "      <th class=\"blank col5\" >&nbsp;</th>\n",
       "      <th class=\"blank col6\" >&nbsp;</th>\n",
       "      <th class=\"blank col7\" >&nbsp;</th>\n",
       "      <th class=\"blank col8\" >&nbsp;</th>\n",
       "      <th class=\"blank col9\" >&nbsp;</th>\n",
       "      <th class=\"blank col10\" >&nbsp;</th>\n",
       "      <th class=\"blank col11\" >&nbsp;</th>\n",
       "      <th class=\"blank col12\" >&nbsp;</th>\n",
       "      <th class=\"blank col13\" >&nbsp;</th>\n",
       "      <th class=\"blank col14\" >&nbsp;</th>\n",
       "    </tr>\n",
       "  </thead>\n",
       "  <tbody>\n",
       "    <tr>\n",
       "      <th id=\"T_cf346_level0_row0\" class=\"row_heading level0 row0\" >0</th>\n",
       "      <td id=\"T_cf346_row0_col0\" class=\"data row0 col0\" >650.300000</td>\n",
       "      <td id=\"T_cf346_row0_col1\" class=\"data row0 col1\" >349.780000</td>\n",
       "      <td id=\"T_cf346_row0_col2\" class=\"data row0 col2\" >210025.930000</td>\n",
       "      <td id=\"T_cf346_row0_col3\" class=\"data row0 col3\" >56582.400000</td>\n",
       "      <td id=\"T_cf346_row0_col4\" class=\"data row0 col4\" >30143.360000</td>\n",
       "      <td id=\"T_cf346_row0_col5\" class=\"data row0 col5\" >28852.830000</td>\n",
       "      <td id=\"T_cf346_row0_col6\" class=\"data row0 col6\" >109.500000</td>\n",
       "      <td id=\"T_cf346_row0_col7\" class=\"data row0 col7\" >56.750000</td>\n",
       "      <td id=\"T_cf346_row0_col8\" class=\"data row0 col8\" >0.350000</td>\n",
       "      <td id=\"T_cf346_row0_col9\" class=\"data row0 col9\" >36.890000</td>\n",
       "      <td id=\"T_cf346_row0_col10\" class=\"data row0 col10\" >0.450000</td>\n",
       "      <td id=\"T_cf346_row0_col11\" class=\"data row0 col11\" >1.120000</td>\n",
       "      <td id=\"T_cf346_row0_col12\" class=\"data row0 col12\" >0.060000</td>\n",
       "      <td id=\"T_cf346_row0_col13\" class=\"data row0 col13\" >0.630000</td>\n",
       "      <td id=\"T_cf346_row0_col14\" class=\"data row0 col14\" >1157</td>\n",
       "    </tr>\n",
       "    <tr>\n",
       "      <th id=\"T_cf346_level0_row1\" class=\"row_heading level0 row1\" >1</th>\n",
       "      <td id=\"T_cf346_row1_col0\" class=\"data row1 col0\" >309.370000</td>\n",
       "      <td id=\"T_cf346_row1_col1\" class=\"data row1 col1\" >263.490000</td>\n",
       "      <td id=\"T_cf346_row1_col2\" class=\"data row1 col2\" >80702.000000</td>\n",
       "      <td id=\"T_cf346_row1_col3\" class=\"data row1 col3\" >6819651.820000</td>\n",
       "      <td id=\"T_cf346_row1_col4\" class=\"data row1 col4\" >3742399.210000</td>\n",
       "      <td id=\"T_cf346_row1_col5\" class=\"data row1 col5\" >3654704.670000</td>\n",
       "      <td id=\"T_cf346_row1_col6\" class=\"data row1 col6\" >8508.610000</td>\n",
       "      <td id=\"T_cf346_row1_col7\" class=\"data row1 col7\" >5304.820000</td>\n",
       "      <td id=\"T_cf346_row1_col8\" class=\"data row1 col8\" >0.320000</td>\n",
       "      <td id=\"T_cf346_row1_col9\" class=\"data row1 col9\" >3699.550000</td>\n",
       "      <td id=\"T_cf346_row1_col10\" class=\"data row1 col10\" >0.240000</td>\n",
       "      <td id=\"T_cf346_row1_col11\" class=\"data row1 col11\" >1.470000</td>\n",
       "      <td id=\"T_cf346_row1_col12\" class=\"data row1 col12\" >0.630000</td>\n",
       "      <td id=\"T_cf346_row1_col13\" class=\"data row1 col13\" >0.540000</td>\n",
       "      <td id=\"T_cf346_row1_col14\" class=\"data row1 col14\" >2545</td>\n",
       "    </tr>\n",
       "    <tr>\n",
       "      <th id=\"T_cf346_level0_row2\" class=\"row_heading level0 row2\" >2</th>\n",
       "      <td id=\"T_cf346_row2_col0\" class=\"data row2 col0\" >589.610000</td>\n",
       "      <td id=\"T_cf346_row2_col1\" class=\"data row2 col1\" >312.840000</td>\n",
       "      <td id=\"T_cf346_row2_col2\" class=\"data row2 col2\" >180288.960000</td>\n",
       "      <td id=\"T_cf346_row2_col3\" class=\"data row2 col3\" >44232.910000</td>\n",
       "      <td id=\"T_cf346_row2_col4\" class=\"data row2 col4\" >27247.750000</td>\n",
       "      <td id=\"T_cf346_row2_col5\" class=\"data row2 col5\" >22558.530000</td>\n",
       "      <td id=\"T_cf346_row2_col6\" class=\"data row2 col6\" >2808.580000</td>\n",
       "      <td id=\"T_cf346_row2_col7\" class=\"data row2 col7\" >283.740000</td>\n",
       "      <td id=\"T_cf346_row2_col8\" class=\"data row2 col8\" >0.350000</td>\n",
       "      <td id=\"T_cf346_row2_col9\" class=\"data row2 col9\" >184.430000</td>\n",
       "      <td id=\"T_cf346_row2_col10\" class=\"data row2 col10\" >16.130000</td>\n",
       "      <td id=\"T_cf346_row2_col11\" class=\"data row2 col11\" >14.460000</td>\n",
       "      <td id=\"T_cf346_row2_col12\" class=\"data row2 col12\" >0.100000</td>\n",
       "      <td id=\"T_cf346_row2_col13\" class=\"data row2 col13\" >0.200000</td>\n",
       "      <td id=\"T_cf346_row2_col14\" class=\"data row2 col14\" >2201</td>\n",
       "    </tr>\n",
       "    <tr>\n",
       "      <th id=\"T_cf346_level0_row3\" class=\"row_heading level0 row3\" >3</th>\n",
       "      <td id=\"T_cf346_row3_col0\" class=\"data row3 col0\" >139.080000</td>\n",
       "      <td id=\"T_cf346_row3_col1\" class=\"data row3 col1\" >575.670000</td>\n",
       "      <td id=\"T_cf346_row3_col2\" class=\"data row3 col2\" >75270.730000</td>\n",
       "      <td id=\"T_cf346_row3_col3\" class=\"data row3 col3\" >767466.130000</td>\n",
       "      <td id=\"T_cf346_row3_col4\" class=\"data row3 col4\" >541234.700000</td>\n",
       "      <td id=\"T_cf346_row3_col5\" class=\"data row3 col5\" >456422.320000</td>\n",
       "      <td id=\"T_cf346_row3_col6\" class=\"data row3 col6\" >62388.310000</td>\n",
       "      <td id=\"T_cf346_row3_col7\" class=\"data row3 col7\" >6713.610000</td>\n",
       "      <td id=\"T_cf346_row3_col8\" class=\"data row3 col8\" >0.290000</td>\n",
       "      <td id=\"T_cf346_row3_col9\" class=\"data row3 col9\" >4807.700000</td>\n",
       "      <td id=\"T_cf346_row3_col10\" class=\"data row3 col10\" >13.780000</td>\n",
       "      <td id=\"T_cf346_row3_col11\" class=\"data row3 col11\" >15.600000</td>\n",
       "      <td id=\"T_cf346_row3_col12\" class=\"data row3 col12\" >0.110000</td>\n",
       "      <td id=\"T_cf346_row3_col13\" class=\"data row3 col13\" >0.650000</td>\n",
       "      <td id=\"T_cf346_row3_col14\" class=\"data row3 col14\" >1640</td>\n",
       "    </tr>\n",
       "    <tr>\n",
       "      <th id=\"T_cf346_level0_row4\" class=\"row_heading level0 row4\" >4</th>\n",
       "      <td id=\"T_cf346_row4_col0\" class=\"data row4 col0\" >120.950000</td>\n",
       "      <td id=\"T_cf346_row4_col1\" class=\"data row4 col1\" >599.940000</td>\n",
       "      <td id=\"T_cf346_row4_col2\" class=\"data row4 col2\" >72550.000000</td>\n",
       "      <td id=\"T_cf346_row4_col3\" class=\"data row4 col3\" >27895.780000</td>\n",
       "      <td id=\"T_cf346_row4_col4\" class=\"data row4 col4\" >16642.670000</td>\n",
       "      <td id=\"T_cf346_row4_col5\" class=\"data row4 col5\" >10913.340000</td>\n",
       "      <td id=\"T_cf346_row4_col6\" class=\"data row4 col6\" >1629.320000</td>\n",
       "      <td id=\"T_cf346_row4_col7\" class=\"data row4 col7\" >170.620000</td>\n",
       "      <td id=\"T_cf346_row4_col8\" class=\"data row4 col8\" >0.350000</td>\n",
       "      <td id=\"T_cf346_row4_col9\" class=\"data row4 col9\" >110.900000</td>\n",
       "      <td id=\"T_cf346_row4_col10\" class=\"data row4 col10\" >16.380000</td>\n",
       "      <td id=\"T_cf346_row4_col11\" class=\"data row4 col11\" >14.840000</td>\n",
       "      <td id=\"T_cf346_row4_col12\" class=\"data row4 col12\" >0.100000</td>\n",
       "      <td id=\"T_cf346_row4_col13\" class=\"data row4 col13\" >0.530000</td>\n",
       "      <td id=\"T_cf346_row4_col14\" class=\"data row4 col14\" >5700</td>\n",
       "    </tr>\n",
       "    <tr>\n",
       "      <th id=\"T_cf346_level0_row5\" class=\"row_heading level0 row5\" >5</th>\n",
       "      <td id=\"T_cf346_row5_col0\" class=\"data row5 col0\" >678.230000</td>\n",
       "      <td id=\"T_cf346_row5_col1\" class=\"data row5 col1\" >304.960000</td>\n",
       "      <td id=\"T_cf346_row5_col2\" class=\"data row5 col2\" >204817.910000</td>\n",
       "      <td id=\"T_cf346_row5_col3\" class=\"data row5 col3\" >359657.780000</td>\n",
       "      <td id=\"T_cf346_row5_col4\" class=\"data row5 col4\" >195037.540000</td>\n",
       "      <td id=\"T_cf346_row5_col5\" class=\"data row5 col5\" >165337.000000</td>\n",
       "      <td id=\"T_cf346_row5_col6\" class=\"data row5 col6\" >20541.830000</td>\n",
       "      <td id=\"T_cf346_row5_col7\" class=\"data row5 col7\" >1759.070000</td>\n",
       "      <td id=\"T_cf346_row5_col8\" class=\"data row5 col8\" >0.350000</td>\n",
       "      <td id=\"T_cf346_row5_col9\" class=\"data row5 col9\" >1145.980000</td>\n",
       "      <td id=\"T_cf346_row5_col10\" class=\"data row5 col10\" >12.520000</td>\n",
       "      <td id=\"T_cf346_row5_col11\" class=\"data row5 col11\" >10.940000</td>\n",
       "      <td id=\"T_cf346_row5_col12\" class=\"data row5 col12\" >0.090000</td>\n",
       "      <td id=\"T_cf346_row5_col13\" class=\"data row5 col13\" >0.510000</td>\n",
       "      <td id=\"T_cf346_row5_col14\" class=\"data row5 col14\" >3037</td>\n",
       "    </tr>\n",
       "    <tr>\n",
       "      <th id=\"T_cf346_level0_row6\" class=\"row_heading level0 row6\" >6</th>\n",
       "      <td id=\"T_cf346_row6_col0\" class=\"data row6 col0\" >311.160000</td>\n",
       "      <td id=\"T_cf346_row6_col1\" class=\"data row6 col1\" >274.880000</td>\n",
       "      <td id=\"T_cf346_row6_col2\" class"
      ],
      "text/plain": [
       "<pandas.io.formats.style.Styler at 0x20fb8118550>"
      ]
     },
     "execution_count": 72,
     "metadata": {},
     "output_type": "execute_result"
    },
    {
     "data": {
      "text/html": [
       "<b>limit_output extension: Maximum message size of 10000 exceeded with 14543 characters</b>"
      ]
     },
     "metadata": {},
     "output_type": "display_data"
    }
   ],
   "source": [
    "clust_profile=df.drop(['Timestamp'],axis=1)\n",
    "clust_profile=clust_profile.groupby('Clus_kmeans').mean().round(2)\n",
    "clust_profile['freq']=df.Clus_kmeans.value_counts().sort_index()\n",
    "clust_profile.style.highlight_max() \n",
    "## Colouring tables\n",
    "clust_profile.style.highlight_max(color ='lightblue', axis=0)"
   ]
  },
  {
   "cell_type": "code",
   "execution_count": 73,
   "id": "a2ada79d",
   "metadata": {
    "ExecuteTime": {
     "end_time": "2022-10-09T14:39:20.836841Z",
     "start_time": "2022-10-09T14:39:20.789972Z"
    }
   },
   "outputs": [
    {
     "data": {
      "text/html": [
       "<style type=\"text/css\">\n",
       "#T_04ce7_row0_col6, #T_04ce7_row0_col7, #T_04ce7_row0_col9, #T_04ce7_row0_col12, #T_04ce7_row7_col10, #T_04ce7_row8_col11 {\n",
       "  background-color: orange;\n",
       "}\n",
       "</style>\n",
       "<table id=\"T_04ce7\">\n",
       "  <thead>\n",
       "    <tr>\n",
       "      <th class=\"blank level0\" >&nbsp;</th>\n",
       "      <th id=\"T_04ce7_level0_col0\" class=\"col_heading level0 col0\" >Ad - Length</th>\n",
       "      <th id=\"T_04ce7_level0_col1\" class=\"col_heading level0 col1\" >Ad- Width</th>\n",
       "      <th id=\"T_04ce7_level0_col2\" class=\"col_heading level0 col2\" >Ad Size</th>\n",
       "      <th id=\"T_04ce7_level0_col3\" class=\"col_heading level0 col3\" >Available_Impressions</th>\n",
       "      <th id=\"T_04ce7_level0_col4\" class=\"col_heading level0 col4\" >Matched_Queries</th>\n",
       "      <th id=\"T_04ce7_level0_col5\" class=\"col_heading level0 col5\" >Impressions</th>\n",
       "      <th id=\"T_04ce7_level0_col6\" class=\"col_heading level0 col6\" >Clicks</th>\n",
       "      <th id=\"T_04ce7_level0_col7\" class=\"col_heading level0 col7\" >Spend</th>\n",
       "      <th id=\"T_04ce7_level0_col8\" class=\"col_heading level0 col8\" >Fee</th>\n",
       "      <th id=\"T_04ce7_level0_col9\" class=\"col_heading level0 col9\" >Revenue</th>\n",
       "      <th id=\"T_04ce7_level0_col10\" class=\"col_heading level0 col10\" >CTR</th>\n",
       "      <th id=\"T_04ce7_level0_col11\" class=\"col_heading level0 col11\" >CPM</th>\n",
       "      <th id=\"T_04ce7_level0_col12\" class=\"col_heading level0 col12\" >CPC</th>\n",
       "      <th id=\"T_04ce7_level0_col13\" class=\"col_heading level0 col13\" >sil_width</th>\n",
       "      <th id=\"T_04ce7_level0_col14\" class=\"col_heading level0 col14\" >freq</th>\n",
       "    </tr>\n",
       "    <tr>\n",
       "      <th class=\"index_name level0\" >Clus_kmeans</th>\n",
       "      <th class=\"blank col0\" >&nbsp;</th>\n",
       "      <th class=\"blank col1\" >&nbsp;</th>\n",
       "      <th class=\"blank col2\" >&nbsp;</th>\n",
       "      <th class=\"blank col3\" >&nbsp;</th>\n",
       "      <th class=\"blank col4\" >&nbsp;</th>\n",
       "      <th class=\"blank col5\" >&nbsp;</th>\n",
       "      <th class=\"blank col6\" >&nbsp;</th>\n",
       "      <th class=\"blank col7\" >&nbsp;</th>\n",
       "      <th class=\"blank col8\" >&nbsp;</th>\n",
       "      <th class=\"blank col9\" >&nbsp;</th>\n",
       "      <th class=\"blank col10\" >&nbsp;</th>\n",
       "      <th class=\"blank col11\" >&nbsp;</th>\n",
       "      <th class=\"blank col12\" >&nbsp;</th>\n",
       "      <th class=\"blank col13\" >&nbsp;</th>\n",
       "      <th class=\"blank col14\" >&nbsp;</th>\n",
       "    </tr>\n",
       "  </thead>\n",
       "  <tbody>\n",
       "    <tr>\n",
       "      <th id=\"T_04ce7_level0_row0\" class=\"row_heading level0 row0\" >0</th>\n",
       "      <td id=\"T_04ce7_row0_col0\" class=\"data row0 col0\" >650.302506</td>\n",
       "      <td id=\"T_04ce7_row0_col1\" class=\"data row0 col1\" >349.783924</td>\n",
       "      <td id=\"T_04ce7_row0_col2\" class=\"data row0 col2\" >210025.929127</td>\n",
       "      <td id=\"T_04ce7_row0_col3\" class=\"data row0 col3\" >56582.399309</td>\n",
       "      <td id=\"T_04ce7_row0_col4\" class=\"data row0 col4\" >30143.363008</td>\n",
       "      <td id=\"T_04ce7_row0_col5\" class=\"data row0 col5\" >28852.831461</td>\n",
       "      <td id=\"T_04ce7_row0_col6\" class=\"data row0 col6\" >109.503889</td>\n",
       "      <td id=\"T_04ce7_row0_col7\" class=\"data row0 col7\" >56.748341</td>\n",
       "      <td id=\"T_04ce7_row0_col8\" class=\"data row0 col8\" >0.350000</td>\n",
       "      <td id=\"T_04ce7_row0_col9\" class=\"data row0 col9\" >36.886441</td>\n",
       "      <td id=\"T_04ce7_row0_col10\" class=\"data row0 col10\" >0.447710</td>\n",
       "      <td id=\"T_04ce7_row0_col11\" class=\"data row0 col11\" >1.115177</td>\n",
       "      <td id=\"T_04ce7_row0_col12\" class=\"data row0 col12\" >0.060294</td>\n",
       "      <td id=\"T_04ce7_row0_col13\" class=\"data row0 col13\" >0.629052</td>\n",
       "      <td id=\"T_04ce7_row0_col14\" class=\"data row0 col14\" >1157</td>\n",
       "    </tr>\n",
       "    <tr>\n",
       "      <th id=\"T_04ce7_level0_row1\" class=\"row_heading level0 row1\" >1</th>\n",
       "      <td id=\"T_04ce7_row1_col0\" class=\"data row1 col0\" >309.367387</td>\n",
       "      <td id=\"T_04ce7_row1_col1\" class=\"data row1 col1\" >263.485265</td>\n",
       "      <td id=\"T_04ce7_row1_col2\" class=\"data row1 col2\" >80702.003929</td>\n",
       "      <td id=\"T_04ce7_row1_col3\" class=\"data row1 col3\" >6819651.816110</td>\n",
       "      <td id=\"T_04ce7_row1_col4\" class=\"data row1 col4\" >3742399.207073</td>\n",
       "      <td id=\"T_04ce7_row1_col5\" class=\"data row1 col5\" >3654704.665226</td>\n",
       "      <td id=\"T_04ce7_row1_col6\" class=\"data row1 col6\" >8508.613360</td>\n",
       "      <td id=\"T_04ce7_row1_col7\" class=\"data row1 col7\" >5304.824605</td>\n",
       "      <td id=\"T_04ce7_row1_col8\" class=\"data row1 col8\" >0.316196</td>\n",
       "      <td id=\"T_04ce7_row1_col9\" class=\"data row1 col9\" >3699.549804</td>\n",
       "      <td id=\"T_04ce7_row1_col10\" class=\"data row1 col10\" >0.238468</td>\n",
       "      <td id=\"T_04ce7_row1_col11\" class=\"data row1 col11\" >1.469949</td>\n",
       "      <td id=\"T_04ce7_row1_col12\" class=\"data row1 col12\" >0.629611</td>\n",
       "      <td id=\"T_04ce7_row1_col13\" class=\"data row1 col13\" >0.536124</td>\n",
       "      <td id=\"T_04ce7_row1_col14\" class=\"data row1 col14\" >2545</td>\n",
       "    </tr>\n",
       "    <tr>\n",
       "      <th id=\"T_04ce7_level0_row2\" class=\"row_heading level0 row2\" >2</th>\n",
       "      <td id=\"T_04ce7_row2_col0\" class=\"data row2 col0\" >589.613812</td>\n",
       "      <td id=\"T_04ce7_row2_col1\" class=\"data row2 col1\" >312.835075</td>\n",
       "      <td id=\"T_04ce7_row2_col2\" class=\"data row2 col2\" >180288.959564</td>\n",
       "      <td id=\"T_04ce7_row2_col3\" class=\"data row2 col3\" >44232.905498</td>\n",
       "      <td id=\"T_04ce7_row2_col4\" class=\"data row2 col4\" >27247.751022</td>\n",
       "      <td id=\"T_04ce7_row2_col5\" class=\"data row2 col5\" >22558.531577</td>\n",
       "      <td id=\"T_04ce7_row2_col6\" class=\"data row2 col6\" >2808.577919</td>\n",
       "      <td id=\"T_04ce7_row2_col7\" class=\"data row2 col7\" >283.741985</td>\n",
       "      <td id=\"T_04ce7_row2_col8\" class=\"data row2 col8\" >0.350000</td>\n",
       "      <td id=\"T_04ce7_row2_col9\" class=\"data row2 col9\" >184.432364</td>\n",
       "      <td id=\"T_04ce7_row2_col10\" class=\"data row2 col10\" >16.132649</td>\n",
       "      <td id=\"T_04ce7_row2_col11\" class=\"data row2 col11\" >14.458637</td>\n",
       "      <td id=\"T_04ce7_row2_col12\" class=\"data row2 col12\" >0.097342</td>\n",
       "      <td id=\"T_04ce7_row2_col13\" class=\"data row2 col13\" >0.201952</td>\n",
       "      <td id=\"T_04ce7_row2_col14\" class=\"data row2 col14\" >2201</td>\n",
       "    </tr>\n",
       "    <tr>\n",
       "      <th id=\"T_04ce7_level0_row3\" class=\"row_heading level0 row3\" >3</th>\n",
       "      <td id=\"T_04ce7_row3_col0\" class=\"data row3 col0\" >139.075610</td>\n",
       "      <td id=\"T_04ce7_row3_col1\" class=\"data row3 col1\" >575.670732</td>\n",
       "      <td id=\"T_04ce7_row3_col2\" class=\"data row3 col2\" >75270.731707</td>\n",
       "      <td id=\"T_04ce7_row3_col3\" class=\"data row3 col3\" >767466.134756</td>\n",
       "      <td id=\"T_04ce7_row3_col4\" class=\"data row3 col4\" >541234.695122</td>\n",
       "      <td id=\"T_04ce7_row3_col5\" class=\"data row3 col5\" >456422.322561</td>\n",
       "      <td id=\"T_04ce7_row3_col6\" class=\"data row3 col6\" >62388.310976</td>\n",
       "      <td id=\"T_04ce7_row3_col7\" class=\"data row3 col7\" >6713.612921</td>\n",
       "      <td id=\"T_04ce7_row3_col8\" class=\"data row3 col8\" >0.292226</td>\n",
       "      <td id=\"T_04ce7_row3_col9\" class=\"data row3 col9\" >4807.698994</td>\n",
       "      <td id=\"T_04ce7_row3_col10\" class=\"data row3 col10\" >13.782360</td>\n",
       "      <td id=\"T_04ce7_row3_col11\" class=\"data row3 col11\" >15.595104</td>\n",
       "      <td id=\"T_04ce7_row3_col12\" class=\"data row3 col12\" >0.113378</td>\n",
       "      <td id=\"T_04ce7_row3_col13\" class=\"data row3 col13\" >0.645311</td>\n",
       "      <td id=\"T_04ce7_row3_col14\" class=\"data row3 col14\" >1640</td>\n",
       "    </tr>\n",
       "    <tr>\n",
       "      <th id=\"T_04ce7_level0_row4\" class=\"row_heading level0 row4\" >4</th>\n",
       "      <td id=\"T_04ce7_row4_col0\" class=\"data row4 col0\" >120.947368</td>\n",
       "      <td id=\"T_04ce7_row4_col1\" class=\"data row4 col1\" >599.938596</td>\n",
       "      <td id=\"T_04ce7_row4_col2\" class=\"data row4 col2\" >72550.000000</td>\n",
       "      <td id=\"T_04ce7_row4_col3\" class=\"data row4 col3\" >27895.779825</td>\n",
       "      <td id=\"T_04ce7_row4_col4\" class=\"data row4 col4\" >16642.670702</td>\n",
       "      <td id=\"T_04ce7_row4_col5\" class=\"data row4 col5\" >10913.344561</td>\n",
       "      <td id=\"T_04ce7_row4_col6\" class=\"data row4 col6\" >1629.319474</td>\n",
       "      <td id=\"T_04ce7_row4_col7\" class=\"data row4 col7\" >170.622512</td>\n",
       "      <td id=\"T_04ce7_row4_col8\" class=\"data row4 col8\" >0.350000</td>\n",
       "      <td id=\"T_04ce7_row4_col9\" class=\"data row4 col9\" >110.904582</td>\n",
       "      <td id=\"T_04ce7_row4_col10\" class=\"data row4 col10\" >16.379344</td>\n",
       "      <td id=\"T_04ce7_row4_col11\" class=\"data row4 col11\" >14.839149</td>\n",
       "      <td id=\"T_04ce7_row4_col12\" class=\"data row4 col12\" >0.100714</td>\n",
       "      <td id=\"T_04ce7_row4_col13\" class=\"data row4 col13\" >0.530832</td>\n",
       "      <td id=\"T_04ce7_row4_col14\" class=\"data row4 col14\" >5700</td>\n",
       "    </tr>\n",
       "    <tr>\n",
       "      <th id=\"T_04ce7_level0_row5\" class=\"row_heading level0 row5\" >5</th>\n",
       "      <td id=\"T_04ce7_row5_col0\" class=\"data row5 col0\" >678.231149</td>\n",
       "      <td id=\"T_04ce7_row5_col1\" class=\"data row5 col1\" >304.955548</td>\n",
       "      <td id=\"T_04ce7_row5_col2\" class=\"data row5 col2\" >204817.912414</td>\n",
       "      <td id=\"T_04ce7_row5_col3\" class=\"data row5 col3\" >359657.777741</td>\n",
       "      <td id=\"T_04ce7_row5_col4\" class=\"data row5 col4\" >195037.536385</td>\n",
       "      <td id=\"T_04ce7_row5_col5\" class=\"data row5 col5\" >165336.999341</td>\n",
       "      <td id=\"T_04ce7_row5_col6\" class=\"data row5 col6\" >20541.827791</td>\n",
       "      <td id=\"T_04ce7_row5_col7\" class=\"data row5 col7\" >1759.069029</td>\n",
       "      <td id=\"T_04ce7_row5_col8\" class=\"data row5 col8\" >0.349236</td>\n",
       "      <td id=\"T_04ce7_row5_col9\" class=\"data row5 col9\" >1145.977735</td>\n",
       "      <td id=\"T_04ce7_row5_col10\" class=\"data row5 col10\" >12.519022</td>\n",
       "      <td id=\"T_04ce7_row5_col11\" class=\"data row5 col11\" >10.944570</td>\n",
       "      <td id=\"T_04ce7_row5_col12\" class=\"data row5 col12\" >0.087830</td>\n",
       "      <td id=\"T_04ce7_row5_col13\" class=\"data row5 col13\" >0.511673</td>\n",
       "      <td id=\"T_04ce7_row5_col14\" class=\"data row5 col14\" >3037</td>\n",
       "    </tr>\n",
       "    <tr>\n",
       "      <th id=\"T_04ce7_level0_row6\" class=\"row_heading level0 row6\" >6</th>\n",
       "      <td id=\"T_04ce7_row6_col0\" class=\"data row6 col0\" >311.164835</td>\n",
       "      <td id=\"T_04ce7_row6_col1\" class=\"data row6 col1\" >274.880414</td>\n",
       "      <td id=\"T_04ce7_row6_col2\" class=\"data row6 col2\" >84768.403361</td>\n",
       "      <td id=\"T_04ce7_row6_col3\" class=\"data row6 col3\" >2437957.153200</td>\n",
       "      <td id=\"T_04ce7_row6_col4\" class=\"data row6 col4\" >1300753.412411</td>\n",
       "      <td id=\"T_04ce7_row6_col5\" class=\"data row6 col5\" >1265863.916613</td>\n",
       "      <td id=\"T_04ce7_row6_col6\" clas"
      ],
      "text/plain": [
       "<pandas.io.formats.style.Styler at 0x20fbe05a7f0>"
      ]
     },
     "execution_count": 73,
     "metadata": {},
     "output_type": "execute_result"
    },
    {
     "data": {
      "text/html": [
       "<b>limit_output extension: Maximum message size of 10000 exceeded with 14238 characters</b>"
      ]
     },
     "metadata": {},
     "output_type": "display_data"
    }
   ],
   "source": [
    "clust_profile=df.drop(['Timestamp'],axis=1)\n",
    "clust_profile=clust_profile.groupby('Clus_kmeans').mean()\n",
    "clust_profile['freq']=df.Clus_kmeans.value_counts().sort_index()\n",
    "clust_profile.style.highlight_min(subset=['Clicks', 'Spend', 'Revenue', 'CPM', 'CTR','CPC'], color = 'orange')"
   ]
  },
  {
   "cell_type": "code",
   "execution_count": 74,
   "id": "8a41a86c",
   "metadata": {
    "ExecuteTime": {
     "end_time": "2022-10-09T14:39:20.946648Z",
     "start_time": "2022-10-09T14:39:20.836841Z"
    }
   },
   "outputs": [],
   "source": [
    "new_df=pd.read_csv(\"Clean_ads_SG1.csv\")"
   ]
  },
  {
   "cell_type": "code",
   "execution_count": 75,
   "id": "7b8e7a02",
   "metadata": {
    "ExecuteTime": {
     "end_time": "2022-10-09T14:39:20.978310Z",
     "start_time": "2022-10-09T14:39:20.946648Z"
    }
   },
   "outputs": [
    {
     "data": {
      "text/html": [
       "<div>\n",
       "<style scoped>\n",
       "    .dataframe tbody tr th:only-of-type {\n",
       "        vertical-align: middle;\n",
       "    }\n",
       "\n",
       "    .dataframe tbody tr th {\n",
       "        vertical-align: top;\n",
       "    }\n",
       "\n",
       "    .dataframe thead th {\n",
       "        text-align: right;\n",
       "    }\n",
       "</style>\n",
       "<table border=\"1\" class=\"dataframe\">\n",
       "  <thead>\n",
       "    <tr style=\"text-align: right;\">\n",
       "      <th></th>\n",
       "      <th>0</th>\n",
       "      <th>1</th>\n",
       "      <th>2</th>\n",
       "      <th>3</th>\n",
       "      <th>4</th>\n",
       "    </tr>\n",
       "  </thead>\n",
       "  <tbody>\n",
       "    <tr>\n",
       "      <th>Unnamed: 0</th>\n",
       "      <td>0</td>\n",
       "      <td>1</td>\n",
       "      <td>2</td>\n",
       "      <td>3</td>\n",
       "      <td>4</td>\n",
       "    </tr>\n",
       "    <tr>\n",
       "      <th>Timestamp</th>\n",
       "      <td>2020-9-2-17</td>\n",
       "      <td>2020-9-2-18</td>\n",
       "      <td>2020-9-3-16</td>\n",
       "      <td>2020-9-3-2</td>\n",
       "      <td>2020-9-3-13</td>\n",
       "    </tr>\n",
       "    <tr>\n",
       "      <th>InventoryType</th>\n",
       "      <td>Format1</td>\n",
       "      <td>Format1</td>\n",
       "      <td>Format6</td>\n",
       "      <td>Format1</td>\n",
       "      <td>Format1</td>\n",
       "    </tr>\n",
       "    <tr>\n",
       "      <th>Ad - Length</th>\n",
       "      <td>300</td>\n",
       "      <td>300</td>\n",
       "      <td>336</td>\n",
       "      <td>300</td>\n",
       "      <td>300</td>\n",
       "    </tr>\n",
       "    <tr>\n",
       "      <th>Ad- Width</th>\n",
       "      <td>250</td>\n",
       "      <td>250</td>\n",
       "      <td>250</td>\n",
       "      <td>250</td>\n",
       "      <td>250</td>\n",
       "    </tr>\n",
       "    <tr>\n",
       "      <th>Ad Size</th>\n",
       "      <td>75000</td>\n",
       "      <td>75000</td>\n",
       "      <td>84000</td>\n",
       "      <td>75000</td>\n",
       "      <td>75000</td>\n",
       "    </tr>\n",
       "    <tr>\n",
       "      <th>Ad Type</th>\n",
       "      <td>Inter222</td>\n",
       "      <td>Inter223</td>\n",
       "      <td>Inter217</td>\n",
       "      <td>Inter224</td>\n",
       "      <td>Inter225</td>\n",
       "    </tr>\n",
       "    <tr>\n",
       "      <th>Platform</th>\n",
       "      <td>Video</td>\n",
       "      <td>Web</td>\n",
       "      <td>Web</td>\n",
       "      <td>Web</td>\n",
       "      <td>Video</td>\n",
       "    </tr>\n",
       "    <tr>\n",
       "      <th>Device Type</th>\n",
       "      <td>Desktop</td>\n",
       "      <td>Mobile</td>\n",
       "      <td>Desktop</td>\n",
       "      <td>Desktop</td>\n",
       "      <td>Mobile</td>\n",
       "    </tr>\n",
       "    <tr>\n",
       "      <th>Format</th>\n",
       "      <td>Display</td>\n",
       "      <td>Display</td>\n",
       "      <td>Video</td>\n",
       "      <td>Display</td>\n",
       "      <td>Display</td>\n",
       "    </tr>\n",
       "    <tr>\n",
       "      <th>Available_Impressions</th>\n",
       "      <td>1806</td>\n",
       "      <td>1979</td>\n",
       "      <td>1566</td>\n",
       "      <td>643</td>\n",
       "      <td>1550</td>\n",
       "    </tr>\n",
       "    <tr>\n",
       "      <th>Matched_Queries</th>\n",
       "      <td>325</td>\n",
       "      <td>384</td>\n",
       "      <td>298</td>\n",
       "      <td>103</td>\n",
       "      <td>347</td>\n",
       "    </tr>\n",
       "    <tr>\n",
       "      <th>Impressions</th>\n",
       "      <td>323</td>\n",
       "      <td>380</td>\n",
       "      <td>297</td>\n",
       "      <td>102</td>\n",
       "      <td>345</td>\n",
       "    </tr>\n",
       "    <tr>\n",
       "      <th>Clicks</th>\n",
       "      <td>1</td>\n",
       "      <td>0</td>\n",
       "      <td>0</td>\n",
       "      <td>0</td>\n",
       "      <td>0</td>\n",
       "    </tr>\n",
       "    <tr>\n",
       "      <th>Spend</th>\n",
       "      <td>0.0</td>\n",
       "      <td>0.0</td>\n",
       "      <td>0.0</td>\n",
       "      <td>0.0</td>\n",
       "      <td>0.0</td>\n",
       "    </tr>\n",
       "    <tr>\n",
       "      <th>Fee</th>\n",
       "      <td>0.35</td>\n",
       "      <td>0.35</td>\n",
       "      <td>0.35</td>\n",
       "      <td>0.35</td>\n",
       "      <td>0.35</td>\n",
       "    </tr>\n",
       "    <tr>\n",
       "      <th>Revenue</th>\n",
       "      <td>0.0</td>\n",
       "      <td>0.0</td>\n",
       "      <td>0.0</td>\n",
       "      <td>0.0</td>\n",
       "      <td>0.0</td>\n",
       "    </tr>\n",
       "    <tr>\n",
       "      <th>CTR</th>\n",
       "      <td>0.31</td>\n",
       "      <td>0.0</td>\n",
       "      <td>0.0</td>\n",
       "      <td>0.0</td>\n",
       "      <td>0.0</td>\n",
       "    </tr>\n",
       "    <tr>\n",
       "      <th>CPM</th>\n",
       "      <td>0.0</td>\n",
       "      <td>0.0</td>\n",
       "      <td>0.0</td>\n",
       "      <td>0.0</td>\n",
       "      <td>0.0</td>\n",
       "    </tr>\n",
       "    <tr>\n",
       "      <th>CPC</th>\n",
       "      <td>0.0</td>\n",
       "      <td>0.0</td>\n",
       "      <td>0.0</td>\n",
       "      <td>0.0</td>\n",
       "      <td>0.0</td>\n",
       "    </tr>\n",
       "    <tr>\n",
       "      <th>Clus_kmeans</th>\n",
       "      <td>8</td>\n",
       "      <td>8</td>\n",
       "      <td>8</td>\n",
       "      <td>8</td>\n",
       "      <td>8</td>\n",
       "    </tr>\n",
       "    <tr>\n",
       "      <th>sil_width</th>\n",
       "      <td>0.851195</td>\n",
       "      <td>0.858649</td>\n",
       "      <td>0.643474</td>\n",
       "      <td>0.8586</td>\n",
       "      <td>0.858666</td>\n",
       "    </tr>\n",
       "  </tbody>\n",
       "</table>\n",
       "</div>"
      ],
      "text/plain": [
       "                                 0            1            2           3  \\\n",
       "Unnamed: 0                       0            1            2           3   \n",
       "Timestamp              2020-9-2-17  2020-9-2-18  2020-9-3-16  2020-9-3-2   \n",
       "InventoryType              Format1      Format1      Format6     Format1   \n",
       "Ad - Length                    300          300          336         300   \n",
       "Ad- Width                      250          250          250         250   \n",
       "Ad Size                      75000        75000        84000       75000   \n",
       "Ad Type                   Inter222     Inter223     Inter217    Inter224   \n",
       "Platform                     Video          Web          Web         Web   \n",
       "Device Type                Desktop       Mobile      Desktop     Desktop   \n",
       "Format                     Display      Display        Video     Display   \n",
       "Available_Impressions         1806         1979         1566         643   \n",
       "Matched_Queries                325          384          298         103   \n",
       "Impressions                    323          380          297         102   \n",
       "Clicks                           1            0            0           0   \n",
       "Spend                          0.0          0.0          0.0         0.0   \n",
       "Fee                           0.35         0.35         0.35        0.35   \n",
       "Revenue                        0.0          0.0          0.0         0.0   \n",
       "CTR                           0.31          0.0          0.0         0.0   \n",
       "CPM                            0.0          0.0          0.0         0.0   \n",
       "CPC                            0.0          0.0          0.0         0.0   \n",
       "Clus_kmeans                      8            8            8           8   \n",
       "sil_width                 0.851195     0.858649     0.643474      0.8586   \n",
       "\n",
       "                                 4  \n",
       "Unnamed: 0                       4  \n",
       "Timestamp              2020-9-3-13  \n",
       "InventoryType              Format1  \n",
       "Ad - Length                    300  \n",
       "Ad- Width                      250  \n",
       "Ad Size                      75000  \n",
       "Ad Type                   Inter225  \n",
       "Platform                     Video  \n",
       "Device Type                 Mobile  \n",
       "Format                     Display  \n",
       "Available_Impressions         1550  \n",
       "Matched_Queries                347  \n",
       "Impressions                    345  \n",
       "Clicks                           0  \n",
       "Spend                          0.0  \n",
       "Fee                           0.35  \n",
       "Revenue                        0.0  \n",
       "CTR                            0.0  \n",
       "CPM                            0.0  \n",
       "CPC                            0.0  \n",
       "Clus_kmeans                      8  \n",
       "sil_width                 0.858666  "
      ]
     },
     "execution_count": 75,
     "metadata": {},
     "output_type": "execute_result"
    }
   ],
   "source": [
    "new_df.head().T"
   ]
  },
  {
   "cell_type": "code",
   "execution_count": 76,
   "id": "aae43cf6",
   "metadata": {
    "ExecuteTime": {
     "end_time": "2022-10-09T14:39:27.945540Z",
     "start_time": "2022-10-09T14:39:20.978310Z"
    }
   },
   "outputs": [
    {
     "data": {
      "image/png": "[encoded data removed]",
      "text/plain": [
       "<Figure size 1080x1800 with 6 Axes>"
      ]
     },
     "metadata": {},
     "output_type": "display_data"
    }
   ],
   "source": [
    "fig, axes = plt.subplots(nrows=3,ncols=2)\n",
    "fig.set_size_inches(15,25)\n",
    "sns.barplot(data=new_df,y='Revenue',x='Clus_kmeans', ci=False, hue='Device Type',ax=axes[0][0]);\n",
    "sns.barplot(data=new_df,y='Spend',x='Clus_kmeans', ci=False, hue='Device Type',ax=axes[0][1]);\n",
    "sns.barplot(data=new_df,y='Clicks',x='Clus_kmeans', ci=False, hue='Device Type',ax=axes[1][0]);\n",
    "sns.barplot(data=new_df,y='CPM',x='Clus_kmeans', ci=False, hue='Device Type',ax=axes[1][1]);\n",
    "sns.barplot(data=new_df,y='CPC',x='Clus_kmeans', ci=False, hue='Device Type',ax=axes[2][0]);\n",
    "sns.barplot(data=new_df,y='CTR',x='Clus_kmeans', ci=False, hue='Device Type',ax=axes[2][1]);\n"
   ]
  },
  {
   "cell_type": "code",
   "execution_count": null,
   "id": "b14adda7",
   "metadata": {},
   "outputs": [],
   "source": []
  }
 ],
 "metadata": {
  "hide_input": false,
  "kernelspec": {
   "display_name": "Python 3 (ipykernel)",
   "language": "python",
   "name": "python3"
  },
  "language_info": {
   "codemirror_mode": {
    "name": "ipython",
    "version": 3
   },
   "file_extension": ".py",
   "mimetype": "text/x-python",
   "name": "python",
   "nbconvert_exporter": "python",
   "pygments_lexer": "ipython3",
   "version": "3.9.12"
  },
  "latex_envs": {
   "LaTeX_envs_menu_present": true,
   "autoclose": false,
   "autocomplete": true,
   "bibliofile": "biblio.bib",
   "cite_by": "apalike",
   "current_citInitial": 1,
   "eqLabelWithNumbers": true,
   "eqNumInitial": 1,
   "hotkeys": {
    "equation": "Ctrl-E",
    "itemize": "Ctrl-I"
   },
   "labels_anchors": false,
   "latex_user_defs": false,
   "report_style_numbering": false,
   "user_envs_cfg": false
  },
  "nbTranslate": {
   "displayLangs": [
    "*"
   ],
   "hotkey": "alt-t",
   "langInMainMenu": true,
   "sourceLang": "en",
   "targetLang": "fr",
   "useGoogleTranslate": true
  },
  "toc": {
   "base_numbering": 1,
   "nav_menu": {},
   "number_sections": true,
   "sideBar": true,
   "skip_h1_title": false,
   "title_cell": "Table of Contents",
   "title_sidebar": "Contents",
   "toc_cell": false,
   "toc_position": {},
   "toc_section_display": true,
   "toc_window_display": false
  },
  "varInspector": {
   "cols": {
    "lenName": 16,
    "lenType": 16,
    "lenVar": 40
   },
   "kernels_config": {
    "python": {
     "delete_cmd_postfix": "",
     "delete_cmd_prefix": "del ",
     "library": "var_list.py",
     "varRefreshCmd": "print(var_dic_list())"
    },
    "r": {
     "delete_cmd_postfix": ") ",
     "delete_cmd_prefix": "rm(",
     "library": "var_list.r",
     "varRefreshCmd": "cat(var_dic_list()) "
    }
   },
   "types_to_exclude": [
    "module",
    "function",
    "builtin_function_or_method",
    "instance",
    "_Feature"
   ],
   "window_display": false
  }
 },
 "nbformat": 4,
 "nbformat_minor": 5
}
